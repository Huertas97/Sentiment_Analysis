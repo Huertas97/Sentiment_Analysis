{
  "nbformat": 4,
  "nbformat_minor": 0,
  "metadata": {
    "colab": {
      "name": "TASS_data",
      "provenance": [],
      "collapsed_sections": [],
      "mount_file_id": "1-ZC9IKuVJqBoc4EHE_BnGRPhydC5-ke2",
      "authorship_tag": "ABX9TyOassnmmvZmxxL4zO3rHQX2",
      "include_colab_link": true
    },
    "kernelspec": {
      "name": "python3",
      "display_name": "Python 3"
    },
    "widgets": {
      "application/vnd.jupyter.widget-state+json": {
        "9608b25cb4ea434197546839a9ed1f44": {
          "model_module": "@jupyter-widgets/controls",
          "model_name": "HBoxModel",
          "state": {
            "_view_name": "HBoxView",
            "_dom_classes": [],
            "_model_name": "HBoxModel",
            "_view_module": "@jupyter-widgets/controls",
            "_model_module_version": "1.5.0",
            "_view_count": null,
            "_view_module_version": "1.5.0",
            "box_style": "",
            "layout": "IPY_MODEL_f8337419f1b44e42b4a0d0ceb203874b",
            "_model_module": "@jupyter-widgets/controls",
            "children": [
              "IPY_MODEL_f568e18a2a7849fd82d3856431d2f96c",
              "IPY_MODEL_b1c41c51c0ac4b3eb1a5996c57bf0ccb"
            ]
          }
        },
        "f8337419f1b44e42b4a0d0ceb203874b": {
          "model_module": "@jupyter-widgets/base",
          "model_name": "LayoutModel",
          "state": {
            "_view_name": "LayoutView",
            "grid_template_rows": null,
            "right": null,
            "justify_content": null,
            "_view_module": "@jupyter-widgets/base",
            "overflow": null,
            "_model_module_version": "1.2.0",
            "_view_count": null,
            "flex_flow": null,
            "width": null,
            "min_width": null,
            "border": null,
            "align_items": null,
            "bottom": null,
            "_model_module": "@jupyter-widgets/base",
            "top": null,
            "grid_column": null,
            "overflow_y": null,
            "overflow_x": null,
            "grid_auto_flow": null,
            "grid_area": null,
            "grid_template_columns": null,
            "flex": null,
            "_model_name": "LayoutModel",
            "justify_items": null,
            "grid_row": null,
            "max_height": null,
            "align_content": null,
            "visibility": null,
            "align_self": null,
            "height": null,
            "min_height": null,
            "padding": null,
            "grid_auto_rows": null,
            "grid_gap": null,
            "max_width": null,
            "order": null,
            "_view_module_version": "1.2.0",
            "grid_template_areas": null,
            "object_position": null,
            "object_fit": null,
            "grid_auto_columns": null,
            "margin": null,
            "display": null,
            "left": null
          }
        },
        "f568e18a2a7849fd82d3856431d2f96c": {
          "model_module": "@jupyter-widgets/controls",
          "model_name": "FloatProgressModel",
          "state": {
            "_view_name": "ProgressView",
            "style": "IPY_MODEL_82af80718ee6469da3c752ef5d1b30da",
            "_dom_classes": [],
            "description": "Tweets: 100%",
            "_model_name": "FloatProgressModel",
            "bar_style": "success",
            "max": 7219,
            "_view_module": "@jupyter-widgets/controls",
            "_model_module_version": "1.5.0",
            "value": 7219,
            "_view_count": null,
            "_view_module_version": "1.5.0",
            "orientation": "horizontal",
            "min": 0,
            "description_tooltip": null,
            "_model_module": "@jupyter-widgets/controls",
            "layout": "IPY_MODEL_772c053e15784e7e89771654ff037f2b"
          }
        },
        "b1c41c51c0ac4b3eb1a5996c57bf0ccb": {
          "model_module": "@jupyter-widgets/controls",
          "model_name": "HTMLModel",
          "state": {
            "_view_name": "HTMLView",
            "style": "IPY_MODEL_fb24b96f041c4eaaa3df61d0a7c0789d",
            "_dom_classes": [],
            "description": "",
            "_model_name": "HTMLModel",
            "placeholder": "​",
            "_view_module": "@jupyter-widgets/controls",
            "_model_module_version": "1.5.0",
            "value": " 7219/7219 [00:59&lt;00:00, 121.73it/s]",
            "_view_count": null,
            "_view_module_version": "1.5.0",
            "description_tooltip": null,
            "_model_module": "@jupyter-widgets/controls",
            "layout": "IPY_MODEL_71a3f40163cb4516b020b43a3615f1ed"
          }
        },
        "82af80718ee6469da3c752ef5d1b30da": {
          "model_module": "@jupyter-widgets/controls",
          "model_name": "ProgressStyleModel",
          "state": {
            "_view_name": "StyleView",
            "_model_name": "ProgressStyleModel",
            "description_width": "initial",
            "_view_module": "@jupyter-widgets/base",
            "_model_module_version": "1.5.0",
            "_view_count": null,
            "_view_module_version": "1.2.0",
            "bar_color": null,
            "_model_module": "@jupyter-widgets/controls"
          }
        },
        "772c053e15784e7e89771654ff037f2b": {
          "model_module": "@jupyter-widgets/base",
          "model_name": "LayoutModel",
          "state": {
            "_view_name": "LayoutView",
            "grid_template_rows": null,
            "right": null,
            "justify_content": null,
            "_view_module": "@jupyter-widgets/base",
            "overflow": null,
            "_model_module_version": "1.2.0",
            "_view_count": null,
            "flex_flow": null,
            "width": null,
            "min_width": null,
            "border": null,
            "align_items": null,
            "bottom": null,
            "_model_module": "@jupyter-widgets/base",
            "top": null,
            "grid_column": null,
            "overflow_y": null,
            "overflow_x": null,
            "grid_auto_flow": null,
            "grid_area": null,
            "grid_template_columns": null,
            "flex": null,
            "_model_name": "LayoutModel",
            "justify_items": null,
            "grid_row": null,
            "max_height": null,
            "align_content": null,
            "visibility": null,
            "align_self": null,
            "height": null,
            "min_height": null,
            "padding": null,
            "grid_auto_rows": null,
            "grid_gap": null,
            "max_width": null,
            "order": null,
            "_view_module_version": "1.2.0",
            "grid_template_areas": null,
            "object_position": null,
            "object_fit": null,
            "grid_auto_columns": null,
            "margin": null,
            "display": null,
            "left": null
          }
        },
        "fb24b96f041c4eaaa3df61d0a7c0789d": {
          "model_module": "@jupyter-widgets/controls",
          "model_name": "DescriptionStyleModel",
          "state": {
            "_view_name": "StyleView",
            "_model_name": "DescriptionStyleModel",
            "description_width": "",
            "_view_module": "@jupyter-widgets/base",
            "_model_module_version": "1.5.0",
            "_view_count": null,
            "_view_module_version": "1.2.0",
            "_model_module": "@jupyter-widgets/controls"
          }
        },
        "71a3f40163cb4516b020b43a3615f1ed": {
          "model_module": "@jupyter-widgets/base",
          "model_name": "LayoutModel",
          "state": {
            "_view_name": "LayoutView",
            "grid_template_rows": null,
            "right": null,
            "justify_content": null,
            "_view_module": "@jupyter-widgets/base",
            "overflow": null,
            "_model_module_version": "1.2.0",
            "_view_count": null,
            "flex_flow": null,
            "width": null,
            "min_width": null,
            "border": null,
            "align_items": null,
            "bottom": null,
            "_model_module": "@jupyter-widgets/base",
            "top": null,
            "grid_column": null,
            "overflow_y": null,
            "overflow_x": null,
            "grid_auto_flow": null,
            "grid_area": null,
            "grid_template_columns": null,
            "flex": null,
            "_model_name": "LayoutModel",
            "justify_items": null,
            "grid_row": null,
            "max_height": null,
            "align_content": null,
            "visibility": null,
            "align_self": null,
            "height": null,
            "min_height": null,
            "padding": null,
            "grid_auto_rows": null,
            "grid_gap": null,
            "max_width": null,
            "order": null,
            "_view_module_version": "1.2.0",
            "grid_template_areas": null,
            "object_position": null,
            "object_fit": null,
            "grid_auto_columns": null,
            "margin": null,
            "display": null,
            "left": null
          }
        },
        "f7ae9bb06b2a4b308bc68cda472deb02": {
          "model_module": "@jupyter-widgets/controls",
          "model_name": "HBoxModel",
          "state": {
            "_view_name": "HBoxView",
            "_dom_classes": [],
            "_model_name": "HBoxModel",
            "_view_module": "@jupyter-widgets/controls",
            "_model_module_version": "1.5.0",
            "_view_count": null,
            "_view_module_version": "1.5.0",
            "box_style": "",
            "layout": "IPY_MODEL_b2d44a30403542f7a0272cd27067ebd6",
            "_model_module": "@jupyter-widgets/controls",
            "children": [
              "IPY_MODEL_d6ab42aaf0654fc7b51f5fa4290c826d",
              "IPY_MODEL_fdb74bc6a13a4924acfa72292a283a3b"
            ]
          }
        },
        "b2d44a30403542f7a0272cd27067ebd6": {
          "model_module": "@jupyter-widgets/base",
          "model_name": "LayoutModel",
          "state": {
            "_view_name": "LayoutView",
            "grid_template_rows": null,
            "right": null,
            "justify_content": null,
            "_view_module": "@jupyter-widgets/base",
            "overflow": null,
            "_model_module_version": "1.2.0",
            "_view_count": null,
            "flex_flow": null,
            "width": null,
            "min_width": null,
            "border": null,
            "align_items": null,
            "bottom": null,
            "_model_module": "@jupyter-widgets/base",
            "top": null,
            "grid_column": null,
            "overflow_y": null,
            "overflow_x": null,
            "grid_auto_flow": null,
            "grid_area": null,
            "grid_template_columns": null,
            "flex": null,
            "_model_name": "LayoutModel",
            "justify_items": null,
            "grid_row": null,
            "max_height": null,
            "align_content": null,
            "visibility": null,
            "align_self": null,
            "height": null,
            "min_height": null,
            "padding": null,
            "grid_auto_rows": null,
            "grid_gap": null,
            "max_width": null,
            "order": null,
            "_view_module_version": "1.2.0",
            "grid_template_areas": null,
            "object_position": null,
            "object_fit": null,
            "grid_auto_columns": null,
            "margin": null,
            "display": null,
            "left": null
          }
        },
        "d6ab42aaf0654fc7b51f5fa4290c826d": {
          "model_module": "@jupyter-widgets/controls",
          "model_name": "FloatProgressModel",
          "state": {
            "_view_name": "ProgressView",
            "style": "IPY_MODEL_bf732efccda442a6bd6f6a8cd8c2b86d",
            "_dom_classes": [],
            "description": "Tweets: 100%",
            "_model_name": "FloatProgressModel",
            "bar_style": "success",
            "max": 60798,
            "_view_module": "@jupyter-widgets/controls",
            "_model_module_version": "1.5.0",
            "value": 60798,
            "_view_count": null,
            "_view_module_version": "1.5.0",
            "orientation": "horizontal",
            "min": 0,
            "description_tooltip": null,
            "_model_module": "@jupyter-widgets/controls",
            "layout": "IPY_MODEL_c916f830f99b48a4a9ae4ff2cf28d5c9"
          }
        },
        "fdb74bc6a13a4924acfa72292a283a3b": {
          "model_module": "@jupyter-widgets/controls",
          "model_name": "HTMLModel",
          "state": {
            "_view_name": "HTMLView",
            "style": "IPY_MODEL_c426f26957b648ab915b67b6e2ccc7cf",
            "_dom_classes": [],
            "description": "",
            "_model_name": "HTMLModel",
            "placeholder": "​",
            "_view_module": "@jupyter-widgets/controls",
            "_model_module_version": "1.5.0",
            "value": " 60798/60798 [19:44&lt;00:00, 51.33it/s]",
            "_view_count": null,
            "_view_module_version": "1.5.0",
            "description_tooltip": null,
            "_model_module": "@jupyter-widgets/controls",
            "layout": "IPY_MODEL_5796c5f454ca4ef7b45b1d90871e3149"
          }
        },
        "bf732efccda442a6bd6f6a8cd8c2b86d": {
          "model_module": "@jupyter-widgets/controls",
          "model_name": "ProgressStyleModel",
          "state": {
            "_view_name": "StyleView",
            "_model_name": "ProgressStyleModel",
            "description_width": "initial",
            "_view_module": "@jupyter-widgets/base",
            "_model_module_version": "1.5.0",
            "_view_count": null,
            "_view_module_version": "1.2.0",
            "bar_color": null,
            "_model_module": "@jupyter-widgets/controls"
          }
        },
        "c916f830f99b48a4a9ae4ff2cf28d5c9": {
          "model_module": "@jupyter-widgets/base",
          "model_name": "LayoutModel",
          "state": {
            "_view_name": "LayoutView",
            "grid_template_rows": null,
            "right": null,
            "justify_content": null,
            "_view_module": "@jupyter-widgets/base",
            "overflow": null,
            "_model_module_version": "1.2.0",
            "_view_count": null,
            "flex_flow": null,
            "width": null,
            "min_width": null,
            "border": null,
            "align_items": null,
            "bottom": null,
            "_model_module": "@jupyter-widgets/base",
            "top": null,
            "grid_column": null,
            "overflow_y": null,
            "overflow_x": null,
            "grid_auto_flow": null,
            "grid_area": null,
            "grid_template_columns": null,
            "flex": null,
            "_model_name": "LayoutModel",
            "justify_items": null,
            "grid_row": null,
            "max_height": null,
            "align_content": null,
            "visibility": null,
            "align_self": null,
            "height": null,
            "min_height": null,
            "padding": null,
            "grid_auto_rows": null,
            "grid_gap": null,
            "max_width": null,
            "order": null,
            "_view_module_version": "1.2.0",
            "grid_template_areas": null,
            "object_position": null,
            "object_fit": null,
            "grid_auto_columns": null,
            "margin": null,
            "display": null,
            "left": null
          }
        },
        "c426f26957b648ab915b67b6e2ccc7cf": {
          "model_module": "@jupyter-widgets/controls",
          "model_name": "DescriptionStyleModel",
          "state": {
            "_view_name": "StyleView",
            "_model_name": "DescriptionStyleModel",
            "description_width": "",
            "_view_module": "@jupyter-widgets/base",
            "_model_module_version": "1.5.0",
            "_view_count": null,
            "_view_module_version": "1.2.0",
            "_model_module": "@jupyter-widgets/controls"
          }
        },
        "5796c5f454ca4ef7b45b1d90871e3149": {
          "model_module": "@jupyter-widgets/base",
          "model_name": "LayoutModel",
          "state": {
            "_view_name": "LayoutView",
            "grid_template_rows": null,
            "right": null,
            "justify_content": null,
            "_view_module": "@jupyter-widgets/base",
            "overflow": null,
            "_model_module_version": "1.2.0",
            "_view_count": null,
            "flex_flow": null,
            "width": null,
            "min_width": null,
            "border": null,
            "align_items": null,
            "bottom": null,
            "_model_module": "@jupyter-widgets/base",
            "top": null,
            "grid_column": null,
            "overflow_y": null,
            "overflow_x": null,
            "grid_auto_flow": null,
            "grid_area": null,
            "grid_template_columns": null,
            "flex": null,
            "_model_name": "LayoutModel",
            "justify_items": null,
            "grid_row": null,
            "max_height": null,
            "align_content": null,
            "visibility": null,
            "align_self": null,
            "height": null,
            "min_height": null,
            "padding": null,
            "grid_auto_rows": null,
            "grid_gap": null,
            "max_width": null,
            "order": null,
            "_view_module_version": "1.2.0",
            "grid_template_areas": null,
            "object_position": null,
            "object_fit": null,
            "grid_auto_columns": null,
            "margin": null,
            "display": null,
            "left": null
          }
        },
        "c6d08c39d0754759928716715b90d5fb": {
          "model_module": "@jupyter-widgets/controls",
          "model_name": "HBoxModel",
          "state": {
            "_view_name": "HBoxView",
            "_dom_classes": [],
            "_model_name": "HBoxModel",
            "_view_module": "@jupyter-widgets/controls",
            "_model_module_version": "1.5.0",
            "_view_count": null,
            "_view_module_version": "1.5.0",
            "box_style": "",
            "layout": "IPY_MODEL_7b372f699d904681a5b3b49cf60416c1",
            "_model_module": "@jupyter-widgets/controls",
            "children": [
              "IPY_MODEL_620457f5d98a4a28b4e62a156e196ae6",
              "IPY_MODEL_faa249df6adf42bab79f65753c8aec33"
            ]
          }
        },
        "7b372f699d904681a5b3b49cf60416c1": {
          "model_module": "@jupyter-widgets/base",
          "model_name": "LayoutModel",
          "state": {
            "_view_name": "LayoutView",
            "grid_template_rows": null,
            "right": null,
            "justify_content": null,
            "_view_module": "@jupyter-widgets/base",
            "overflow": null,
            "_model_module_version": "1.2.0",
            "_view_count": null,
            "flex_flow": null,
            "width": null,
            "min_width": null,
            "border": null,
            "align_items": null,
            "bottom": null,
            "_model_module": "@jupyter-widgets/base",
            "top": null,
            "grid_column": null,
            "overflow_y": null,
            "overflow_x": null,
            "grid_auto_flow": null,
            "grid_area": null,
            "grid_template_columns": null,
            "flex": null,
            "_model_name": "LayoutModel",
            "justify_items": null,
            "grid_row": null,
            "max_height": null,
            "align_content": null,
            "visibility": null,
            "align_self": null,
            "height": null,
            "min_height": null,
            "padding": null,
            "grid_auto_rows": null,
            "grid_gap": null,
            "max_width": null,
            "order": null,
            "_view_module_version": "1.2.0",
            "grid_template_areas": null,
            "object_position": null,
            "object_fit": null,
            "grid_auto_columns": null,
            "margin": null,
            "display": null,
            "left": null
          }
        },
        "620457f5d98a4a28b4e62a156e196ae6": {
          "model_module": "@jupyter-widgets/controls",
          "model_name": "FloatProgressModel",
          "state": {
            "_view_name": "ProgressView",
            "style": "IPY_MODEL_600b24d0450b459dab71224d221f51ca",
            "_dom_classes": [],
            "description": "Tweets: 100%",
            "_model_name": "FloatProgressModel",
            "bar_style": "success",
            "max": 784,
            "_view_module": "@jupyter-widgets/controls",
            "_model_module_version": "1.5.0",
            "value": 784,
            "_view_count": null,
            "_view_module_version": "1.5.0",
            "orientation": "horizontal",
            "min": 0,
            "description_tooltip": null,
            "_model_module": "@jupyter-widgets/controls",
            "layout": "IPY_MODEL_ac64a2b7cc694f4f85d817f9a22d2889"
          }
        },
        "faa249df6adf42bab79f65753c8aec33": {
          "model_module": "@jupyter-widgets/controls",
          "model_name": "HTMLModel",
          "state": {
            "_view_name": "HTMLView",
            "style": "IPY_MODEL_6fb80dfb253c450cbc0c66e32b0c1e86",
            "_dom_classes": [],
            "description": "",
            "_model_name": "HTMLModel",
            "placeholder": "​",
            "_view_module": "@jupyter-widgets/controls",
            "_model_module_version": "1.5.0",
            "value": " 784/784 [01:23&lt;00:00,  9.44it/s]",
            "_view_count": null,
            "_view_module_version": "1.5.0",
            "description_tooltip": null,
            "_model_module": "@jupyter-widgets/controls",
            "layout": "IPY_MODEL_90740aa4b3044b89a3fe52297540d9bb"
          }
        },
        "600b24d0450b459dab71224d221f51ca": {
          "model_module": "@jupyter-widgets/controls",
          "model_name": "ProgressStyleModel",
          "state": {
            "_view_name": "StyleView",
            "_model_name": "ProgressStyleModel",
            "description_width": "initial",
            "_view_module": "@jupyter-widgets/base",
            "_model_module_version": "1.5.0",
            "_view_count": null,
            "_view_module_version": "1.2.0",
            "bar_color": null,
            "_model_module": "@jupyter-widgets/controls"
          }
        },
        "ac64a2b7cc694f4f85d817f9a22d2889": {
          "model_module": "@jupyter-widgets/base",
          "model_name": "LayoutModel",
          "state": {
            "_view_name": "LayoutView",
            "grid_template_rows": null,
            "right": null,
            "justify_content": null,
            "_view_module": "@jupyter-widgets/base",
            "overflow": null,
            "_model_module_version": "1.2.0",
            "_view_count": null,
            "flex_flow": null,
            "width": null,
            "min_width": null,
            "border": null,
            "align_items": null,
            "bottom": null,
            "_model_module": "@jupyter-widgets/base",
            "top": null,
            "grid_column": null,
            "overflow_y": null,
            "overflow_x": null,
            "grid_auto_flow": null,
            "grid_area": null,
            "grid_template_columns": null,
            "flex": null,
            "_model_name": "LayoutModel",
            "justify_items": null,
            "grid_row": null,
            "max_height": null,
            "align_content": null,
            "visibility": null,
            "align_self": null,
            "height": null,
            "min_height": null,
            "padding": null,
            "grid_auto_rows": null,
            "grid_gap": null,
            "max_width": null,
            "order": null,
            "_view_module_version": "1.2.0",
            "grid_template_areas": null,
            "object_position": null,
            "object_fit": null,
            "grid_auto_columns": null,
            "margin": null,
            "display": null,
            "left": null
          }
        },
        "6fb80dfb253c450cbc0c66e32b0c1e86": {
          "model_module": "@jupyter-widgets/controls",
          "model_name": "DescriptionStyleModel",
          "state": {
            "_view_name": "StyleView",
            "_model_name": "DescriptionStyleModel",
            "description_width": "",
            "_view_module": "@jupyter-widgets/base",
            "_model_module_version": "1.5.0",
            "_view_count": null,
            "_view_module_version": "1.2.0",
            "_model_module": "@jupyter-widgets/controls"
          }
        },
        "90740aa4b3044b89a3fe52297540d9bb": {
          "model_module": "@jupyter-widgets/base",
          "model_name": "LayoutModel",
          "state": {
            "_view_name": "LayoutView",
            "grid_template_rows": null,
            "right": null,
            "justify_content": null,
            "_view_module": "@jupyter-widgets/base",
            "overflow": null,
            "_model_module_version": "1.2.0",
            "_view_count": null,
            "flex_flow": null,
            "width": null,
            "min_width": null,
            "border": null,
            "align_items": null,
            "bottom": null,
            "_model_module": "@jupyter-widgets/base",
            "top": null,
            "grid_column": null,
            "overflow_y": null,
            "overflow_x": null,
            "grid_auto_flow": null,
            "grid_area": null,
            "grid_template_columns": null,
            "flex": null,
            "_model_name": "LayoutModel",
            "justify_items": null,
            "grid_row": null,
            "max_height": null,
            "align_content": null,
            "visibility": null,
            "align_self": null,
            "height": null,
            "min_height": null,
            "padding": null,
            "grid_auto_rows": null,
            "grid_gap": null,
            "max_width": null,
            "order": null,
            "_view_module_version": "1.2.0",
            "grid_template_areas": null,
            "object_position": null,
            "object_fit": null,
            "grid_auto_columns": null,
            "margin": null,
            "display": null,
            "left": null
          }
        },
        "a7b2e00084d94cec889032f36e19b854": {
          "model_module": "@jupyter-widgets/controls",
          "model_name": "HBoxModel",
          "state": {
            "_view_name": "HBoxView",
            "_dom_classes": [],
            "_model_name": "HBoxModel",
            "_view_module": "@jupyter-widgets/controls",
            "_model_module_version": "1.5.0",
            "_view_count": null,
            "_view_module_version": "1.5.0",
            "box_style": "",
            "layout": "IPY_MODEL_f58573ccee3d4c46a092b7bc5c4a3917",
            "_model_module": "@jupyter-widgets/controls",
            "children": [
              "IPY_MODEL_ea60789b78c54044a10c0f8ed29b3ada",
              "IPY_MODEL_51ca3749916c432bad2d76ec0fc6d3f9"
            ]
          }
        },
        "f58573ccee3d4c46a092b7bc5c4a3917": {
          "model_module": "@jupyter-widgets/base",
          "model_name": "LayoutModel",
          "state": {
            "_view_name": "LayoutView",
            "grid_template_rows": null,
            "right": null,
            "justify_content": null,
            "_view_module": "@jupyter-widgets/base",
            "overflow": null,
            "_model_module_version": "1.2.0",
            "_view_count": null,
            "flex_flow": null,
            "width": null,
            "min_width": null,
            "border": null,
            "align_items": null,
            "bottom": null,
            "_model_module": "@jupyter-widgets/base",
            "top": null,
            "grid_column": null,
            "overflow_y": null,
            "overflow_x": null,
            "grid_auto_flow": null,
            "grid_area": null,
            "grid_template_columns": null,
            "flex": null,
            "_model_name": "LayoutModel",
            "justify_items": null,
            "grid_row": null,
            "max_height": null,
            "align_content": null,
            "visibility": null,
            "align_self": null,
            "height": null,
            "min_height": null,
            "padding": null,
            "grid_auto_rows": null,
            "grid_gap": null,
            "max_width": null,
            "order": null,
            "_view_module_version": "1.2.0",
            "grid_template_areas": null,
            "object_position": null,
            "object_fit": null,
            "grid_auto_columns": null,
            "margin": null,
            "display": null,
            "left": null
          }
        },
        "ea60789b78c54044a10c0f8ed29b3ada": {
          "model_module": "@jupyter-widgets/controls",
          "model_name": "FloatProgressModel",
          "state": {
            "_view_name": "ProgressView",
            "style": "IPY_MODEL_060f4c7649a642c994c6e6a8a5639b0f",
            "_dom_classes": [],
            "description": "Tweets: 100%",
            "_model_name": "FloatProgressModel",
            "bar_style": "success",
            "max": 1773,
            "_view_module": "@jupyter-widgets/controls",
            "_model_module_version": "1.5.0",
            "value": 1773,
            "_view_count": null,
            "_view_module_version": "1.5.0",
            "orientation": "horizontal",
            "min": 0,
            "description_tooltip": null,
            "_model_module": "@jupyter-widgets/controls",
            "layout": "IPY_MODEL_b2ff746ef4f949b088fb8f4683c3db93"
          }
        },
        "51ca3749916c432bad2d76ec0fc6d3f9": {
          "model_module": "@jupyter-widgets/controls",
          "model_name": "HTMLModel",
          "state": {
            "_view_name": "HTMLView",
            "style": "IPY_MODEL_278a84e4cbc348e3adba25bc5078bcab",
            "_dom_classes": [],
            "description": "",
            "_model_name": "HTMLModel",
            "placeholder": "​",
            "_view_module": "@jupyter-widgets/controls",
            "_model_module_version": "1.5.0",
            "value": " 1773/1773 [00:28&lt;00:00, 62.94it/s]",
            "_view_count": null,
            "_view_module_version": "1.5.0",
            "description_tooltip": null,
            "_model_module": "@jupyter-widgets/controls",
            "layout": "IPY_MODEL_f8f3d4e48e954559b5930549989aea26"
          }
        },
        "060f4c7649a642c994c6e6a8a5639b0f": {
          "model_module": "@jupyter-widgets/controls",
          "model_name": "ProgressStyleModel",
          "state": {
            "_view_name": "StyleView",
            "_model_name": "ProgressStyleModel",
            "description_width": "initial",
            "_view_module": "@jupyter-widgets/base",
            "_model_module_version": "1.5.0",
            "_view_count": null,
            "_view_module_version": "1.2.0",
            "bar_color": null,
            "_model_module": "@jupyter-widgets/controls"
          }
        },
        "b2ff746ef4f949b088fb8f4683c3db93": {
          "model_module": "@jupyter-widgets/base",
          "model_name": "LayoutModel",
          "state": {
            "_view_name": "LayoutView",
            "grid_template_rows": null,
            "right": null,
            "justify_content": null,
            "_view_module": "@jupyter-widgets/base",
            "overflow": null,
            "_model_module_version": "1.2.0",
            "_view_count": null,
            "flex_flow": null,
            "width": null,
            "min_width": null,
            "border": null,
            "align_items": null,
            "bottom": null,
            "_model_module": "@jupyter-widgets/base",
            "top": null,
            "grid_column": null,
            "overflow_y": null,
            "overflow_x": null,
            "grid_auto_flow": null,
            "grid_area": null,
            "grid_template_columns": null,
            "flex": null,
            "_model_name": "LayoutModel",
            "justify_items": null,
            "grid_row": null,
            "max_height": null,
            "align_content": null,
            "visibility": null,
            "align_self": null,
            "height": null,
            "min_height": null,
            "padding": null,
            "grid_auto_rows": null,
            "grid_gap": null,
            "max_width": null,
            "order": null,
            "_view_module_version": "1.2.0",
            "grid_template_areas": null,
            "object_position": null,
            "object_fit": null,
            "grid_auto_columns": null,
            "margin": null,
            "display": null,
            "left": null
          }
        },
        "278a84e4cbc348e3adba25bc5078bcab": {
          "model_module": "@jupyter-widgets/controls",
          "model_name": "DescriptionStyleModel",
          "state": {
            "_view_name": "StyleView",
            "_model_name": "DescriptionStyleModel",
            "description_width": "",
            "_view_module": "@jupyter-widgets/base",
            "_model_module_version": "1.5.0",
            "_view_count": null,
            "_view_module_version": "1.2.0",
            "_model_module": "@jupyter-widgets/controls"
          }
        },
        "f8f3d4e48e954559b5930549989aea26": {
          "model_module": "@jupyter-widgets/base",
          "model_name": "LayoutModel",
          "state": {
            "_view_name": "LayoutView",
            "grid_template_rows": null,
            "right": null,
            "justify_content": null,
            "_view_module": "@jupyter-widgets/base",
            "overflow": null,
            "_model_module_version": "1.2.0",
            "_view_count": null,
            "flex_flow": null,
            "width": null,
            "min_width": null,
            "border": null,
            "align_items": null,
            "bottom": null,
            "_model_module": "@jupyter-widgets/base",
            "top": null,
            "grid_column": null,
            "overflow_y": null,
            "overflow_x": null,
            "grid_auto_flow": null,
            "grid_area": null,
            "grid_template_columns": null,
            "flex": null,
            "_model_name": "LayoutModel",
            "justify_items": null,
            "grid_row": null,
            "max_height": null,
            "align_content": null,
            "visibility": null,
            "align_self": null,
            "height": null,
            "min_height": null,
            "padding": null,
            "grid_auto_rows": null,
            "grid_gap": null,
            "max_width": null,
            "order": null,
            "_view_module_version": "1.2.0",
            "grid_template_areas": null,
            "object_position": null,
            "object_fit": null,
            "grid_auto_columns": null,
            "margin": null,
            "display": null,
            "left": null
          }
        },
        "974bd41717b24c6db54e9ee60135b325": {
          "model_module": "@jupyter-widgets/controls",
          "model_name": "HBoxModel",
          "state": {
            "_view_name": "HBoxView",
            "_dom_classes": [],
            "_model_name": "HBoxModel",
            "_view_module": "@jupyter-widgets/controls",
            "_model_module_version": "1.5.0",
            "_view_count": null,
            "_view_module_version": "1.5.0",
            "box_style": "",
            "layout": "IPY_MODEL_1e8b53327c1145b1a0e8dfeb7a4156d3",
            "_model_module": "@jupyter-widgets/controls",
            "children": [
              "IPY_MODEL_f20341121a374de883cf22d69ecb53cd",
              "IPY_MODEL_b57ef9ea288b407e94708324e63ee4ed"
            ]
          }
        },
        "1e8b53327c1145b1a0e8dfeb7a4156d3": {
          "model_module": "@jupyter-widgets/base",
          "model_name": "LayoutModel",
          "state": {
            "_view_name": "LayoutView",
            "grid_template_rows": null,
            "right": null,
            "justify_content": null,
            "_view_module": "@jupyter-widgets/base",
            "overflow": null,
            "_model_module_version": "1.2.0",
            "_view_count": null,
            "flex_flow": null,
            "width": null,
            "min_width": null,
            "border": null,
            "align_items": null,
            "bottom": null,
            "_model_module": "@jupyter-widgets/base",
            "top": null,
            "grid_column": null,
            "overflow_y": null,
            "overflow_x": null,
            "grid_auto_flow": null,
            "grid_area": null,
            "grid_template_columns": null,
            "flex": null,
            "_model_name": "LayoutModel",
            "justify_items": null,
            "grid_row": null,
            "max_height": null,
            "align_content": null,
            "visibility": null,
            "align_self": null,
            "height": null,
            "min_height": null,
            "padding": null,
            "grid_auto_rows": null,
            "grid_gap": null,
            "max_width": null,
            "order": null,
            "_view_module_version": "1.2.0",
            "grid_template_areas": null,
            "object_position": null,
            "object_fit": null,
            "grid_auto_columns": null,
            "margin": null,
            "display": null,
            "left": null
          }
        },
        "f20341121a374de883cf22d69ecb53cd": {
          "model_module": "@jupyter-widgets/controls",
          "model_name": "FloatProgressModel",
          "state": {
            "_view_name": "ProgressView",
            "style": "IPY_MODEL_9757727c2a3b454d8bfa698398d485c9",
            "_dom_classes": [],
            "description": "Tweets: 100%",
            "_model_name": "FloatProgressModel",
            "bar_style": "success",
            "max": 1000,
            "_view_module": "@jupyter-widgets/controls",
            "_model_module_version": "1.5.0",
            "value": 1000,
            "_view_count": null,
            "_view_module_version": "1.5.0",
            "orientation": "horizontal",
            "min": 0,
            "description_tooltip": null,
            "_model_module": "@jupyter-widgets/controls",
            "layout": "IPY_MODEL_2bf4b8023a1d4e9f8f6eee7a3bb45513"
          }
        },
        "b57ef9ea288b407e94708324e63ee4ed": {
          "model_module": "@jupyter-widgets/controls",
          "model_name": "HTMLModel",
          "state": {
            "_view_name": "HTMLView",
            "style": "IPY_MODEL_197ad3a00bc848f1b616889bff3d7f6f",
            "_dom_classes": [],
            "description": "",
            "_model_name": "HTMLModel",
            "placeholder": "​",
            "_view_module": "@jupyter-widgets/controls",
            "_model_module_version": "1.5.0",
            "value": " 1000/1000 [00:21&lt;00:00, 46.71it/s]",
            "_view_count": null,
            "_view_module_version": "1.5.0",
            "description_tooltip": null,
            "_model_module": "@jupyter-widgets/controls",
            "layout": "IPY_MODEL_148472838e664ca3806d6e6fd7a6847f"
          }
        },
        "9757727c2a3b454d8bfa698398d485c9": {
          "model_module": "@jupyter-widgets/controls",
          "model_name": "ProgressStyleModel",
          "state": {
            "_view_name": "StyleView",
            "_model_name": "ProgressStyleModel",
            "description_width": "initial",
            "_view_module": "@jupyter-widgets/base",
            "_model_module_version": "1.5.0",
            "_view_count": null,
            "_view_module_version": "1.2.0",
            "bar_color": null,
            "_model_module": "@jupyter-widgets/controls"
          }
        },
        "2bf4b8023a1d4e9f8f6eee7a3bb45513": {
          "model_module": "@jupyter-widgets/base",
          "model_name": "LayoutModel",
          "state": {
            "_view_name": "LayoutView",
            "grid_template_rows": null,
            "right": null,
            "justify_content": null,
            "_view_module": "@jupyter-widgets/base",
            "overflow": null,
            "_model_module_version": "1.2.0",
            "_view_count": null,
            "flex_flow": null,
            "width": null,
            "min_width": null,
            "border": null,
            "align_items": null,
            "bottom": null,
            "_model_module": "@jupyter-widgets/base",
            "top": null,
            "grid_column": null,
            "overflow_y": null,
            "overflow_x": null,
            "grid_auto_flow": null,
            "grid_area": null,
            "grid_template_columns": null,
            "flex": null,
            "_model_name": "LayoutModel",
            "justify_items": null,
            "grid_row": null,
            "max_height": null,
            "align_content": null,
            "visibility": null,
            "align_self": null,
            "height": null,
            "min_height": null,
            "padding": null,
            "grid_auto_rows": null,
            "grid_gap": null,
            "max_width": null,
            "order": null,
            "_view_module_version": "1.2.0",
            "grid_template_areas": null,
            "object_position": null,
            "object_fit": null,
            "grid_auto_columns": null,
            "margin": null,
            "display": null,
            "left": null
          }
        },
        "197ad3a00bc848f1b616889bff3d7f6f": {
          "model_module": "@jupyter-widgets/controls",
          "model_name": "DescriptionStyleModel",
          "state": {
            "_view_name": "StyleView",
            "_model_name": "DescriptionStyleModel",
            "description_width": "",
            "_view_module": "@jupyter-widgets/base",
            "_model_module_version": "1.5.0",
            "_view_count": null,
            "_view_module_version": "1.2.0",
            "_model_module": "@jupyter-widgets/controls"
          }
        },
        "148472838e664ca3806d6e6fd7a6847f": {
          "model_module": "@jupyter-widgets/base",
          "model_name": "LayoutModel",
          "state": {
            "_view_name": "LayoutView",
            "grid_template_rows": null,
            "right": null,
            "justify_content": null,
            "_view_module": "@jupyter-widgets/base",
            "overflow": null,
            "_model_module_version": "1.2.0",
            "_view_count": null,
            "flex_flow": null,
            "width": null,
            "min_width": null,
            "border": null,
            "align_items": null,
            "bottom": null,
            "_model_module": "@jupyter-widgets/base",
            "top": null,
            "grid_column": null,
            "overflow_y": null,
            "overflow_x": null,
            "grid_auto_flow": null,
            "grid_area": null,
            "grid_template_columns": null,
            "flex": null,
            "_model_name": "LayoutModel",
            "justify_items": null,
            "grid_row": null,
            "max_height": null,
            "align_content": null,
            "visibility": null,
            "align_self": null,
            "height": null,
            "min_height": null,
            "padding": null,
            "grid_auto_rows": null,
            "grid_gap": null,
            "max_width": null,
            "order": null,
            "_view_module_version": "1.2.0",
            "grid_template_areas": null,
            "object_position": null,
            "object_fit": null,
            "grid_auto_columns": null,
            "margin": null,
            "display": null,
            "left": null
          }
        },
        "f042cf819fb1457e914f452057de0414": {
          "model_module": "@jupyter-widgets/controls",
          "model_name": "HBoxModel",
          "state": {
            "_view_name": "HBoxView",
            "_dom_classes": [],
            "_model_name": "HBoxModel",
            "_view_module": "@jupyter-widgets/controls",
            "_model_module_version": "1.5.0",
            "_view_count": null,
            "_view_module_version": "1.5.0",
            "box_style": "",
            "layout": "IPY_MODEL_e87c358d6ab34af587910b6f72c23fac",
            "_model_module": "@jupyter-widgets/controls",
            "children": [
              "IPY_MODEL_fb4e640ce39d47548209997e2064d2ef",
              "IPY_MODEL_a4942cfbe393437eb3ce5fe2dc282106"
            ]
          }
        },
        "e87c358d6ab34af587910b6f72c23fac": {
          "model_module": "@jupyter-widgets/base",
          "model_name": "LayoutModel",
          "state": {
            "_view_name": "LayoutView",
            "grid_template_rows": null,
            "right": null,
            "justify_content": null,
            "_view_module": "@jupyter-widgets/base",
            "overflow": null,
            "_model_module_version": "1.2.0",
            "_view_count": null,
            "flex_flow": null,
            "width": null,
            "min_width": null,
            "border": null,
            "align_items": null,
            "bottom": null,
            "_model_module": "@jupyter-widgets/base",
            "top": null,
            "grid_column": null,
            "overflow_y": null,
            "overflow_x": null,
            "grid_auto_flow": null,
            "grid_area": null,
            "grid_template_columns": null,
            "flex": null,
            "_model_name": "LayoutModel",
            "justify_items": null,
            "grid_row": null,
            "max_height": null,
            "align_content": null,
            "visibility": null,
            "align_self": null,
            "height": null,
            "min_height": null,
            "padding": null,
            "grid_auto_rows": null,
            "grid_gap": null,
            "max_width": null,
            "order": null,
            "_view_module_version": "1.2.0",
            "grid_template_areas": null,
            "object_position": null,
            "object_fit": null,
            "grid_auto_columns": null,
            "margin": null,
            "display": null,
            "left": null
          }
        },
        "fb4e640ce39d47548209997e2064d2ef": {
          "model_module": "@jupyter-widgets/controls",
          "model_name": "FloatProgressModel",
          "state": {
            "_view_name": "ProgressView",
            "style": "IPY_MODEL_f8ee4d529e3c43dfb399af6afc1741e4",
            "_dom_classes": [],
            "description": "Tweets: 100%",
            "_model_name": "FloatProgressModel",
            "bar_style": "success",
            "max": 2500,
            "_view_module": "@jupyter-widgets/controls",
            "_model_module_version": "1.5.0",
            "value": 2500,
            "_view_count": null,
            "_view_module_version": "1.5.0",
            "orientation": "horizontal",
            "min": 0,
            "description_tooltip": null,
            "_model_module": "@jupyter-widgets/controls",
            "layout": "IPY_MODEL_122fda0eb0fb44d9a2697ed61aec4a4c"
          }
        },
        "a4942cfbe393437eb3ce5fe2dc282106": {
          "model_module": "@jupyter-widgets/controls",
          "model_name": "HTMLModel",
          "state": {
            "_view_name": "HTMLView",
            "style": "IPY_MODEL_04d17ece5557458ca913e734e32895dc",
            "_dom_classes": [],
            "description": "",
            "_model_name": "HTMLModel",
            "placeholder": "​",
            "_view_module": "@jupyter-widgets/controls",
            "_model_module_version": "1.5.0",
            "value": " 2500/2500 [01:01&lt;00:00, 40.96it/s]",
            "_view_count": null,
            "_view_module_version": "1.5.0",
            "description_tooltip": null,
            "_model_module": "@jupyter-widgets/controls",
            "layout": "IPY_MODEL_7ca3673bba28476590b3fa9407f70034"
          }
        },
        "f8ee4d529e3c43dfb399af6afc1741e4": {
          "model_module": "@jupyter-widgets/controls",
          "model_name": "ProgressStyleModel",
          "state": {
            "_view_name": "StyleView",
            "_model_name": "ProgressStyleModel",
            "description_width": "initial",
            "_view_module": "@jupyter-widgets/base",
            "_model_module_version": "1.5.0",
            "_view_count": null,
            "_view_module_version": "1.2.0",
            "bar_color": null,
            "_model_module": "@jupyter-widgets/controls"
          }
        },
        "122fda0eb0fb44d9a2697ed61aec4a4c": {
          "model_module": "@jupyter-widgets/base",
          "model_name": "LayoutModel",
          "state": {
            "_view_name": "LayoutView",
            "grid_template_rows": null,
            "right": null,
            "justify_content": null,
            "_view_module": "@jupyter-widgets/base",
            "overflow": null,
            "_model_module_version": "1.2.0",
            "_view_count": null,
            "flex_flow": null,
            "width": null,
            "min_width": null,
            "border": null,
            "align_items": null,
            "bottom": null,
            "_model_module": "@jupyter-widgets/base",
            "top": null,
            "grid_column": null,
            "overflow_y": null,
            "overflow_x": null,
            "grid_auto_flow": null,
            "grid_area": null,
            "grid_template_columns": null,
            "flex": null,
            "_model_name": "LayoutModel",
            "justify_items": null,
            "grid_row": null,
            "max_height": null,
            "align_content": null,
            "visibility": null,
            "align_self": null,
            "height": null,
            "min_height": null,
            "padding": null,
            "grid_auto_rows": null,
            "grid_gap": null,
            "max_width": null,
            "order": null,
            "_view_module_version": "1.2.0",
            "grid_template_areas": null,
            "object_position": null,
            "object_fit": null,
            "grid_auto_columns": null,
            "margin": null,
            "display": null,
            "left": null
          }
        },
        "04d17ece5557458ca913e734e32895dc": {
          "model_module": "@jupyter-widgets/controls",
          "model_name": "DescriptionStyleModel",
          "state": {
            "_view_name": "StyleView",
            "_model_name": "DescriptionStyleModel",
            "description_width": "",
            "_view_module": "@jupyter-widgets/base",
            "_model_module_version": "1.5.0",
            "_view_count": null,
            "_view_module_version": "1.2.0",
            "_model_module": "@jupyter-widgets/controls"
          }
        },
        "7ca3673bba28476590b3fa9407f70034": {
          "model_module": "@jupyter-widgets/base",
          "model_name": "LayoutModel",
          "state": {
            "_view_name": "LayoutView",
            "grid_template_rows": null,
            "right": null,
            "justify_content": null,
            "_view_module": "@jupyter-widgets/base",
            "overflow": null,
            "_model_module_version": "1.2.0",
            "_view_count": null,
            "flex_flow": null,
            "width": null,
            "min_width": null,
            "border": null,
            "align_items": null,
            "bottom": null,
            "_model_module": "@jupyter-widgets/base",
            "top": null,
            "grid_column": null,
            "overflow_y": null,
            "overflow_x": null,
            "grid_auto_flow": null,
            "grid_area": null,
            "grid_template_columns": null,
            "flex": null,
            "_model_name": "LayoutModel",
            "justify_items": null,
            "grid_row": null,
            "max_height": null,
            "align_content": null,
            "visibility": null,
            "align_self": null,
            "height": null,
            "min_height": null,
            "padding": null,
            "grid_auto_rows": null,
            "grid_gap": null,
            "max_width": null,
            "order": null,
            "_view_module_version": "1.2.0",
            "grid_template_areas": null,
            "object_position": null,
            "object_fit": null,
            "grid_auto_columns": null,
            "margin": null,
            "display": null,
            "left": null
          }
        },
        "8aa28b3c35284e07b55801e2b6ec7a37": {
          "model_module": "@jupyter-widgets/controls",
          "model_name": "HBoxModel",
          "state": {
            "_view_name": "HBoxView",
            "_dom_classes": [],
            "_model_name": "HBoxModel",
            "_view_module": "@jupyter-widgets/controls",
            "_model_module_version": "1.5.0",
            "_view_count": null,
            "_view_module_version": "1.5.0",
            "box_style": "",
            "layout": "IPY_MODEL_22309390dde44ad89eb0a4e2b0fbf8a7",
            "_model_module": "@jupyter-widgets/controls",
            "children": [
              "IPY_MODEL_c94988d317f24feb9a10bee85dd1df9f",
              "IPY_MODEL_e787d8628ba24730a39766c16a313272"
            ]
          }
        },
        "22309390dde44ad89eb0a4e2b0fbf8a7": {
          "model_module": "@jupyter-widgets/base",
          "model_name": "LayoutModel",
          "state": {
            "_view_name": "LayoutView",
            "grid_template_rows": null,
            "right": null,
            "justify_content": null,
            "_view_module": "@jupyter-widgets/base",
            "overflow": null,
            "_model_module_version": "1.2.0",
            "_view_count": null,
            "flex_flow": null,
            "width": null,
            "min_width": null,
            "border": null,
            "align_items": null,
            "bottom": null,
            "_model_module": "@jupyter-widgets/base",
            "top": null,
            "grid_column": null,
            "overflow_y": null,
            "overflow_x": null,
            "grid_auto_flow": null,
            "grid_area": null,
            "grid_template_columns": null,
            "flex": null,
            "_model_name": "LayoutModel",
            "justify_items": null,
            "grid_row": null,
            "max_height": null,
            "align_content": null,
            "visibility": null,
            "align_self": null,
            "height": null,
            "min_height": null,
            "padding": null,
            "grid_auto_rows": null,
            "grid_gap": null,
            "max_width": null,
            "order": null,
            "_view_module_version": "1.2.0",
            "grid_template_areas": null,
            "object_position": null,
            "object_fit": null,
            "grid_auto_columns": null,
            "margin": null,
            "display": null,
            "left": null
          }
        },
        "c94988d317f24feb9a10bee85dd1df9f": {
          "model_module": "@jupyter-widgets/controls",
          "model_name": "FloatProgressModel",
          "state": {
            "_view_name": "ProgressView",
            "style": "IPY_MODEL_d49c2806359d4013a36e963dfbdf5188",
            "_dom_classes": [],
            "description": "Tweets: 100%",
            "_model_name": "FloatProgressModel",
            "bar_style": "success",
            "max": 1125,
            "_view_module": "@jupyter-widgets/controls",
            "_model_module_version": "1.5.0",
            "value": 1125,
            "_view_count": null,
            "_view_module_version": "1.5.0",
            "orientation": "horizontal",
            "min": 0,
            "description_tooltip": null,
            "_model_module": "@jupyter-widgets/controls",
            "layout": "IPY_MODEL_fedacf7ab50f45d7b8d6f426e55b12ca"
          }
        },
        "e787d8628ba24730a39766c16a313272": {
          "model_module": "@jupyter-widgets/controls",
          "model_name": "HTMLModel",
          "state": {
            "_view_name": "HTMLView",
            "style": "IPY_MODEL_7eb16f3035404a4f8b2ac2f70617e489",
            "_dom_classes": [],
            "description": "",
            "_model_name": "HTMLModel",
            "placeholder": "​",
            "_view_module": "@jupyter-widgets/controls",
            "_model_module_version": "1.5.0",
            "value": " 1125/1125 [00:39&lt;00:00, 28.63it/s]",
            "_view_count": null,
            "_view_module_version": "1.5.0",
            "description_tooltip": null,
            "_model_module": "@jupyter-widgets/controls",
            "layout": "IPY_MODEL_c79aa1efffc3431cb2b20ed382226e1a"
          }
        },
        "d49c2806359d4013a36e963dfbdf5188": {
          "model_module": "@jupyter-widgets/controls",
          "model_name": "ProgressStyleModel",
          "state": {
            "_view_name": "StyleView",
            "_model_name": "ProgressStyleModel",
            "description_width": "initial",
            "_view_module": "@jupyter-widgets/base",
            "_model_module_version": "1.5.0",
            "_view_count": null,
            "_view_module_version": "1.2.0",
            "bar_color": null,
            "_model_module": "@jupyter-widgets/controls"
          }
        },
        "fedacf7ab50f45d7b8d6f426e55b12ca": {
          "model_module": "@jupyter-widgets/base",
          "model_name": "LayoutModel",
          "state": {
            "_view_name": "LayoutView",
            "grid_template_rows": null,
            "right": null,
            "justify_content": null,
            "_view_module": "@jupyter-widgets/base",
            "overflow": null,
            "_model_module_version": "1.2.0",
            "_view_count": null,
            "flex_flow": null,
            "width": null,
            "min_width": null,
            "border": null,
            "align_items": null,
            "bottom": null,
            "_model_module": "@jupyter-widgets/base",
            "top": null,
            "grid_column": null,
            "overflow_y": null,
            "overflow_x": null,
            "grid_auto_flow": null,
            "grid_area": null,
            "grid_template_columns": null,
            "flex": null,
            "_model_name": "LayoutModel",
            "justify_items": null,
            "grid_row": null,
            "max_height": null,
            "align_content": null,
            "visibility": null,
            "align_self": null,
            "height": null,
            "min_height": null,
            "padding": null,
            "grid_auto_rows": null,
            "grid_gap": null,
            "max_width": null,
            "order": null,
            "_view_module_version": "1.2.0",
            "grid_template_areas": null,
            "object_position": null,
            "object_fit": null,
            "grid_auto_columns": null,
            "margin": null,
            "display": null,
            "left": null
          }
        },
        "7eb16f3035404a4f8b2ac2f70617e489": {
          "model_module": "@jupyter-widgets/controls",
          "model_name": "DescriptionStyleModel",
          "state": {
            "_view_name": "StyleView",
            "_model_name": "DescriptionStyleModel",
            "description_width": "",
            "_view_module": "@jupyter-widgets/base",
            "_model_module_version": "1.5.0",
            "_view_count": null,
            "_view_module_version": "1.2.0",
            "_model_module": "@jupyter-widgets/controls"
          }
        },
        "c79aa1efffc3431cb2b20ed382226e1a": {
          "model_module": "@jupyter-widgets/base",
          "model_name": "LayoutModel",
          "state": {
            "_view_name": "LayoutView",
            "grid_template_rows": null,
            "right": null,
            "justify_content": null,
            "_view_module": "@jupyter-widgets/base",
            "overflow": null,
            "_model_module_version": "1.2.0",
            "_view_count": null,
            "flex_flow": null,
            "width": null,
            "min_width": null,
            "border": null,
            "align_items": null,
            "bottom": null,
            "_model_module": "@jupyter-widgets/base",
            "top": null,
            "grid_column": null,
            "overflow_y": null,
            "overflow_x": null,
            "grid_auto_flow": null,
            "grid_area": null,
            "grid_template_columns": null,
            "flex": null,
            "_model_name": "LayoutModel",
            "justify_items": null,
            "grid_row": null,
            "max_height": null,
            "align_content": null,
            "visibility": null,
            "align_self": null,
            "height": null,
            "min_height": null,
            "padding": null,
            "grid_auto_rows": null,
            "grid_gap": null,
            "max_width": null,
            "order": null,
            "_view_module_version": "1.2.0",
            "grid_template_areas": null,
            "object_position": null,
            "object_fit": null,
            "grid_auto_columns": null,
            "margin": null,
            "display": null,
            "left": null
          }
        },
        "51300e6faa92474e92e241ca9bff18b0": {
          "model_module": "@jupyter-widgets/controls",
          "model_name": "HBoxModel",
          "state": {
            "_view_name": "HBoxView",
            "_dom_classes": [],
            "_model_name": "HBoxModel",
            "_view_module": "@jupyter-widgets/controls",
            "_model_module_version": "1.5.0",
            "_view_count": null,
            "_view_module_version": "1.5.0",
            "box_style": "",
            "layout": "IPY_MODEL_33961fdf69274b678f137dea8118220b",
            "_model_module": "@jupyter-widgets/controls",
            "children": [
              "IPY_MODEL_20984a6fb1604d3da0803e460ca56244",
              "IPY_MODEL_c0d6dbe2841741579ff7defdab16af83"
            ]
          }
        },
        "33961fdf69274b678f137dea8118220b": {
          "model_module": "@jupyter-widgets/base",
          "model_name": "LayoutModel",
          "state": {
            "_view_name": "LayoutView",
            "grid_template_rows": null,
            "right": null,
            "justify_content": null,
            "_view_module": "@jupyter-widgets/base",
            "overflow": null,
            "_model_module_version": "1.2.0",
            "_view_count": null,
            "flex_flow": null,
            "width": null,
            "min_width": null,
            "border": null,
            "align_items": null,
            "bottom": null,
            "_model_module": "@jupyter-widgets/base",
            "top": null,
            "grid_column": null,
            "overflow_y": null,
            "overflow_x": null,
            "grid_auto_flow": null,
            "grid_area": null,
            "grid_template_columns": null,
            "flex": null,
            "_model_name": "LayoutModel",
            "justify_items": null,
            "grid_row": null,
            "max_height": null,
            "align_content": null,
            "visibility": null,
            "align_self": null,
            "height": null,
            "min_height": null,
            "padding": null,
            "grid_auto_rows": null,
            "grid_gap": null,
            "max_width": null,
            "order": null,
            "_view_module_version": "1.2.0",
            "grid_template_areas": null,
            "object_position": null,
            "object_fit": null,
            "grid_auto_columns": null,
            "margin": null,
            "display": null,
            "left": null
          }
        },
        "20984a6fb1604d3da0803e460ca56244": {
          "model_module": "@jupyter-widgets/controls",
          "model_name": "FloatProgressModel",
          "state": {
            "_view_name": "ProgressView",
            "style": "IPY_MODEL_2a207f24b2354855b119b35445650124",
            "_dom_classes": [],
            "description": "Tweets: 100%",
            "_model_name": "FloatProgressModel",
            "bar_style": "success",
            "max": 989,
            "_view_module": "@jupyter-widgets/controls",
            "_model_module_version": "1.5.0",
            "value": 989,
            "_view_count": null,
            "_view_module_version": "1.5.0",
            "orientation": "horizontal",
            "min": 0,
            "description_tooltip": null,
            "_model_module": "@jupyter-widgets/controls",
            "layout": "IPY_MODEL_1789effd66ef479e99ac9186b17faa61"
          }
        },
        "c0d6dbe2841741579ff7defdab16af83": {
          "model_module": "@jupyter-widgets/controls",
          "model_name": "HTMLModel",
          "state": {
            "_view_name": "HTMLView",
            "style": "IPY_MODEL_246a5b6ce2ff48f8995e63441ed40980",
            "_dom_classes": [],
            "description": "",
            "_model_name": "HTMLModel",
            "placeholder": "​",
            "_view_module": "@jupyter-widgets/controls",
            "_model_module_version": "1.5.0",
            "value": " 989/989 [01:06&lt;00:00, 14.87it/s]",
            "_view_count": null,
            "_view_module_version": "1.5.0",
            "description_tooltip": null,
            "_model_module": "@jupyter-widgets/controls",
            "layout": "IPY_MODEL_490f2cd66c3e498da82e3a0a954acd5a"
          }
        },
        "2a207f24b2354855b119b35445650124": {
          "model_module": "@jupyter-widgets/controls",
          "model_name": "ProgressStyleModel",
          "state": {
            "_view_name": "StyleView",
            "_model_name": "ProgressStyleModel",
            "description_width": "initial",
            "_view_module": "@jupyter-widgets/base",
            "_model_module_version": "1.5.0",
            "_view_count": null,
            "_view_module_version": "1.2.0",
            "bar_color": null,
            "_model_module": "@jupyter-widgets/controls"
          }
        },
        "1789effd66ef479e99ac9186b17faa61": {
          "model_module": "@jupyter-widgets/base",
          "model_name": "LayoutModel",
          "state": {
            "_view_name": "LayoutView",
            "grid_template_rows": null,
            "right": null,
            "justify_content": null,
            "_view_module": "@jupyter-widgets/base",
            "overflow": null,
            "_model_module_version": "1.2.0",
            "_view_count": null,
            "flex_flow": null,
            "width": null,
            "min_width": null,
            "border": null,
            "align_items": null,
            "bottom": null,
            "_model_module": "@jupyter-widgets/base",
            "top": null,
            "grid_column": null,
            "overflow_y": null,
            "overflow_x": null,
            "grid_auto_flow": null,
            "grid_area": null,
            "grid_template_columns": null,
            "flex": null,
            "_model_name": "LayoutModel",
            "justify_items": null,
            "grid_row": null,
            "max_height": null,
            "align_content": null,
            "visibility": null,
            "align_self": null,
            "height": null,
            "min_height": null,
            "padding": null,
            "grid_auto_rows": null,
            "grid_gap": null,
            "max_width": null,
            "order": null,
            "_view_module_version": "1.2.0",
            "grid_template_areas": null,
            "object_position": null,
            "object_fit": null,
            "grid_auto_columns": null,
            "margin": null,
            "display": null,
            "left": null
          }
        },
        "246a5b6ce2ff48f8995e63441ed40980": {
          "model_module": "@jupyter-widgets/controls",
          "model_name": "DescriptionStyleModel",
          "state": {
            "_view_name": "StyleView",
            "_model_name": "DescriptionStyleModel",
            "description_width": "",
            "_view_module": "@jupyter-widgets/base",
            "_model_module_version": "1.5.0",
            "_view_count": null,
            "_view_module_version": "1.2.0",
            "_model_module": "@jupyter-widgets/controls"
          }
        },
        "490f2cd66c3e498da82e3a0a954acd5a": {
          "model_module": "@jupyter-widgets/base",
          "model_name": "LayoutModel",
          "state": {
            "_view_name": "LayoutView",
            "grid_template_rows": null,
            "right": null,
            "justify_content": null,
            "_view_module": "@jupyter-widgets/base",
            "overflow": null,
            "_model_module_version": "1.2.0",
            "_view_count": null,
            "flex_flow": null,
            "width": null,
            "min_width": null,
            "border": null,
            "align_items": null,
            "bottom": null,
            "_model_module": "@jupyter-widgets/base",
            "top": null,
            "grid_column": null,
            "overflow_y": null,
            "overflow_x": null,
            "grid_auto_flow": null,
            "grid_area": null,
            "grid_template_columns": null,
            "flex": null,
            "_model_name": "LayoutModel",
            "justify_items": null,
            "grid_row": null,
            "max_height": null,
            "align_content": null,
            "visibility": null,
            "align_self": null,
            "height": null,
            "min_height": null,
            "padding": null,
            "grid_auto_rows": null,
            "grid_gap": null,
            "max_width": null,
            "order": null,
            "_view_module_version": "1.2.0",
            "grid_template_areas": null,
            "object_position": null,
            "object_fit": null,
            "grid_auto_columns": null,
            "margin": null,
            "display": null,
            "left": null
          }
        },
        "8f09cd00620247bd881d1cc9ba47561d": {
          "model_module": "@jupyter-widgets/controls",
          "model_name": "HBoxModel",
          "state": {
            "_view_name": "HBoxView",
            "_dom_classes": [],
            "_model_name": "HBoxModel",
            "_view_module": "@jupyter-widgets/controls",
            "_model_module_version": "1.5.0",
            "_view_count": null,
            "_view_module_version": "1.5.0",
            "box_style": "",
            "layout": "IPY_MODEL_6c735c7850f141da9741458bf99a344d",
            "_model_module": "@jupyter-widgets/controls",
            "children": [
              "IPY_MODEL_86f70b68155a4a3c8ef955a038052577",
              "IPY_MODEL_5f129addcfb24b0e8fefe14442554490"
            ]
          }
        },
        "6c735c7850f141da9741458bf99a344d": {
          "model_module": "@jupyter-widgets/base",
          "model_name": "LayoutModel",
          "state": {
            "_view_name": "LayoutView",
            "grid_template_rows": null,
            "right": null,
            "justify_content": null,
            "_view_module": "@jupyter-widgets/base",
            "overflow": null,
            "_model_module_version": "1.2.0",
            "_view_count": null,
            "flex_flow": null,
            "width": null,
            "min_width": null,
            "border": null,
            "align_items": null,
            "bottom": null,
            "_model_module": "@jupyter-widgets/base",
            "top": null,
            "grid_column": null,
            "overflow_y": null,
            "overflow_x": null,
            "grid_auto_flow": null,
            "grid_area": null,
            "grid_template_columns": null,
            "flex": null,
            "_model_name": "LayoutModel",
            "justify_items": null,
            "grid_row": null,
            "max_height": null,
            "align_content": null,
            "visibility": null,
            "align_self": null,
            "height": null,
            "min_height": null,
            "padding": null,
            "grid_auto_rows": null,
            "grid_gap": null,
            "max_width": null,
            "order": null,
            "_view_module_version": "1.2.0",
            "grid_template_areas": null,
            "object_position": null,
            "object_fit": null,
            "grid_auto_columns": null,
            "margin": null,
            "display": null,
            "left": null
          }
        },
        "86f70b68155a4a3c8ef955a038052577": {
          "model_module": "@jupyter-widgets/controls",
          "model_name": "FloatProgressModel",
          "state": {
            "_view_name": "ProgressView",
            "style": "IPY_MODEL_e9e8f3c5401e405a8a51e6c487e61af5",
            "_dom_classes": [],
            "description": "Tweets: 100%",
            "_model_name": "FloatProgressModel",
            "bar_style": "success",
            "max": 943,
            "_view_module": "@jupyter-widgets/controls",
            "_model_module_version": "1.5.0",
            "value": 943,
            "_view_count": null,
            "_view_module_version": "1.5.0",
            "orientation": "horizontal",
            "min": 0,
            "description_tooltip": null,
            "_model_module": "@jupyter-widgets/controls",
            "layout": "IPY_MODEL_3682edc089a24f71940aae18932a294b"
          }
        },
        "5f129addcfb24b0e8fefe14442554490": {
          "model_module": "@jupyter-widgets/controls",
          "model_name": "HTMLModel",
          "state": {
            "_view_name": "HTMLView",
            "style": "IPY_MODEL_37773e51508d4355b316bad971290ac3",
            "_dom_classes": [],
            "description": "",
            "_model_name": "HTMLModel",
            "placeholder": "​",
            "_view_module": "@jupyter-widgets/controls",
            "_model_module_version": "1.5.0",
            "value": " 943/943 [00:49&lt;00:00, 18.96it/s]",
            "_view_count": null,
            "_view_module_version": "1.5.0",
            "description_tooltip": null,
            "_model_module": "@jupyter-widgets/controls",
            "layout": "IPY_MODEL_73ec8060a5a246bc8a66853365876a09"
          }
        },
        "e9e8f3c5401e405a8a51e6c487e61af5": {
          "model_module": "@jupyter-widgets/controls",
          "model_name": "ProgressStyleModel",
          "state": {
            "_view_name": "StyleView",
            "_model_name": "ProgressStyleModel",
            "description_width": "initial",
            "_view_module": "@jupyter-widgets/base",
            "_model_module_version": "1.5.0",
            "_view_count": null,
            "_view_module_version": "1.2.0",
            "bar_color": null,
            "_model_module": "@jupyter-widgets/controls"
          }
        },
        "3682edc089a24f71940aae18932a294b": {
          "model_module": "@jupyter-widgets/base",
          "model_name": "LayoutModel",
          "state": {
            "_view_name": "LayoutView",
            "grid_template_rows": null,
            "right": null,
            "justify_content": null,
            "_view_module": "@jupyter-widgets/base",
            "overflow": null,
            "_model_module_version": "1.2.0",
            "_view_count": null,
            "flex_flow": null,
            "width": null,
            "min_width": null,
            "border": null,
            "align_items": null,
            "bottom": null,
            "_model_module": "@jupyter-widgets/base",
            "top": null,
            "grid_column": null,
            "overflow_y": null,
            "overflow_x": null,
            "grid_auto_flow": null,
            "grid_area": null,
            "grid_template_columns": null,
            "flex": null,
            "_model_name": "LayoutModel",
            "justify_items": null,
            "grid_row": null,
            "max_height": null,
            "align_content": null,
            "visibility": null,
            "align_self": null,
            "height": null,
            "min_height": null,
            "padding": null,
            "grid_auto_rows": null,
            "grid_gap": null,
            "max_width": null,
            "order": null,
            "_view_module_version": "1.2.0",
            "grid_template_areas": null,
            "object_position": null,
            "object_fit": null,
            "grid_auto_columns": null,
            "margin": null,
            "display": null,
            "left": null
          }
        },
        "37773e51508d4355b316bad971290ac3": {
          "model_module": "@jupyter-widgets/controls",
          "model_name": "DescriptionStyleModel",
          "state": {
            "_view_name": "StyleView",
            "_model_name": "DescriptionStyleModel",
            "description_width": "",
            "_view_module": "@jupyter-widgets/base",
            "_model_module_version": "1.5.0",
            "_view_count": null,
            "_view_module_version": "1.2.0",
            "_model_module": "@jupyter-widgets/controls"
          }
        },
        "73ec8060a5a246bc8a66853365876a09": {
          "model_module": "@jupyter-widgets/base",
          "model_name": "LayoutModel",
          "state": {
            "_view_name": "LayoutView",
            "grid_template_rows": null,
            "right": null,
            "justify_content": null,
            "_view_module": "@jupyter-widgets/base",
            "overflow": null,
            "_model_module_version": "1.2.0",
            "_view_count": null,
            "flex_flow": null,
            "width": null,
            "min_width": null,
            "border": null,
            "align_items": null,
            "bottom": null,
            "_model_module": "@jupyter-widgets/base",
            "top": null,
            "grid_column": null,
            "overflow_y": null,
            "overflow_x": null,
            "grid_auto_flow": null,
            "grid_area": null,
            "grid_template_columns": null,
            "flex": null,
            "_model_name": "LayoutModel",
            "justify_items": null,
            "grid_row": null,
            "max_height": null,
            "align_content": null,
            "visibility": null,
            "align_self": null,
            "height": null,
            "min_height": null,
            "padding": null,
            "grid_auto_rows": null,
            "grid_gap": null,
            "max_width": null,
            "order": null,
            "_view_module_version": "1.2.0",
            "grid_template_areas": null,
            "object_position": null,
            "object_fit": null,
            "grid_auto_columns": null,
            "margin": null,
            "display": null,
            "left": null
          }
        },
        "aca7351ae3834d268a096d44421128ad": {
          "model_module": "@jupyter-widgets/controls",
          "model_name": "HBoxModel",
          "state": {
            "_view_name": "HBoxView",
            "_dom_classes": [],
            "_model_name": "HBoxModel",
            "_view_module": "@jupyter-widgets/controls",
            "_model_module_version": "1.5.0",
            "_view_count": null,
            "_view_module_version": "1.5.0",
            "box_style": "",
            "layout": "IPY_MODEL_0a835c067b714893b3bdb563f0bc8e4f",
            "_model_module": "@jupyter-widgets/controls",
            "children": [
              "IPY_MODEL_985941976ca8419aa04b205df87f5c88",
              "IPY_MODEL_b4a213d6ac234171a04ba0a9d44c1724"
            ]
          }
        },
        "0a835c067b714893b3bdb563f0bc8e4f": {
          "model_module": "@jupyter-widgets/base",
          "model_name": "LayoutModel",
          "state": {
            "_view_name": "LayoutView",
            "grid_template_rows": null,
            "right": null,
            "justify_content": null,
            "_view_module": "@jupyter-widgets/base",
            "overflow": null,
            "_model_module_version": "1.2.0",
            "_view_count": null,
            "flex_flow": null,
            "width": null,
            "min_width": null,
            "border": null,
            "align_items": null,
            "bottom": null,
            "_model_module": "@jupyter-widgets/base",
            "top": null,
            "grid_column": null,
            "overflow_y": null,
            "overflow_x": null,
            "grid_auto_flow": null,
            "grid_area": null,
            "grid_template_columns": null,
            "flex": null,
            "_model_name": "LayoutModel",
            "justify_items": null,
            "grid_row": null,
            "max_height": null,
            "align_content": null,
            "visibility": null,
            "align_self": null,
            "height": null,
            "min_height": null,
            "padding": null,
            "grid_auto_rows": null,
            "grid_gap": null,
            "max_width": null,
            "order": null,
            "_view_module_version": "1.2.0",
            "grid_template_areas": null,
            "object_position": null,
            "object_fit": null,
            "grid_auto_columns": null,
            "margin": null,
            "display": null,
            "left": null
          }
        },
        "985941976ca8419aa04b205df87f5c88": {
          "model_module": "@jupyter-widgets/controls",
          "model_name": "FloatProgressModel",
          "state": {
            "_view_name": "ProgressView",
            "style": "IPY_MODEL_77b7947b17674d34b0473b276656158a",
            "_dom_classes": [],
            "description": "Tweets: 100%",
            "_model_name": "FloatProgressModel",
            "bar_style": "success",
            "max": 966,
            "_view_module": "@jupyter-widgets/controls",
            "_model_module_version": "1.5.0",
            "value": 966,
            "_view_count": null,
            "_view_module_version": "1.5.0",
            "orientation": "horizontal",
            "min": 0,
            "description_tooltip": null,
            "_model_module": "@jupyter-widgets/controls",
            "layout": "IPY_MODEL_964ba26837854d35bb0f9bb705af6779"
          }
        },
        "b4a213d6ac234171a04ba0a9d44c1724": {
          "model_module": "@jupyter-widgets/controls",
          "model_name": "HTMLModel",
          "state": {
            "_view_name": "HTMLView",
            "style": "IPY_MODEL_3ba8e4607968464c964e66e60183ebf7",
            "_dom_classes": [],
            "description": "",
            "_model_name": "HTMLModel",
            "placeholder": "​",
            "_view_module": "@jupyter-widgets/controls",
            "_model_module_version": "1.5.0",
            "value": " 966/966 [58:44&lt;00:00,  3.65s/it]",
            "_view_count": null,
            "_view_module_version": "1.5.0",
            "description_tooltip": null,
            "_model_module": "@jupyter-widgets/controls",
            "layout": "IPY_MODEL_a22b99222b8f46d89f290ca59d6442c4"
          }
        },
        "77b7947b17674d34b0473b276656158a": {
          "model_module": "@jupyter-widgets/controls",
          "model_name": "ProgressStyleModel",
          "state": {
            "_view_name": "StyleView",
            "_model_name": "ProgressStyleModel",
            "description_width": "initial",
            "_view_module": "@jupyter-widgets/base",
            "_model_module_version": "1.5.0",
            "_view_count": null,
            "_view_module_version": "1.2.0",
            "bar_color": null,
            "_model_module": "@jupyter-widgets/controls"
          }
        },
        "964ba26837854d35bb0f9bb705af6779": {
          "model_module": "@jupyter-widgets/base",
          "model_name": "LayoutModel",
          "state": {
            "_view_name": "LayoutView",
            "grid_template_rows": null,
            "right": null,
            "justify_content": null,
            "_view_module": "@jupyter-widgets/base",
            "overflow": null,
            "_model_module_version": "1.2.0",
            "_view_count": null,
            "flex_flow": null,
            "width": null,
            "min_width": null,
            "border": null,
            "align_items": null,
            "bottom": null,
            "_model_module": "@jupyter-widgets/base",
            "top": null,
            "grid_column": null,
            "overflow_y": null,
            "overflow_x": null,
            "grid_auto_flow": null,
            "grid_area": null,
            "grid_template_columns": null,
            "flex": null,
            "_model_name": "LayoutModel",
            "justify_items": null,
            "grid_row": null,
            "max_height": null,
            "align_content": null,
            "visibility": null,
            "align_self": null,
            "height": null,
            "min_height": null,
            "padding": null,
            "grid_auto_rows": null,
            "grid_gap": null,
            "max_width": null,
            "order": null,
            "_view_module_version": "1.2.0",
            "grid_template_areas": null,
            "object_position": null,
            "object_fit": null,
            "grid_auto_columns": null,
            "margin": null,
            "display": null,
            "left": null
          }
        },
        "3ba8e4607968464c964e66e60183ebf7": {
          "model_module": "@jupyter-widgets/controls",
          "model_name": "DescriptionStyleModel",
          "state": {
            "_view_name": "StyleView",
            "_model_name": "DescriptionStyleModel",
            "description_width": "",
            "_view_module": "@jupyter-widgets/base",
            "_model_module_version": "1.5.0",
            "_view_count": null,
            "_view_module_version": "1.2.0",
            "_model_module": "@jupyter-widgets/controls"
          }
        },
        "a22b99222b8f46d89f290ca59d6442c4": {
          "model_module": "@jupyter-widgets/base",
          "model_name": "LayoutModel",
          "state": {
            "_view_name": "LayoutView",
            "grid_template_rows": null,
            "right": null,
            "justify_content": null,
            "_view_module": "@jupyter-widgets/base",
            "overflow": null,
            "_model_module_version": "1.2.0",
            "_view_count": null,
            "flex_flow": null,
            "width": null,
            "min_width": null,
            "border": null,
            "align_items": null,
            "bottom": null,
            "_model_module": "@jupyter-widgets/base",
            "top": null,
            "grid_column": null,
            "overflow_y": null,
            "overflow_x": null,
            "grid_auto_flow": null,
            "grid_area": null,
            "grid_template_columns": null,
            "flex": null,
            "_model_name": "LayoutModel",
            "justify_items": null,
            "grid_row": null,
            "max_height": null,
            "align_content": null,
            "visibility": null,
            "align_self": null,
            "height": null,
            "min_height": null,
            "padding": null,
            "grid_auto_rows": null,
            "grid_gap": null,
            "max_width": null,
            "order": null,
            "_view_module_version": "1.2.0",
            "grid_template_areas": null,
            "object_position": null,
            "object_fit": null,
            "grid_auto_columns": null,
            "margin": null,
            "display": null,
            "left": null
          }
        },
        "f2853875f9ae4f208c0caf8928830f20": {
          "model_module": "@jupyter-widgets/controls",
          "model_name": "HBoxModel",
          "state": {
            "_view_name": "HBoxView",
            "_dom_classes": [],
            "_model_name": "HBoxModel",
            "_view_module": "@jupyter-widgets/controls",
            "_model_module_version": "1.5.0",
            "_view_count": null,
            "_view_module_version": "1.5.0",
            "box_style": "",
            "layout": "IPY_MODEL_972b51f73139498eaeee4270e0e0299d",
            "_model_module": "@jupyter-widgets/controls",
            "children": [
              "IPY_MODEL_7c5c20b982064819a28a06d865e3ed41",
              "IPY_MODEL_2c5672805d204559862c5fa1e50c419e"
            ]
          }
        },
        "972b51f73139498eaeee4270e0e0299d": {
          "model_module": "@jupyter-widgets/base",
          "model_name": "LayoutModel",
          "state": {
            "_view_name": "LayoutView",
            "grid_template_rows": null,
            "right": null,
            "justify_content": null,
            "_view_module": "@jupyter-widgets/base",
            "overflow": null,
            "_model_module_version": "1.2.0",
            "_view_count": null,
            "flex_flow": null,
            "width": null,
            "min_width": null,
            "border": null,
            "align_items": null,
            "bottom": null,
            "_model_module": "@jupyter-widgets/base",
            "top": null,
            "grid_column": null,
            "overflow_y": null,
            "overflow_x": null,
            "grid_auto_flow": null,
            "grid_area": null,
            "grid_template_columns": null,
            "flex": null,
            "_model_name": "LayoutModel",
            "justify_items": null,
            "grid_row": null,
            "max_height": null,
            "align_content": null,
            "visibility": null,
            "align_self": null,
            "height": null,
            "min_height": null,
            "padding": null,
            "grid_auto_rows": null,
            "grid_gap": null,
            "max_width": null,
            "order": null,
            "_view_module_version": "1.2.0",
            "grid_template_areas": null,
            "object_position": null,
            "object_fit": null,
            "grid_auto_columns": null,
            "margin": null,
            "display": null,
            "left": null
          }
        },
        "7c5c20b982064819a28a06d865e3ed41": {
          "model_module": "@jupyter-widgets/controls",
          "model_name": "FloatProgressModel",
          "state": {
            "_view_name": "ProgressView",
            "style": "IPY_MODEL_e6815bf865a74b5eacda079a68263931",
            "_dom_classes": [],
            "description": "Tweets: 100%",
            "_model_name": "FloatProgressModel",
            "bar_style": "success",
            "max": 1008,
            "_view_module": "@jupyter-widgets/controls",
            "_model_module_version": "1.5.0",
            "value": 1008,
            "_view_count": null,
            "_view_module_version": "1.5.0",
            "orientation": "horizontal",
            "min": 0,
            "description_tooltip": null,
            "_model_module": "@jupyter-widgets/controls",
            "layout": "IPY_MODEL_512a555cb06e489d91b2fd8450d3e08b"
          }
        },
        "2c5672805d204559862c5fa1e50c419e": {
          "model_module": "@jupyter-widgets/controls",
          "model_name": "HTMLModel",
          "state": {
            "_view_name": "HTMLView",
            "style": "IPY_MODEL_08811e566ed74b6386da0739ba22e919",
            "_dom_classes": [],
            "description": "",
            "_model_name": "HTMLModel",
            "placeholder": "​",
            "_view_module": "@jupyter-widgets/controls",
            "_model_module_version": "1.5.0",
            "value": " 1008/1008 [01:12&lt;00:00, 13.83it/s]",
            "_view_count": null,
            "_view_module_version": "1.5.0",
            "description_tooltip": null,
            "_model_module": "@jupyter-widgets/controls",
            "layout": "IPY_MODEL_25e6752839824f098d195b7f3160f6d2"
          }
        },
        "e6815bf865a74b5eacda079a68263931": {
          "model_module": "@jupyter-widgets/controls",
          "model_name": "ProgressStyleModel",
          "state": {
            "_view_name": "StyleView",
            "_model_name": "ProgressStyleModel",
            "description_width": "initial",
            "_view_module": "@jupyter-widgets/base",
            "_model_module_version": "1.5.0",
            "_view_count": null,
            "_view_module_version": "1.2.0",
            "bar_color": null,
            "_model_module": "@jupyter-widgets/controls"
          }
        },
        "512a555cb06e489d91b2fd8450d3e08b": {
          "model_module": "@jupyter-widgets/base",
          "model_name": "LayoutModel",
          "state": {
            "_view_name": "LayoutView",
            "grid_template_rows": null,
            "right": null,
            "justify_content": null,
            "_view_module": "@jupyter-widgets/base",
            "overflow": null,
            "_model_module_version": "1.2.0",
            "_view_count": null,
            "flex_flow": null,
            "width": null,
            "min_width": null,
            "border": null,
            "align_items": null,
            "bottom": null,
            "_model_module": "@jupyter-widgets/base",
            "top": null,
            "grid_column": null,
            "overflow_y": null,
            "overflow_x": null,
            "grid_auto_flow": null,
            "grid_area": null,
            "grid_template_columns": null,
            "flex": null,
            "_model_name": "LayoutModel",
            "justify_items": null,
            "grid_row": null,
            "max_height": null,
            "align_content": null,
            "visibility": null,
            "align_self": null,
            "height": null,
            "min_height": null,
            "padding": null,
            "grid_auto_rows": null,
            "grid_gap": null,
            "max_width": null,
            "order": null,
            "_view_module_version": "1.2.0",
            "grid_template_areas": null,
            "object_position": null,
            "object_fit": null,
            "grid_auto_columns": null,
            "margin": null,
            "display": null,
            "left": null
          }
        },
        "08811e566ed74b6386da0739ba22e919": {
          "model_module": "@jupyter-widgets/controls",
          "model_name": "DescriptionStyleModel",
          "state": {
            "_view_name": "StyleView",
            "_model_name": "DescriptionStyleModel",
            "description_width": "",
            "_view_module": "@jupyter-widgets/base",
            "_model_module_version": "1.5.0",
            "_view_count": null,
            "_view_module_version": "1.2.0",
            "_model_module": "@jupyter-widgets/controls"
          }
        },
        "25e6752839824f098d195b7f3160f6d2": {
          "model_module": "@jupyter-widgets/base",
          "model_name": "LayoutModel",
          "state": {
            "_view_name": "LayoutView",
            "grid_template_rows": null,
            "right": null,
            "justify_content": null,
            "_view_module": "@jupyter-widgets/base",
            "overflow": null,
            "_model_module_version": "1.2.0",
            "_view_count": null,
            "flex_flow": null,
            "width": null,
            "min_width": null,
            "border": null,
            "align_items": null,
            "bottom": null,
            "_model_module": "@jupyter-widgets/base",
            "top": null,
            "grid_column": null,
            "overflow_y": null,
            "overflow_x": null,
            "grid_auto_flow": null,
            "grid_area": null,
            "grid_template_columns": null,
            "flex": null,
            "_model_name": "LayoutModel",
            "justify_items": null,
            "grid_row": null,
            "max_height": null,
            "align_content": null,
            "visibility": null,
            "align_self": null,
            "height": null,
            "min_height": null,
            "padding": null,
            "grid_auto_rows": null,
            "grid_gap": null,
            "max_width": null,
            "order": null,
            "_view_module_version": "1.2.0",
            "grid_template_areas": null,
            "object_position": null,
            "object_fit": null,
            "grid_auto_columns": null,
            "margin": null,
            "display": null,
            "left": null
          }
        },
        "cab2f669936d46598500a009fb3143ef": {
          "model_module": "@jupyter-widgets/controls",
          "model_name": "HBoxModel",
          "state": {
            "_view_name": "HBoxView",
            "_dom_classes": [],
            "_model_name": "HBoxModel",
            "_view_module": "@jupyter-widgets/controls",
            "_model_module_version": "1.5.0",
            "_view_count": null,
            "_view_module_version": "1.5.0",
            "box_style": "",
            "layout": "IPY_MODEL_ebab02864dc446c2a97019a21c43ac2a",
            "_model_module": "@jupyter-widgets/controls",
            "children": [
              "IPY_MODEL_d532c0a8aa424f14aa2f6eaca0761ad3",
              "IPY_MODEL_fd3f93cd86784873b435e3aa72db4d1e"
            ]
          }
        },
        "ebab02864dc446c2a97019a21c43ac2a": {
          "model_module": "@jupyter-widgets/base",
          "model_name": "LayoutModel",
          "state": {
            "_view_name": "LayoutView",
            "grid_template_rows": null,
            "right": null,
            "justify_content": null,
            "_view_module": "@jupyter-widgets/base",
            "overflow": null,
            "_model_module_version": "1.2.0",
            "_view_count": null,
            "flex_flow": null,
            "width": null,
            "min_width": null,
            "border": null,
            "align_items": null,
            "bottom": null,
            "_model_module": "@jupyter-widgets/base",
            "top": null,
            "grid_column": null,
            "overflow_y": null,
            "overflow_x": null,
            "grid_auto_flow": null,
            "grid_area": null,
            "grid_template_columns": null,
            "flex": null,
            "_model_name": "LayoutModel",
            "justify_items": null,
            "grid_row": null,
            "max_height": null,
            "align_content": null,
            "visibility": null,
            "align_self": null,
            "height": null,
            "min_height": null,
            "padding": null,
            "grid_auto_rows": null,
            "grid_gap": null,
            "max_width": null,
            "order": null,
            "_view_module_version": "1.2.0",
            "grid_template_areas": null,
            "object_position": null,
            "object_fit": null,
            "grid_auto_columns": null,
            "margin": null,
            "display": null,
            "left": null
          }
        },
        "d532c0a8aa424f14aa2f6eaca0761ad3": {
          "model_module": "@jupyter-widgets/controls",
          "model_name": "FloatProgressModel",
          "state": {
            "_view_name": "ProgressView",
            "style": "IPY_MODEL_2898c529a4e64760a3fc932438c3e8d0",
            "_dom_classes": [],
            "description": "Tweets: 100%",
            "_model_name": "FloatProgressModel",
            "bar_style": "success",
            "max": 506,
            "_view_module": "@jupyter-widgets/controls",
            "_model_module_version": "1.5.0",
            "value": 506,
            "_view_count": null,
            "_view_module_version": "1.5.0",
            "orientation": "horizontal",
            "min": 0,
            "description_tooltip": null,
            "_model_module": "@jupyter-widgets/controls",
            "layout": "IPY_MODEL_b0cfcf9a59804639b80672608826e12d"
          }
        },
        "fd3f93cd86784873b435e3aa72db4d1e": {
          "model_module": "@jupyter-widgets/controls",
          "model_name": "HTMLModel",
          "state": {
            "_view_name": "HTMLView",
            "style": "IPY_MODEL_197ee792745143769bf5c93fca09895d",
            "_dom_classes": [],
            "description": "",
            "_model_name": "HTMLModel",
            "placeholder": "​",
            "_view_module": "@jupyter-widgets/controls",
            "_model_module_version": "1.5.0",
            "value": " 506/506 [00:44&lt;00:00, 11.29it/s]",
            "_view_count": null,
            "_view_module_version": "1.5.0",
            "description_tooltip": null,
            "_model_module": "@jupyter-widgets/controls",
            "layout": "IPY_MODEL_995bdabae8244d0fbb4e29c7962a8a38"
          }
        },
        "2898c529a4e64760a3fc932438c3e8d0": {
          "model_module": "@jupyter-widgets/controls",
          "model_name": "ProgressStyleModel",
          "state": {
            "_view_name": "StyleView",
            "_model_name": "ProgressStyleModel",
            "description_width": "initial",
            "_view_module": "@jupyter-widgets/base",
            "_model_module_version": "1.5.0",
            "_view_count": null,
            "_view_module_version": "1.2.0",
            "bar_color": null,
            "_model_module": "@jupyter-widgets/controls"
          }
        },
        "b0cfcf9a59804639b80672608826e12d": {
          "model_module": "@jupyter-widgets/base",
          "model_name": "LayoutModel",
          "state": {
            "_view_name": "LayoutView",
            "grid_template_rows": null,
            "right": null,
            "justify_content": null,
            "_view_module": "@jupyter-widgets/base",
            "overflow": null,
            "_model_module_version": "1.2.0",
            "_view_count": null,
            "flex_flow": null,
            "width": null,
            "min_width": null,
            "border": null,
            "align_items": null,
            "bottom": null,
            "_model_module": "@jupyter-widgets/base",
            "top": null,
            "grid_column": null,
            "overflow_y": null,
            "overflow_x": null,
            "grid_auto_flow": null,
            "grid_area": null,
            "grid_template_columns": null,
            "flex": null,
            "_model_name": "LayoutModel",
            "justify_items": null,
            "grid_row": null,
            "max_height": null,
            "align_content": null,
            "visibility": null,
            "align_self": null,
            "height": null,
            "min_height": null,
            "padding": null,
            "grid_auto_rows": null,
            "grid_gap": null,
            "max_width": null,
            "order": null,
            "_view_module_version": "1.2.0",
            "grid_template_areas": null,
            "object_position": null,
            "object_fit": null,
            "grid_auto_columns": null,
            "margin": null,
            "display": null,
            "left": null
          }
        },
        "197ee792745143769bf5c93fca09895d": {
          "model_module": "@jupyter-widgets/controls",
          "model_name": "DescriptionStyleModel",
          "state": {
            "_view_name": "StyleView",
            "_model_name": "DescriptionStyleModel",
            "description_width": "",
            "_view_module": "@jupyter-widgets/base",
            "_model_module_version": "1.5.0",
            "_view_count": null,
            "_view_module_version": "1.2.0",
            "_model_module": "@jupyter-widgets/controls"
          }
        },
        "995bdabae8244d0fbb4e29c7962a8a38": {
          "model_module": "@jupyter-widgets/base",
          "model_name": "LayoutModel",
          "state": {
            "_view_name": "LayoutView",
            "grid_template_rows": null,
            "right": null,
            "justify_content": null,
            "_view_module": "@jupyter-widgets/base",
            "overflow": null,
            "_model_module_version": "1.2.0",
            "_view_count": null,
            "flex_flow": null,
            "width": null,
            "min_width": null,
            "border": null,
            "align_items": null,
            "bottom": null,
            "_model_module": "@jupyter-widgets/base",
            "top": null,
            "grid_column": null,
            "overflow_y": null,
            "overflow_x": null,
            "grid_auto_flow": null,
            "grid_area": null,
            "grid_template_columns": null,
            "flex": null,
            "_model_name": "LayoutModel",
            "justify_items": null,
            "grid_row": null,
            "max_height": null,
            "align_content": null,
            "visibility": null,
            "align_self": null,
            "height": null,
            "min_height": null,
            "padding": null,
            "grid_auto_rows": null,
            "grid_gap": null,
            "max_width": null,
            "order": null,
            "_view_module_version": "1.2.0",
            "grid_template_areas": null,
            "object_position": null,
            "object_fit": null,
            "grid_auto_columns": null,
            "margin": null,
            "display": null,
            "left": null
          }
        },
        "e75cfec4d0d84dbbb1b1103626171b56": {
          "model_module": "@jupyter-widgets/controls",
          "model_name": "HBoxModel",
          "state": {
            "_view_name": "HBoxView",
            "_dom_classes": [],
            "_model_name": "HBoxModel",
            "_view_module": "@jupyter-widgets/controls",
            "_model_module_version": "1.5.0",
            "_view_count": null,
            "_view_module_version": "1.5.0",
            "box_style": "",
            "layout": "IPY_MODEL_f1c156be1fe04380b26bb59fdb8584d4",
            "_model_module": "@jupyter-widgets/controls",
            "children": [
              "IPY_MODEL_1f98feb1b27b4cafb6eb70a755f4bab4",
              "IPY_MODEL_544f2da3583e4db897ef09de24617c6f"
            ]
          }
        },
        "f1c156be1fe04380b26bb59fdb8584d4": {
          "model_module": "@jupyter-widgets/base",
          "model_name": "LayoutModel",
          "state": {
            "_view_name": "LayoutView",
            "grid_template_rows": null,
            "right": null,
            "justify_content": null,
            "_view_module": "@jupyter-widgets/base",
            "overflow": null,
            "_model_module_version": "1.2.0",
            "_view_count": null,
            "flex_flow": null,
            "width": null,
            "min_width": null,
            "border": null,
            "align_items": null,
            "bottom": null,
            "_model_module": "@jupyter-widgets/base",
            "top": null,
            "grid_column": null,
            "overflow_y": null,
            "overflow_x": null,
            "grid_auto_flow": null,
            "grid_area": null,
            "grid_template_columns": null,
            "flex": null,
            "_model_name": "LayoutModel",
            "justify_items": null,
            "grid_row": null,
            "max_height": null,
            "align_content": null,
            "visibility": null,
            "align_self": null,
            "height": null,
            "min_height": null,
            "padding": null,
            "grid_auto_rows": null,
            "grid_gap": null,
            "max_width": null,
            "order": null,
            "_view_module_version": "1.2.0",
            "grid_template_areas": null,
            "object_position": null,
            "object_fit": null,
            "grid_auto_columns": null,
            "margin": null,
            "display": null,
            "left": null
          }
        },
        "1f98feb1b27b4cafb6eb70a755f4bab4": {
          "model_module": "@jupyter-widgets/controls",
          "model_name": "FloatProgressModel",
          "state": {
            "_view_name": "ProgressView",
            "style": "IPY_MODEL_0a3c92f62ba44666889f38c0f0a8bebd",
            "_dom_classes": [],
            "description": "Tweets: 100%",
            "_model_name": "FloatProgressModel",
            "bar_style": "success",
            "max": 800,
            "_view_module": "@jupyter-widgets/controls",
            "_model_module_version": "1.5.0",
            "value": 800,
            "_view_count": null,
            "_view_module_version": "1.5.0",
            "orientation": "horizontal",
            "min": 0,
            "description_tooltip": null,
            "_model_module": "@jupyter-widgets/controls",
            "layout": "IPY_MODEL_edfb08776854400bad3c2676714f1b00"
          }
        },
        "544f2da3583e4db897ef09de24617c6f": {
          "model_module": "@jupyter-widgets/controls",
          "model_name": "HTMLModel",
          "state": {
            "_view_name": "HTMLView",
            "style": "IPY_MODEL_58949cf41c0e43a7953533e5fbccc749",
            "_dom_classes": [],
            "description": "",
            "_model_name": "HTMLModel",
            "placeholder": "​",
            "_view_module": "@jupyter-widgets/controls",
            "_model_module_version": "1.5.0",
            "value": " 800/800 [00:18&lt;00:00, 43.52it/s]",
            "_view_count": null,
            "_view_module_version": "1.5.0",
            "description_tooltip": null,
            "_model_module": "@jupyter-widgets/controls",
            "layout": "IPY_MODEL_4a049073ed284b60aa9c1d74c8b09790"
          }
        },
        "0a3c92f62ba44666889f38c0f0a8bebd": {
          "model_module": "@jupyter-widgets/controls",
          "model_name": "ProgressStyleModel",
          "state": {
            "_view_name": "StyleView",
            "_model_name": "ProgressStyleModel",
            "description_width": "initial",
            "_view_module": "@jupyter-widgets/base",
            "_model_module_version": "1.5.0",
            "_view_count": null,
            "_view_module_version": "1.2.0",
            "bar_color": null,
            "_model_module": "@jupyter-widgets/controls"
          }
        },
        "edfb08776854400bad3c2676714f1b00": {
          "model_module": "@jupyter-widgets/base",
          "model_name": "LayoutModel",
          "state": {
            "_view_name": "LayoutView",
            "grid_template_rows": null,
            "right": null,
            "justify_content": null,
            "_view_module": "@jupyter-widgets/base",
            "overflow": null,
            "_model_module_version": "1.2.0",
            "_view_count": null,
            "flex_flow": null,
            "width": null,
            "min_width": null,
            "border": null,
            "align_items": null,
            "bottom": null,
            "_model_module": "@jupyter-widgets/base",
            "top": null,
            "grid_column": null,
            "overflow_y": null,
            "overflow_x": null,
            "grid_auto_flow": null,
            "grid_area": null,
            "grid_template_columns": null,
            "flex": null,
            "_model_name": "LayoutModel",
            "justify_items": null,
            "grid_row": null,
            "max_height": null,
            "align_content": null,
            "visibility": null,
            "align_self": null,
            "height": null,
            "min_height": null,
            "padding": null,
            "grid_auto_rows": null,
            "grid_gap": null,
            "max_width": null,
            "order": null,
            "_view_module_version": "1.2.0",
            "grid_template_areas": null,
            "object_position": null,
            "object_fit": null,
            "grid_auto_columns": null,
            "margin": null,
            "display": null,
            "left": null
          }
        },
        "58949cf41c0e43a7953533e5fbccc749": {
          "model_module": "@jupyter-widgets/controls",
          "model_name": "DescriptionStyleModel",
          "state": {
            "_view_name": "StyleView",
            "_model_name": "DescriptionStyleModel",
            "description_width": "",
            "_view_module": "@jupyter-widgets/base",
            "_model_module_version": "1.5.0",
            "_view_count": null,
            "_view_module_version": "1.2.0",
            "_model_module": "@jupyter-widgets/controls"
          }
        },
        "4a049073ed284b60aa9c1d74c8b09790": {
          "model_module": "@jupyter-widgets/base",
          "model_name": "LayoutModel",
          "state": {
            "_view_name": "LayoutView",
            "grid_template_rows": null,
            "right": null,
            "justify_content": null,
            "_view_module": "@jupyter-widgets/base",
            "overflow": null,
            "_model_module_version": "1.2.0",
            "_view_count": null,
            "flex_flow": null,
            "width": null,
            "min_width": null,
            "border": null,
            "align_items": null,
            "bottom": null,
            "_model_module": "@jupyter-widgets/base",
            "top": null,
            "grid_column": null,
            "overflow_y": null,
            "overflow_x": null,
            "grid_auto_flow": null,
            "grid_area": null,
            "grid_template_columns": null,
            "flex": null,
            "_model_name": "LayoutModel",
            "justify_items": null,
            "grid_row": null,
            "max_height": null,
            "align_content": null,
            "visibility": null,
            "align_self": null,
            "height": null,
            "min_height": null,
            "padding": null,
            "grid_auto_rows": null,
            "grid_gap": null,
            "max_width": null,
            "order": null,
            "_view_module_version": "1.2.0",
            "grid_template_areas": null,
            "object_position": null,
            "object_fit": null,
            "grid_auto_columns": null,
            "margin": null,
            "display": null,
            "left": null
          }
        },
        "b4b8f6b68b164ecf94fb4f5172b09fb1": {
          "model_module": "@jupyter-widgets/controls",
          "model_name": "HBoxModel",
          "state": {
            "_view_name": "HBoxView",
            "_dom_classes": [],
            "_model_name": "HBoxModel",
            "_view_module": "@jupyter-widgets/controls",
            "_model_module_version": "1.5.0",
            "_view_count": null,
            "_view_module_version": "1.5.0",
            "box_style": "",
            "layout": "IPY_MODEL_60ffdb37eb384f68917898e9e2615973",
            "_model_module": "@jupyter-widgets/controls",
            "children": [
              "IPY_MODEL_b145d63188b64c1e8578c954b28b6d76",
              "IPY_MODEL_b6703f9e5e8c4be282011049e529a8db"
            ]
          }
        },
        "60ffdb37eb384f68917898e9e2615973": {
          "model_module": "@jupyter-widgets/base",
          "model_name": "LayoutModel",
          "state": {
            "_view_name": "LayoutView",
            "grid_template_rows": null,
            "right": null,
            "justify_content": null,
            "_view_module": "@jupyter-widgets/base",
            "overflow": null,
            "_model_module_version": "1.2.0",
            "_view_count": null,
            "flex_flow": null,
            "width": null,
            "min_width": null,
            "border": null,
            "align_items": null,
            "bottom": null,
            "_model_module": "@jupyter-widgets/base",
            "top": null,
            "grid_column": null,
            "overflow_y": null,
            "overflow_x": null,
            "grid_auto_flow": null,
            "grid_area": null,
            "grid_template_columns": null,
            "flex": null,
            "_model_name": "LayoutModel",
            "justify_items": null,
            "grid_row": null,
            "max_height": null,
            "align_content": null,
            "visibility": null,
            "align_self": null,
            "height": null,
            "min_height": null,
            "padding": null,
            "grid_auto_rows": null,
            "grid_gap": null,
            "max_width": null,
            "order": null,
            "_view_module_version": "1.2.0",
            "grid_template_areas": null,
            "object_position": null,
            "object_fit": null,
            "grid_auto_columns": null,
            "margin": null,
            "display": null,
            "left": null
          }
        },
        "b145d63188b64c1e8578c954b28b6d76": {
          "model_module": "@jupyter-widgets/controls",
          "model_name": "FloatProgressModel",
          "state": {
            "_view_name": "ProgressView",
            "style": "IPY_MODEL_84e056cc25e24a0da09791b3f8719ac5",
            "_dom_classes": [],
            "description": "Tweets: 100%",
            "_model_name": "FloatProgressModel",
            "bar_style": "success",
            "max": 300,
            "_view_module": "@jupyter-widgets/controls",
            "_model_module_version": "1.5.0",
            "value": 300,
            "_view_count": null,
            "_view_module_version": "1.5.0",
            "orientation": "horizontal",
            "min": 0,
            "description_tooltip": null,
            "_model_module": "@jupyter-widgets/controls",
            "layout": "IPY_MODEL_933706c9fc9549aabefc902610100984"
          }
        },
        "b6703f9e5e8c4be282011049e529a8db": {
          "model_module": "@jupyter-widgets/controls",
          "model_name": "HTMLModel",
          "state": {
            "_view_name": "HTMLView",
            "style": "IPY_MODEL_c00559768b6045a9825c1419c618f0f5",
            "_dom_classes": [],
            "description": "",
            "_model_name": "HTMLModel",
            "placeholder": "​",
            "_view_module": "@jupyter-widgets/controls",
            "_model_module_version": "1.5.0",
            "value": " 300/300 [04:56&lt;00:00,  1.01it/s]",
            "_view_count": null,
            "_view_module_version": "1.5.0",
            "description_tooltip": null,
            "_model_module": "@jupyter-widgets/controls",
            "layout": "IPY_MODEL_fa0796f3431946378e76751a82aadbc5"
          }
        },
        "84e056cc25e24a0da09791b3f8719ac5": {
          "model_module": "@jupyter-widgets/controls",
          "model_name": "ProgressStyleModel",
          "state": {
            "_view_name": "StyleView",
            "_model_name": "ProgressStyleModel",
            "description_width": "initial",
            "_view_module": "@jupyter-widgets/base",
            "_model_module_version": "1.5.0",
            "_view_count": null,
            "_view_module_version": "1.2.0",
            "bar_color": null,
            "_model_module": "@jupyter-widgets/controls"
          }
        },
        "933706c9fc9549aabefc902610100984": {
          "model_module": "@jupyter-widgets/base",
          "model_name": "LayoutModel",
          "state": {
            "_view_name": "LayoutView",
            "grid_template_rows": null,
            "right": null,
            "justify_content": null,
            "_view_module": "@jupyter-widgets/base",
            "overflow": null,
            "_model_module_version": "1.2.0",
            "_view_count": null,
            "flex_flow": null,
            "width": null,
            "min_width": null,
            "border": null,
            "align_items": null,
            "bottom": null,
            "_model_module": "@jupyter-widgets/base",
            "top": null,
            "grid_column": null,
            "overflow_y": null,
            "overflow_x": null,
            "grid_auto_flow": null,
            "grid_area": null,
            "grid_template_columns": null,
            "flex": null,
            "_model_name": "LayoutModel",
            "justify_items": null,
            "grid_row": null,
            "max_height": null,
            "align_content": null,
            "visibility": null,
            "align_self": null,
            "height": null,
            "min_height": null,
            "padding": null,
            "grid_auto_rows": null,
            "grid_gap": null,
            "max_width": null,
            "order": null,
            "_view_module_version": "1.2.0",
            "grid_template_areas": null,
            "object_position": null,
            "object_fit": null,
            "grid_auto_columns": null,
            "margin": null,
            "display": null,
            "left": null
          }
        },
        "c00559768b6045a9825c1419c618f0f5": {
          "model_module": "@jupyter-widgets/controls",
          "model_name": "DescriptionStyleModel",
          "state": {
            "_view_name": "StyleView",
            "_model_name": "DescriptionStyleModel",
            "description_width": "",
            "_view_module": "@jupyter-widgets/base",
            "_model_module_version": "1.5.0",
            "_view_count": null,
            "_view_module_version": "1.2.0",
            "_model_module": "@jupyter-widgets/controls"
          }
        },
        "fa0796f3431946378e76751a82aadbc5": {
          "model_module": "@jupyter-widgets/base",
          "model_name": "LayoutModel",
          "state": {
            "_view_name": "LayoutView",
            "grid_template_rows": null,
            "right": null,
            "justify_content": null,
            "_view_module": "@jupyter-widgets/base",
            "overflow": null,
            "_model_module_version": "1.2.0",
            "_view_count": null,
            "flex_flow": null,
            "width": null,
            "min_width": null,
            "border": null,
            "align_items": null,
            "bottom": null,
            "_model_module": "@jupyter-widgets/base",
            "top": null,
            "grid_column": null,
            "overflow_y": null,
            "overflow_x": null,
            "grid_auto_flow": null,
            "grid_area": null,
            "grid_template_columns": null,
            "flex": null,
            "_model_name": "LayoutModel",
            "justify_items": null,
            "grid_row": null,
            "max_height": null,
            "align_content": null,
            "visibility": null,
            "align_self": null,
            "height": null,
            "min_height": null,
            "padding": null,
            "grid_auto_rows": null,
            "grid_gap": null,
            "max_width": null,
            "order": null,
            "_view_module_version": "1.2.0",
            "grid_template_areas": null,
            "object_position": null,
            "object_fit": null,
            "grid_auto_columns": null,
            "margin": null,
            "display": null,
            "left": null
          }
        },
        "3219899d11f2476689bc3fed87f56e47": {
          "model_module": "@jupyter-widgets/controls",
          "model_name": "HBoxModel",
          "state": {
            "_view_name": "HBoxView",
            "_dom_classes": [],
            "_model_name": "HBoxModel",
            "_view_module": "@jupyter-widgets/controls",
            "_model_module_version": "1.5.0",
            "_view_count": null,
            "_view_module_version": "1.5.0",
            "box_style": "",
            "layout": "IPY_MODEL_f51f55f632844d7d8a6059c0f39b08ab",
            "_model_module": "@jupyter-widgets/controls",
            "children": [
              "IPY_MODEL_45e5f0e04268484f98bcd734dc7873f2",
              "IPY_MODEL_a5b3fb75d3784ccdadeb46e4a30896a7"
            ]
          }
        },
        "f51f55f632844d7d8a6059c0f39b08ab": {
          "model_module": "@jupyter-widgets/base",
          "model_name": "LayoutModel",
          "state": {
            "_view_name": "LayoutView",
            "grid_template_rows": null,
            "right": null,
            "justify_content": null,
            "_view_module": "@jupyter-widgets/base",
            "overflow": null,
            "_model_module_version": "1.2.0",
            "_view_count": null,
            "flex_flow": null,
            "width": null,
            "min_width": null,
            "border": null,
            "align_items": null,
            "bottom": null,
            "_model_module": "@jupyter-widgets/base",
            "top": null,
            "grid_column": null,
            "overflow_y": null,
            "overflow_x": null,
            "grid_auto_flow": null,
            "grid_area": null,
            "grid_template_columns": null,
            "flex": null,
            "_model_name": "LayoutModel",
            "justify_items": null,
            "grid_row": null,
            "max_height": null,
            "align_content": null,
            "visibility": null,
            "align_self": null,
            "height": null,
            "min_height": null,
            "padding": null,
            "grid_auto_rows": null,
            "grid_gap": null,
            "max_width": null,
            "order": null,
            "_view_module_version": "1.2.0",
            "grid_template_areas": null,
            "object_position": null,
            "object_fit": null,
            "grid_auto_columns": null,
            "margin": null,
            "display": null,
            "left": null
          }
        },
        "45e5f0e04268484f98bcd734dc7873f2": {
          "model_module": "@jupyter-widgets/controls",
          "model_name": "FloatProgressModel",
          "state": {
            "_view_name": "ProgressView",
            "style": "IPY_MODEL_bb2242e79d5d4d6e8bcc984707ffadab",
            "_dom_classes": [],
            "description": "Tweets: 100%",
            "_model_name": "FloatProgressModel",
            "bar_style": "success",
            "max": 1000,
            "_view_module": "@jupyter-widgets/controls",
            "_model_module_version": "1.5.0",
            "value": 1000,
            "_view_count": null,
            "_view_module_version": "1.5.0",
            "orientation": "horizontal",
            "min": 0,
            "description_tooltip": null,
            "_model_module": "@jupyter-widgets/controls",
            "layout": "IPY_MODEL_1e0a4b55f57e4544b6017b1436027c4c"
          }
        },
        "a5b3fb75d3784ccdadeb46e4a30896a7": {
          "model_module": "@jupyter-widgets/controls",
          "model_name": "HTMLModel",
          "state": {
            "_view_name": "HTMLView",
            "style": "IPY_MODEL_8e5887a4059247f89409a3a64e652172",
            "_dom_classes": [],
            "description": "",
            "_model_name": "HTMLModel",
            "placeholder": "​",
            "_view_module": "@jupyter-widgets/controls",
            "_model_module_version": "1.5.0",
            "value": " 1000/1000 [04:21&lt;00:00,  3.82it/s]",
            "_view_count": null,
            "_view_module_version": "1.5.0",
            "description_tooltip": null,
            "_model_module": "@jupyter-widgets/controls",
            "layout": "IPY_MODEL_d5df5afd0f5e45aeba482690d8fee00b"
          }
        },
        "bb2242e79d5d4d6e8bcc984707ffadab": {
          "model_module": "@jupyter-widgets/controls",
          "model_name": "ProgressStyleModel",
          "state": {
            "_view_name": "StyleView",
            "_model_name": "ProgressStyleModel",
            "description_width": "initial",
            "_view_module": "@jupyter-widgets/base",
            "_model_module_version": "1.5.0",
            "_view_count": null,
            "_view_module_version": "1.2.0",
            "bar_color": null,
            "_model_module": "@jupyter-widgets/controls"
          }
        },
        "1e0a4b55f57e4544b6017b1436027c4c": {
          "model_module": "@jupyter-widgets/base",
          "model_name": "LayoutModel",
          "state": {
            "_view_name": "LayoutView",
            "grid_template_rows": null,
            "right": null,
            "justify_content": null,
            "_view_module": "@jupyter-widgets/base",
            "overflow": null,
            "_model_module_version": "1.2.0",
            "_view_count": null,
            "flex_flow": null,
            "width": null,
            "min_width": null,
            "border": null,
            "align_items": null,
            "bottom": null,
            "_model_module": "@jupyter-widgets/base",
            "top": null,
            "grid_column": null,
            "overflow_y": null,
            "overflow_x": null,
            "grid_auto_flow": null,
            "grid_area": null,
            "grid_template_columns": null,
            "flex": null,
            "_model_name": "LayoutModel",
            "justify_items": null,
            "grid_row": null,
            "max_height": null,
            "align_content": null,
            "visibility": null,
            "align_self": null,
            "height": null,
            "min_height": null,
            "padding": null,
            "grid_auto_rows": null,
            "grid_gap": null,
            "max_width": null,
            "order": null,
            "_view_module_version": "1.2.0",
            "grid_template_areas": null,
            "object_position": null,
            "object_fit": null,
            "grid_auto_columns": null,
            "margin": null,
            "display": null,
            "left": null
          }
        },
        "8e5887a4059247f89409a3a64e652172": {
          "model_module": "@jupyter-widgets/controls",
          "model_name": "DescriptionStyleModel",
          "state": {
            "_view_name": "StyleView",
            "_model_name": "DescriptionStyleModel",
            "description_width": "",
            "_view_module": "@jupyter-widgets/base",
            "_model_module_version": "1.5.0",
            "_view_count": null,
            "_view_module_version": "1.2.0",
            "_model_module": "@jupyter-widgets/controls"
          }
        },
        "d5df5afd0f5e45aeba482690d8fee00b": {
          "model_module": "@jupyter-widgets/base",
          "model_name": "LayoutModel",
          "state": {
            "_view_name": "LayoutView",
            "grid_template_rows": null,
            "right": null,
            "justify_content": null,
            "_view_module": "@jupyter-widgets/base",
            "overflow": null,
            "_model_module_version": "1.2.0",
            "_view_count": null,
            "flex_flow": null,
            "width": null,
            "min_width": null,
            "border": null,
            "align_items": null,
            "bottom": null,
            "_model_module": "@jupyter-widgets/base",
            "top": null,
            "grid_column": null,
            "overflow_y": null,
            "overflow_x": null,
            "grid_auto_flow": null,
            "grid_area": null,
            "grid_template_columns": null,
            "flex": null,
            "_model_name": "LayoutModel",
            "justify_items": null,
            "grid_row": null,
            "max_height": null,
            "align_content": null,
            "visibility": null,
            "align_self": null,
            "height": null,
            "min_height": null,
            "padding": null,
            "grid_auto_rows": null,
            "grid_gap": null,
            "max_width": null,
            "order": null,
            "_view_module_version": "1.2.0",
            "grid_template_areas": null,
            "object_position": null,
            "object_fit": null,
            "grid_auto_columns": null,
            "margin": null,
            "display": null,
            "left": null
          }
        },
        "93e0abf136c942d8ae04776fdf0d1b7f": {
          "model_module": "@jupyter-widgets/controls",
          "model_name": "HBoxModel",
          "state": {
            "_view_name": "HBoxView",
            "_dom_classes": [],
            "_model_name": "HBoxModel",
            "_view_module": "@jupyter-widgets/controls",
            "_model_module_version": "1.5.0",
            "_view_count": null,
            "_view_module_version": "1.5.0",
            "box_style": "",
            "layout": "IPY_MODEL_a7675dcb2950468ab226d5f1e1d26d51",
            "_model_module": "@jupyter-widgets/controls",
            "children": [
              "IPY_MODEL_c6b347c19e59491c9cf418393c456a4c",
              "IPY_MODEL_2e5260af404f4cfeb77f691e265dc587"
            ]
          }
        },
        "a7675dcb2950468ab226d5f1e1d26d51": {
          "model_module": "@jupyter-widgets/base",
          "model_name": "LayoutModel",
          "state": {
            "_view_name": "LayoutView",
            "grid_template_rows": null,
            "right": null,
            "justify_content": null,
            "_view_module": "@jupyter-widgets/base",
            "overflow": null,
            "_model_module_version": "1.2.0",
            "_view_count": null,
            "flex_flow": null,
            "width": null,
            "min_width": null,
            "border": null,
            "align_items": null,
            "bottom": null,
            "_model_module": "@jupyter-widgets/base",
            "top": null,
            "grid_column": null,
            "overflow_y": null,
            "overflow_x": null,
            "grid_auto_flow": null,
            "grid_area": null,
            "grid_template_columns": null,
            "flex": null,
            "_model_name": "LayoutModel",
            "justify_items": null,
            "grid_row": null,
            "max_height": null,
            "align_content": null,
            "visibility": null,
            "align_self": null,
            "height": null,
            "min_height": null,
            "padding": null,
            "grid_auto_rows": null,
            "grid_gap": null,
            "max_width": null,
            "order": null,
            "_view_module_version": "1.2.0",
            "grid_template_areas": null,
            "object_position": null,
            "object_fit": null,
            "grid_auto_columns": null,
            "margin": null,
            "display": null,
            "left": null
          }
        },
        "c6b347c19e59491c9cf418393c456a4c": {
          "model_module": "@jupyter-widgets/controls",
          "model_name": "FloatProgressModel",
          "state": {
            "_view_name": "ProgressView",
            "style": "IPY_MODEL_8bb48b32f4894624922b784bb01ece99",
            "_dom_classes": [],
            "description": "Tweets: 100%",
            "_model_name": "FloatProgressModel",
            "bar_style": "success",
            "max": 500,
            "_view_module": "@jupyter-widgets/controls",
            "_model_module_version": "1.5.0",
            "value": 500,
            "_view_count": null,
            "_view_module_version": "1.5.0",
            "orientation": "horizontal",
            "min": 0,
            "description_tooltip": null,
            "_model_module": "@jupyter-widgets/controls",
            "layout": "IPY_MODEL_2ef1b49ebb1b4b3c80d65eaa25d610eb"
          }
        },
        "2e5260af404f4cfeb77f691e265dc587": {
          "model_module": "@jupyter-widgets/controls",
          "model_name": "HTMLModel",
          "state": {
            "_view_name": "HTMLView",
            "style": "IPY_MODEL_e36c7a2ea6a145a295bf3898ef3fc324",
            "_dom_classes": [],
            "description": "",
            "_model_name": "HTMLModel",
            "placeholder": "​",
            "_view_module": "@jupyter-widgets/controls",
            "_model_module_version": "1.5.0",
            "value": " 500/500 [04:04&lt;00:00,  2.04it/s]",
            "_view_count": null,
            "_view_module_version": "1.5.0",
            "description_tooltip": null,
            "_model_module": "@jupyter-widgets/controls",
            "layout": "IPY_MODEL_190440cc1e1e4c3190d8bfe1053bc06f"
          }
        },
        "8bb48b32f4894624922b784bb01ece99": {
          "model_module": "@jupyter-widgets/controls",
          "model_name": "ProgressStyleModel",
          "state": {
            "_view_name": "StyleView",
            "_model_name": "ProgressStyleModel",
            "description_width": "initial",
            "_view_module": "@jupyter-widgets/base",
            "_model_module_version": "1.5.0",
            "_view_count": null,
            "_view_module_version": "1.2.0",
            "bar_color": null,
            "_model_module": "@jupyter-widgets/controls"
          }
        },
        "2ef1b49ebb1b4b3c80d65eaa25d610eb": {
          "model_module": "@jupyter-widgets/base",
          "model_name": "LayoutModel",
          "state": {
            "_view_name": "LayoutView",
            "grid_template_rows": null,
            "right": null,
            "justify_content": null,
            "_view_module": "@jupyter-widgets/base",
            "overflow": null,
            "_model_module_version": "1.2.0",
            "_view_count": null,
            "flex_flow": null,
            "width": null,
            "min_width": null,
            "border": null,
            "align_items": null,
            "bottom": null,
            "_model_module": "@jupyter-widgets/base",
            "top": null,
            "grid_column": null,
            "overflow_y": null,
            "overflow_x": null,
            "grid_auto_flow": null,
            "grid_area": null,
            "grid_template_columns": null,
            "flex": null,
            "_model_name": "LayoutModel",
            "justify_items": null,
            "grid_row": null,
            "max_height": null,
            "align_content": null,
            "visibility": null,
            "align_self": null,
            "height": null,
            "min_height": null,
            "padding": null,
            "grid_auto_rows": null,
            "grid_gap": null,
            "max_width": null,
            "order": null,
            "_view_module_version": "1.2.0",
            "grid_template_areas": null,
            "object_position": null,
            "object_fit": null,
            "grid_auto_columns": null,
            "margin": null,
            "display": null,
            "left": null
          }
        },
        "e36c7a2ea6a145a295bf3898ef3fc324": {
          "model_module": "@jupyter-widgets/controls",
          "model_name": "DescriptionStyleModel",
          "state": {
            "_view_name": "StyleView",
            "_model_name": "DescriptionStyleModel",
            "description_width": "",
            "_view_module": "@jupyter-widgets/base",
            "_model_module_version": "1.5.0",
            "_view_count": null,
            "_view_module_version": "1.2.0",
            "_model_module": "@jupyter-widgets/controls"
          }
        },
        "190440cc1e1e4c3190d8bfe1053bc06f": {
          "model_module": "@jupyter-widgets/base",
          "model_name": "LayoutModel",
          "state": {
            "_view_name": "LayoutView",
            "grid_template_rows": null,
            "right": null,
            "justify_content": null,
            "_view_module": "@jupyter-widgets/base",
            "overflow": null,
            "_model_module_version": "1.2.0",
            "_view_count": null,
            "flex_flow": null,
            "width": null,
            "min_width": null,
            "border": null,
            "align_items": null,
            "bottom": null,
            "_model_module": "@jupyter-widgets/base",
            "top": null,
            "grid_column": null,
            "overflow_y": null,
            "overflow_x": null,
            "grid_auto_flow": null,
            "grid_area": null,
            "grid_template_columns": null,
            "flex": null,
            "_model_name": "LayoutModel",
            "justify_items": null,
            "grid_row": null,
            "max_height": null,
            "align_content": null,
            "visibility": null,
            "align_self": null,
            "height": null,
            "min_height": null,
            "padding": null,
            "grid_auto_rows": null,
            "grid_gap": null,
            "max_width": null,
            "order": null,
            "_view_module_version": "1.2.0",
            "grid_template_areas": null,
            "object_position": null,
            "object_fit": null,
            "grid_auto_columns": null,
            "margin": null,
            "display": null,
            "left": null
          }
        },
        "712436c74b82466e8065d0b351260259": {
          "model_module": "@jupyter-widgets/controls",
          "model_name": "HBoxModel",
          "state": {
            "_view_name": "HBoxView",
            "_dom_classes": [],
            "_model_name": "HBoxModel",
            "_view_module": "@jupyter-widgets/controls",
            "_model_module_version": "1.5.0",
            "_view_count": null,
            "_view_module_version": "1.5.0",
            "box_style": "",
            "layout": "IPY_MODEL_8162d137ab494d4b81426b95e3251d88",
            "_model_module": "@jupyter-widgets/controls",
            "children": [
              "IPY_MODEL_865d539ad5694f519e466466a008e525",
              "IPY_MODEL_9fb1de10961946f28faef2d8f234ca86"
            ]
          }
        },
        "8162d137ab494d4b81426b95e3251d88": {
          "model_module": "@jupyter-widgets/base",
          "model_name": "LayoutModel",
          "state": {
            "_view_name": "LayoutView",
            "grid_template_rows": null,
            "right": null,
            "justify_content": null,
            "_view_module": "@jupyter-widgets/base",
            "overflow": null,
            "_model_module_version": "1.2.0",
            "_view_count": null,
            "flex_flow": null,
            "width": null,
            "min_width": null,
            "border": null,
            "align_items": null,
            "bottom": null,
            "_model_module": "@jupyter-widgets/base",
            "top": null,
            "grid_column": null,
            "overflow_y": null,
            "overflow_x": null,
            "grid_auto_flow": null,
            "grid_area": null,
            "grid_template_columns": null,
            "flex": null,
            "_model_name": "LayoutModel",
            "justify_items": null,
            "grid_row": null,
            "max_height": null,
            "align_content": null,
            "visibility": null,
            "align_self": null,
            "height": null,
            "min_height": null,
            "padding": null,
            "grid_auto_rows": null,
            "grid_gap": null,
            "max_width": null,
            "order": null,
            "_view_module_version": "1.2.0",
            "grid_template_areas": null,
            "object_position": null,
            "object_fit": null,
            "grid_auto_columns": null,
            "margin": null,
            "display": null,
            "left": null
          }
        },
        "865d539ad5694f519e466466a008e525": {
          "model_module": "@jupyter-widgets/controls",
          "model_name": "FloatProgressModel",
          "state": {
            "_view_name": "ProgressView",
            "style": "IPY_MODEL_d542710a38eb473286566408d3083c1e",
            "_dom_classes": [],
            "description": "Cleaning: 100%",
            "_model_name": "FloatProgressModel",
            "bar_style": "success",
            "max": 54112,
            "_view_module": "@jupyter-widgets/controls",
            "_model_module_version": "1.5.0",
            "value": 54112,
            "_view_count": null,
            "_view_module_version": "1.5.0",
            "orientation": "horizontal",
            "min": 0,
            "description_tooltip": null,
            "_model_module": "@jupyter-widgets/controls",
            "layout": "IPY_MODEL_40357ac488d14c52b0925f4fe14f7875"
          }
        },
        "9fb1de10961946f28faef2d8f234ca86": {
          "model_module": "@jupyter-widgets/controls",
          "model_name": "HTMLModel",
          "state": {
            "_view_name": "HTMLView",
            "style": "IPY_MODEL_9299b7bfe8eb4e83aaa845e1f7a82cf7",
            "_dom_classes": [],
            "description": "",
            "_model_name": "HTMLModel",
            "placeholder": "​",
            "_view_module": "@jupyter-widgets/controls",
            "_model_module_version": "1.5.0",
            "value": " 54112/54112 [42:18&lt;00:00, 21.31it/s]",
            "_view_count": null,
            "_view_module_version": "1.5.0",
            "description_tooltip": null,
            "_model_module": "@jupyter-widgets/controls",
            "layout": "IPY_MODEL_e03dcce5c3714141ae4f9c6720f7f2ef"
          }
        },
        "d542710a38eb473286566408d3083c1e": {
          "model_module": "@jupyter-widgets/controls",
          "model_name": "ProgressStyleModel",
          "state": {
            "_view_name": "StyleView",
            "_model_name": "ProgressStyleModel",
            "description_width": "initial",
            "_view_module": "@jupyter-widgets/base",
            "_model_module_version": "1.5.0",
            "_view_count": null,
            "_view_module_version": "1.2.0",
            "bar_color": null,
            "_model_module": "@jupyter-widgets/controls"
          }
        },
        "40357ac488d14c52b0925f4fe14f7875": {
          "model_module": "@jupyter-widgets/base",
          "model_name": "LayoutModel",
          "state": {
            "_view_name": "LayoutView",
            "grid_template_rows": null,
            "right": null,
            "justify_content": null,
            "_view_module": "@jupyter-widgets/base",
            "overflow": null,
            "_model_module_version": "1.2.0",
            "_view_count": null,
            "flex_flow": null,
            "width": null,
            "min_width": null,
            "border": null,
            "align_items": null,
            "bottom": null,
            "_model_module": "@jupyter-widgets/base",
            "top": null,
            "grid_column": null,
            "overflow_y": null,
            "overflow_x": null,
            "grid_auto_flow": null,
            "grid_area": null,
            "grid_template_columns": null,
            "flex": null,
            "_model_name": "LayoutModel",
            "justify_items": null,
            "grid_row": null,
            "max_height": null,
            "align_content": null,
            "visibility": null,
            "align_self": null,
            "height": null,
            "min_height": null,
            "padding": null,
            "grid_auto_rows": null,
            "grid_gap": null,
            "max_width": null,
            "order": null,
            "_view_module_version": "1.2.0",
            "grid_template_areas": null,
            "object_position": null,
            "object_fit": null,
            "grid_auto_columns": null,
            "margin": null,
            "display": null,
            "left": null
          }
        },
        "9299b7bfe8eb4e83aaa845e1f7a82cf7": {
          "model_module": "@jupyter-widgets/controls",
          "model_name": "DescriptionStyleModel",
          "state": {
            "_view_name": "StyleView",
            "_model_name": "DescriptionStyleModel",
            "description_width": "",
            "_view_module": "@jupyter-widgets/base",
            "_model_module_version": "1.5.0",
            "_view_count": null,
            "_view_module_version": "1.2.0",
            "_model_module": "@jupyter-widgets/controls"
          }
        },
        "e03dcce5c3714141ae4f9c6720f7f2ef": {
          "model_module": "@jupyter-widgets/base",
          "model_name": "LayoutModel",
          "state": {
            "_view_name": "LayoutView",
            "grid_template_rows": null,
            "right": null,
            "justify_content": null,
            "_view_module": "@jupyter-widgets/base",
            "overflow": null,
            "_model_module_version": "1.2.0",
            "_view_count": null,
            "flex_flow": null,
            "width": null,
            "min_width": null,
            "border": null,
            "align_items": null,
            "bottom": null,
            "_model_module": "@jupyter-widgets/base",
            "top": null,
            "grid_column": null,
            "overflow_y": null,
            "overflow_x": null,
            "grid_auto_flow": null,
            "grid_area": null,
            "grid_template_columns": null,
            "flex": null,
            "_model_name": "LayoutModel",
            "justify_items": null,
            "grid_row": null,
            "max_height": null,
            "align_content": null,
            "visibility": null,
            "align_self": null,
            "height": null,
            "min_height": null,
            "padding": null,
            "grid_auto_rows": null,
            "grid_gap": null,
            "max_width": null,
            "order": null,
            "_view_module_version": "1.2.0",
            "grid_template_areas": null,
            "object_position": null,
            "object_fit": null,
            "grid_auto_columns": null,
            "margin": null,
            "display": null,
            "left": null
          }
        }
      }
    }
  },
  "cells": [
    {
      "cell_type": "markdown",
      "metadata": {
        "id": "view-in-github",
        "colab_type": "text"
      },
      "source": [
        "<a href=\"https://colab.research.google.com/github/Huertas97/Sentiment_Analysis/blob/main/tass_models/TASS_data_extraction.ipynb\" target=\"_parent\"><img src=\"https://colab.research.google.com/assets/colab-badge.svg\" alt=\"Open In Colab\"/></a>"
      ]
    },
    {
      "cell_type": "markdown",
      "metadata": {
        "id": "s6gnASOTHxzy"
      },
      "source": [
        "# Introduction\r\n",
        "\r\n",
        "In this notebook we parse and merge all the data from Taller de Análisis Semántico en la SEPLN (TASS). The TASS dataset used is a compilation of tweets from TASS competitions celebrated from 2012 to 2019 with a total of 53k tweets. TASS includes tweets from various topics (TV, politics, sports) from different Spanish speaking countries (Spain, Costa Rica, Uruguay, Mexico and Peru)"
      ]
    },
    {
      "cell_type": "markdown",
      "metadata": {
        "id": "kH5rwsSjDr--"
      },
      "source": [
        "# Tweet parsing"
      ]
    },
    {
      "cell_type": "code",
      "metadata": {
        "colab": {
          "base_uri": "https://localhost:8080/"
        },
        "id": "jQJae_mhERxn",
        "outputId": "a61b8729-f04e-4cde-9f93-49d58a4707ac"
      },
      "source": [
        "!pip install -q emoji\r\n",
        "!pip install -U -q emot \r\n",
        "!pip install mtranslate\r\n",
        "!pip install -U -q Unidecode\r\n",
        "!pip install -U -q tweet-preprocessor"
      ],
      "execution_count": null,
      "outputs": [
        {
          "output_type": "stream",
          "text": [
            "\u001b[?25l\r\u001b[K     |██████▍                         | 10kB 18.7MB/s eta 0:00:01\r\u001b[K     |████████████▉                   | 20kB 10.6MB/s eta 0:00:01\r\u001b[K     |███████████████████▎            | 30kB 8.6MB/s eta 0:00:01\r\u001b[K     |█████████████████████████▊      | 40kB 7.6MB/s eta 0:00:01\r\u001b[K     |████████████████████████████████| 51kB 2.8MB/s \n",
            "\u001b[?25h  Building wheel for emoji (setup.py) ... \u001b[?25l\u001b[?25hdone\n",
            "Collecting mtranslate\n",
            "  Downloading https://files.pythonhosted.org/packages/85/17/a2e5c00bf666fcbc119a44c5f20406e7be951a7d720bb48e573815a8ffc3/mtranslate-1.8.tar.gz\n",
            "Building wheels for collected packages: mtranslate\n",
            "  Building wheel for mtranslate (setup.py) ... \u001b[?25l\u001b[?25hdone\n",
            "  Created wheel for mtranslate: filename=mtranslate-1.8-cp36-none-any.whl size=3695 sha256=9e6d2803e69319b6f4107e689f909050246f7b5b2713674d4cb5b619aad06969\n",
            "  Stored in directory: /root/.cache/pip/wheels/eb/fb/4a/f63e74cbfb835161f3f2d1a6b607b137d344a5cb6d8c1303fa\n",
            "Successfully built mtranslate\n",
            "Installing collected packages: mtranslate\n",
            "Successfully installed mtranslate-1.8\n",
            "\u001b[K     |████████████████████████████████| 245kB 5.3MB/s \n",
            "\u001b[?25h"
          ],
          "name": "stdout"
        }
      ]
    },
    {
      "cell_type": "markdown",
      "metadata": {
        "id": "n2Z7lQFAhqzo"
      },
      "source": [
        "## Emoji parsing\r\n",
        "\r\n",
        "The data is preprocessed and cleaned. Firstly, emojis not related to emotions or feelings are deleted from the text, but emojis related to emotions are converted into text. Secondly, URLs and tweet mentions are removed."
      ]
    },
    {
      "cell_type": "code",
      "metadata": {
        "id": "7bkE06WlE0em"
      },
      "source": [
        "import emot\r\n",
        "import emoji\r\n",
        "import re\r\n",
        "from mtranslate import translate\r\n",
        "import unidecode\r\n",
        "import preprocessor as p\r\n",
        "p.set_options(p.OPT.URL, p.OPT.MENTION)"
      ],
      "execution_count": null,
      "outputs": []
    },
    {
      "cell_type": "code",
      "metadata": {
        "id": "s8tt6Lu-H2iL"
      },
      "source": [
        "\r\n",
        "# Actualizamos el diccionario de EMOTICONOS (\";D\" --> \" ;D \")\r\n",
        "for k in emot.EMOTICONS.keys():\r\n",
        "  if len(re.findall(\"^[A-Za-z]|[A-Za-z]$\", k)) != 0:\r\n",
        "    new_k = re.sub(k, \" \"+k+\" \", k)\r\n",
        "    emot.EMOTICONS[new_k] = emot.EMOTICONS.pop(k)\r\n",
        "\r\n",
        "def decode_emot_emoji(string, translation = False):\r\n",
        "  \"\"\"\r\n",
        "  Función encargada de transformar los emoticonos y emojis de una frase \r\n",
        "  en su significado en español. \r\n",
        "  Se emplea el paquete \"emot\" para detectar emoticonos y emojis. \r\n",
        "\r\n",
        "  El funcionamiento es el siguiente. 1) Se añaden espacios al principio y\r\n",
        "  final de la frase para facilitar la transformación de emoticonos en estas\r\n",
        "  posiciones. 2) Se transforma el emoticono del corazón \"<3\" que no viene en\r\n",
        "  los diccionarios de emoticonos. 3) Si se detectan emoticonos se recorre\r\n",
        "  el diccionario donde se guardan el valor y significado de cada emoticono.\r\n",
        "  Recorremos en un bucle los distintos emoticonos por índice (valor 1 del emo 1 etc). \r\n",
        "  4) Lo mismo para los emojis\r\n",
        "  \r\n",
        "  Params:\r\n",
        "  -------\r\n",
        "    string: str\r\n",
        "        Frase ha decodificar\r\n",
        "\r\n",
        "  Returns:\r\n",
        "  --------\r\n",
        "    string: str\r\n",
        "      Frase decodificada\r\n",
        "  \"\"\"\r\n",
        "  valid_emojis = [\"face with steam from nose\",\r\n",
        "                  \"middle finger\"\r\n",
        "               ] \r\n",
        "\r\n",
        "  # Delete URL and mentions\r\n",
        "  string = p.clean(string).replace(\"#\",\"\")\r\n",
        "\r\n",
        "\r\n",
        "  # Añado espacios por si hay emoticono al final o inicio Ej. \"blablabla ;D.\"\r\n",
        "  string = \" \"+string+\" \"\r\n",
        "\r\n",
        "  # ----------------- Emoticono corazOn ------------------\r\n",
        "  # Añado el emoticono del corazon. Es muy habitual\r\n",
        "  if \" <3 \" in string:\r\n",
        "    if translation == \"es\":\r\n",
        "      string = string.replace(\"<3\", \" corazón \")\r\n",
        "    else:\r\n",
        "      string = string.replace(\"<3\", \" heart \")\r\n",
        "  if \" </3 \" in string:\r\n",
        "    if translation == \"es\":\r\n",
        "      string = string.replace(\"<3\", \" corazón roto \")\r\n",
        "    else:\r\n",
        "      string = string.replace(\"<3\", \" broken heart \")\r\n",
        "  \r\n",
        "  # -------------- EMOTICONOS --------------\r\n",
        "  info_emoticons = emot.emoticons(string)\r\n",
        "  \r\n",
        "  # Vemos si detectamos emoticonos. Puede darse de dos manera (por eso try except)\r\n",
        "  try:\r\n",
        "    search = info_emoticons[\"flag\"]\r\n",
        "  except:\r\n",
        "    search = info_emoticons[0][\"flag\"]\r\n",
        "\r\n",
        "  if search:\r\n",
        "    n = len(info_emoticons[\"value\"])\r\n",
        "    for i in range(n):\r\n",
        "      value = info_emoticons[\"value\"][i]\r\n",
        "      mean = info_emoticons[\"mean\"][i].lower()\r\n",
        "      if translation == \"es\":\r\n",
        "        mean = translate(mean, to_language = \"es\")             # Traducción\r\n",
        "      string = string.replace(value, \" \"+mean+\" \")\r\n",
        "    string.strip()\r\n",
        "\r\n",
        "  else: \r\n",
        "    string.strip()\r\n",
        "  \r\n",
        "  # -------------- EMOJIS --------------\r\n",
        "  info_emoji = emot.emoji(string)\r\n",
        "  try:\r\n",
        "    search = info_emoji[\"flag\"]\r\n",
        "  except:\r\n",
        "    search = info_emoji[0][\"flag\"]\r\n",
        "\r\n",
        "  if search:\r\n",
        "    n = len(info_emoji[\"value\"])\r\n",
        "    for i in range(n):\r\n",
        "      value = info_emoji[\"value\"][i]\r\n",
        "      mean = info_emoji[\"mean\"][i]\r\n",
        "      mean = mean.replace(\"_\", \" \").strip(\":\") # Formateo :green_heart: --> green heart\r\n",
        "      if mean in valid_emojis or any( e in mean.split() for e in [\"heart\", \r\n",
        "                                                          \"face\",\r\n",
        "                                                          \"cat\",\r\n",
        "                                                          \"dna\",\r\n",
        "                                                          \"microscope\",\r\n",
        "                                                          \"pill\",\r\n",
        "                                                          \"blood\", \r\n",
        "                                                          \"syringe\",\r\n",
        "                                                          \"soap\",\r\n",
        "                                                          \"no\",\r\n",
        "                                                          \"radioactive\",\r\n",
        "                                                          \"biohazard\",\r\n",
        "                                                          \"warning\",\r\n",
        "                                                          \"prohibited\"\r\n",
        "                                                          ]): \r\n",
        "\r\n",
        "\r\n",
        "        if translation == \"es\":\r\n",
        "          mean = translate(mean, to_language = \"es\")    # Traducción\r\n",
        "        string = string.replace(value, \" \"+mean+\" \")\r\n",
        "      \r\n",
        "      else: \r\n",
        "        string = string.replace(value, \"\")\r\n",
        "        \r\n",
        "      \r\n",
        "      \r\n",
        "    # Corrijo dobles espacios\r\n",
        "    string  = re.sub(\"\\s{2,}\", \" \", string)\r\n",
        "    # print(string)\r\n",
        "    string = unidecode.unidecode(string).replace(\"[?]\", \"\")\r\n",
        "\r\n",
        "\r\n",
        "    \r\n",
        "    return string.strip() \r\n",
        "\r\n",
        "  else: \r\n",
        "    string  = re.sub(\"\\s{2,}\", \" \", string)\r\n",
        "    string = p.clean(string)\r\n",
        "    return string.strip()\r\n",
        "    "
      ],
      "execution_count": null,
      "outputs": []
    },
    {
      "cell_type": "code",
      "metadata": {
        "colab": {
          "base_uri": "https://localhost:8080/"
        },
        "id": "weuFmKPyH59Y",
        "outputId": "b6478408-f4de-45b2-fa6e-ce2605285dac"
      },
      "source": [
        "strings = [\r\n",
        "          \"I love Python 🐍 <3 :) https://unicode.org/emoji/charts/full-emoji-list.html\",\r\n",
        "          \"Odio las películas de acción 😤\",\r\n",
        "          \"Hoy es San Valentín 👩‍❤️‍💋‍👩!!\",\r\n",
        "          \"Prefiero las pizza 🍕🌭😻 a la lechuga 🥦🤢\",\r\n",
        "           \"No me piengo vacunar 💉\", \r\n",
        "           \"las farmaceúticas 💊 son una estafa 🚫\",\r\n",
        "           \"Hay que arreglar a estos políticos 🔧\",\r\n",
        "           \"Lo que nadie queire que sepas 🔒🔒🔒🔒\",\r\n",
        "           \"Nos van a encerrar como becerros 😱 https://github.com/s/preprocessor\",\r\n",
        "           \"@RT @Twitter raw text data usually has lots of #residue. http://t.co/g00gl\",\r\n",
        "           \"Las mejores fotos son las que no se ven ✨🌟\"\r\n",
        "\r\n",
        "          \r\n",
        "          ]\r\n",
        "\r\n",
        "[decode_emot_emoji(s, translation = \"es\") for s in strings]"
      ],
      "execution_count": null,
      "outputs": [
        {
          "output_type": "execute_result",
          "data": {
            "text/plain": [
              "['I love Python corazon cara feliz o sonriente',\n",
              " 'Odio las peliculas de accion cara con vapor de la nariz',\n",
              " 'Hoy es San Valentin  corazon rojo !!',\n",
              " 'Prefiero las pizza cara de gato sonriente con ojos de corazon a la lechuga  cara con nauseas',\n",
              " 'No me piengo vacunar jeringuilla',\n",
              " 'las farmaceuticas pildora son una estafa prohibido',\n",
              " 'Hay que arreglar a estos politicos',\n",
              " 'Lo que nadie queire que sepas',\n",
              " 'Nos van a encerrar como becerros cara gritando de miedo',\n",
              " 'raw text data usually has lots of residue.',\n",
              " 'Las mejores fotos son las que no se ven']"
            ]
          },
          "metadata": {
            "tags": []
          },
          "execution_count": 95
        }
      ]
    },
    {
      "cell_type": "markdown",
      "metadata": {
        "id": "HZn3T3Qtkfqd"
      },
      "source": [
        "# TASS data collecting\r\n",
        "\r\n",
        "Juntaremos todos los datos (test  o train, eliminaremos los duplicados y partiremos nosotros los datos en tres partes)."
      ]
    },
    {
      "cell_type": "code",
      "metadata": {
        "id": "NIv80y1Xkh5W"
      },
      "source": [
        "import pandas as pd\r\n",
        "pd.set_option('max_colwidth',1000)\r\n",
        "# \"/content/drive/MyDrive/Datos_fake_news/Sentiment_Analysis/Data/train/general-train-tagged-3l.xml\""
      ],
      "execution_count": null,
      "outputs": []
    },
    {
      "cell_type": "code",
      "metadata": {
        "colab": {
          "base_uri": "https://localhost:8080/"
        },
        "id": "D8XT27jcXIvA",
        "outputId": "2c4ca05f-3a1e-4cde-ecf8-073272302f5b"
      },
      "source": [
        "import os\r\n",
        "from tqdm.auto import tqdm\r\n",
        "os.listdir(\"/content/drive/MyDrive/Datos_fake_news/Sentiment_Analysis/Data/test/\")"
      ],
      "execution_count": null,
      "outputs": [
        {
          "output_type": "execute_result",
          "data": {
            "text/plain": [
              "['general-test-tagged-3l.xml',\n",
              " 'politics-test-tagged.xml',\n",
              " 'socialtv-test-tagged.xml',\n",
              " 'intertass-ES-development-tagged.xml',\n",
              " 'intertass-CR-development-tagged.xml',\n",
              " 'intertass-PE-development-tagged.xml',\n",
              " 'stompol-test-tagged.xml']"
            ]
          },
          "metadata": {
            "tags": []
          },
          "execution_count": 16
        }
      ]
    },
    {
      "cell_type": "code",
      "metadata": {
        "colab": {
          "base_uri": "https://localhost:8080/",
          "height": 67,
          "referenced_widgets": [
            "9608b25cb4ea434197546839a9ed1f44",
            "f8337419f1b44e42b4a0d0ceb203874b",
            "f568e18a2a7849fd82d3856431d2f96c",
            "b1c41c51c0ac4b3eb1a5996c57bf0ccb",
            "82af80718ee6469da3c752ef5d1b30da",
            "772c053e15784e7e89771654ff037f2b",
            "fb24b96f041c4eaaa3df61d0a7c0789d",
            "71a3f40163cb4516b020b43a3615f1ed"
          ]
        },
        "id": "WBE85XsbrPKP",
        "outputId": "1c631dc0-b3af-4dfc-d76f-895b818ed44e"
      },
      "source": [
        "path = \"/content/drive/MyDrive/Datos_fake_news/Sentiment_Analysis/Data/train/\"\r\n",
        "f = \"general-train-tagged-3l.xml\"\r\n",
        "\r\n",
        "try:\r\n",
        "    df = pd.read_csv(os.path.join(path, f), encoding='utf-8')\r\n",
        "except:\r\n",
        "\r\n",
        "    from lxml import objectify\r\n",
        "    xml = objectify.parse(open(os.path.join(path, f)))\r\n",
        "    #sample tweet object\r\n",
        "    root = xml.getroot()\r\n",
        "    df = pd.DataFrame(columns=('content', 'polarity', 'agreement'))\r\n",
        "    tweets = root.getchildren()\r\n",
        "    for i in tqdm(range(0,len(tweets)), desc = \"Tweets\"):\r\n",
        "        tweet = tweets[i]\r\n",
        "        row = dict(zip(['content', 'polarity', 'agreement'], [tweet.content.text, tweet.sentiments.polarity.value.text, tweet.sentiments.polarity.type.text]))\r\n",
        "        row_s = pd.Series(row)\r\n",
        "        row_s.name = i\r\n",
        "        df = df.append(row_s)\r\n",
        "    df.to_csv(f.replace(\".xml\", '.csv'), index=False, encoding='utf-8')"
      ],
      "execution_count": null,
      "outputs": [
        {
          "output_type": "display_data",
          "data": {
            "application/vnd.jupyter.widget-view+json": {
              "model_id": "9608b25cb4ea434197546839a9ed1f44",
              "version_minor": 0,
              "version_major": 2
            },
            "text/plain": [
              "HBox(children=(FloatProgress(value=0.0, description='Tweets', max=7219.0, style=ProgressStyle(description_widt…"
            ]
          },
          "metadata": {
            "tags": []
          }
        },
        {
          "output_type": "stream",
          "text": [
            "\n"
          ],
          "name": "stdout"
        }
      ]
    },
    {
      "cell_type": "code",
      "metadata": {
        "colab": {
          "base_uri": "https://localhost:8080/"
        },
        "id": "ed8kl6GYAZQF",
        "outputId": "b22ddb68-ed97-42b8-e279-1a209443e5c8"
      },
      "source": [
        "sum(pd.read_csv(\"/content/general-train-tagged-3l.csv\").content == \"P\")"
      ],
      "execution_count": null,
      "outputs": [
        {
          "output_type": "execute_result",
          "data": {
            "text/plain": [
              "0"
            ]
          },
          "metadata": {
            "tags": []
          },
          "execution_count": 32
        }
      ]
    },
    {
      "cell_type": "code",
      "metadata": {
        "colab": {
          "base_uri": "https://localhost:8080/",
          "height": 67,
          "referenced_widgets": [
            "f7ae9bb06b2a4b308bc68cda472deb02",
            "b2d44a30403542f7a0272cd27067ebd6",
            "d6ab42aaf0654fc7b51f5fa4290c826d",
            "fdb74bc6a13a4924acfa72292a283a3b",
            "bf732efccda442a6bd6f6a8cd8c2b86d",
            "c916f830f99b48a4a9ae4ff2cf28d5c9",
            "c426f26957b648ab915b67b6e2ccc7cf",
            "5796c5f454ca4ef7b45b1d90871e3149"
          ]
        },
        "id": "qG_TtEq0ltmE",
        "outputId": "8a91cb76-de7c-4f44-fbe3-20246f0e64c7"
      },
      "source": [
        "path = \"/content/drive/MyDrive/Datos_fake_news/Sentiment_Analysis/Data/test/\"\r\n",
        "f = \"general-test-tagged-3l.xml\"\r\n",
        "\r\n",
        "try:\r\n",
        "    df = pd.read_csv(os.path.join(path, f), encoding='utf-8')\r\n",
        "except:\r\n",
        "\r\n",
        "    from lxml import objectify\r\n",
        "    xml = objectify.parse(open(os.path.join(path, f)))\r\n",
        "    #sample tweet object\r\n",
        "    root = xml.getroot()\r\n",
        "    df = pd.DataFrame(columns=('content', 'polarity', 'agreement'))\r\n",
        "    tweets = root.getchildren()\r\n",
        "    for i in tqdm(range(0,len(tweets)), desc = \"Tweets\"):\r\n",
        "        tweet = tweets[i]\r\n",
        "        row = dict(zip(['content', 'polarity', 'agreement'], [tweet.content.text, tweet.sentiments.polarity.value.text]))\r\n",
        "        row_s = pd.Series(row)\r\n",
        "        row_s.name = i\r\n",
        "        df = df.append(row_s)\r\n",
        "    df.to_csv(f.replace(\".xml\", '.csv'), index=False, encoding='utf-8')"
      ],
      "execution_count": null,
      "outputs": [
        {
          "output_type": "display_data",
          "data": {
            "application/vnd.jupyter.widget-view+json": {
              "model_id": "f7ae9bb06b2a4b308bc68cda472deb02",
              "version_minor": 0,
              "version_major": 2
            },
            "text/plain": [
              "HBox(children=(FloatProgress(value=0.0, description='Tweets', max=60798.0, style=ProgressStyle(description_wid…"
            ]
          },
          "metadata": {
            "tags": []
          }
        },
        {
          "output_type": "stream",
          "text": [
            "\n"
          ],
          "name": "stdout"
        }
      ]
    },
    {
      "cell_type": "code",
      "metadata": {
        "colab": {
          "base_uri": "https://localhost:8080/"
        },
        "id": "ICZvflcRAHY6",
        "outputId": "272a2b77-6630-4fae-ca87-c93c710704e1"
      },
      "source": [
        "sum(pd.read_csv(\"/content/general-test-tagged-3l.csv\").content == \"NEU\")"
      ],
      "execution_count": null,
      "outputs": [
        {
          "output_type": "execute_result",
          "data": {
            "text/plain": [
              "0"
            ]
          },
          "metadata": {
            "tags": []
          },
          "execution_count": 34
        }
      ]
    },
    {
      "cell_type": "markdown",
      "metadata": {
        "id": "gu4wA5WaaeHO"
      },
      "source": [
        "# Stopmpol"
      ]
    },
    {
      "cell_type": "code",
      "metadata": {
        "colab": {
          "base_uri": "https://localhost:8080/",
          "height": 67,
          "referenced_widgets": [
            "c6d08c39d0754759928716715b90d5fb",
            "7b372f699d904681a5b3b49cf60416c1",
            "620457f5d98a4a28b4e62a156e196ae6",
            "faa249df6adf42bab79f65753c8aec33",
            "600b24d0450b459dab71224d221f51ca",
            "ac64a2b7cc694f4f85d817f9a22d2889",
            "6fb80dfb253c450cbc0c66e32b0c1e86",
            "90740aa4b3044b89a3fe52297540d9bb"
          ]
        },
        "id": "L5DzLmJvaePu",
        "outputId": "a316ad9a-47dc-47c6-9f99-4e179b755d99"
      },
      "source": [
        "path = \"/content/drive/MyDrive/Datos_fake_news/Sentiment_Analysis/Data/train/\"\r\n",
        "f = \"stompol-train-tagged.xml\"\r\n",
        "\r\n",
        "try:\r\n",
        "    df = pd.read_csv(os.path.join(path, f), encoding='utf-8')\r\n",
        "except:\r\n",
        "\r\n",
        "    from lxml import objectify\r\n",
        "    xml = objectify.parse(open(os.path.join(path, f)))\r\n",
        "    #sample tweet object\r\n",
        "    root = xml.getroot()\r\n",
        "    df = pd.DataFrame(columns=('content', 'polarity', \"agreement\"))\r\n",
        "    tweets = root.getchildren()\r\n",
        "    for i in tqdm(range(0,len(tweets)), desc = \"Tweets\"):\r\n",
        "        tweet = tweets[i]\r\n",
        "        row = dict(zip(['content', 'polarity', 'agreement'], [' '.join(list(tweet.itertext())), tweet.sentiment.get('polarity')]))\r\n",
        "        row_s = pd.Series(row)\r\n",
        "        row_s.name = i\r\n",
        "        df = df.append(row_s)\r\n",
        "    df.to_csv(f.replace(\".xml\", '.csv'), index=False, encoding='utf-8')"
      ],
      "execution_count": null,
      "outputs": [
        {
          "output_type": "display_data",
          "data": {
            "application/vnd.jupyter.widget-view+json": {
              "model_id": "c6d08c39d0754759928716715b90d5fb",
              "version_minor": 0,
              "version_major": 2
            },
            "text/plain": [
              "HBox(children=(FloatProgress(value=0.0, description='Tweets', max=784.0, style=ProgressStyle(description_width…"
            ]
          },
          "metadata": {
            "tags": []
          }
        },
        {
          "output_type": "stream",
          "text": [
            "\n"
          ],
          "name": "stdout"
        }
      ]
    },
    {
      "cell_type": "code",
      "metadata": {
        "colab": {
          "base_uri": "https://localhost:8080/"
        },
        "id": "uvcyI_kOAtOu",
        "outputId": "5e14e72d-6fcb-4ffb-b537-2e9e0f2d76cd"
      },
      "source": [
        "sum(pd.read_csv(\"/content/stompol-train-tagged.csv\").content == \"P\")"
      ],
      "execution_count": null,
      "outputs": [
        {
          "output_type": "execute_result",
          "data": {
            "text/plain": [
              "0"
            ]
          },
          "metadata": {
            "tags": []
          },
          "execution_count": 41
        }
      ]
    },
    {
      "cell_type": "code",
      "metadata": {
        "id": "-_mo4vvyprrW"
      },
      "source": [
        "path = \"/content/drive/MyDrive/Datos_fake_news/Sentiment_Analysis/Data/test/\"\r\n",
        "f = \"stompol-test-tagged.xml\"\r\n",
        "\r\n",
        "\r\n",
        "\r\n",
        "\r\n",
        "from lxml import objectify\r\n",
        "xml = objectify.parse(open('/content/drive/MyDrive/Datos_fake_news/Sentiment_Analysis/Data/test/stompol-test-tagged.xml'))\r\n",
        "#sample tweet object\r\n",
        "root = xml.getroot()\r\n",
        "stompol_tweets_corpus_test = pd.DataFrame(columns=('content', 'polarity'))\r\n",
        "tweets = root.getchildren()\r\n",
        "for i in tqdm(range(0,len(tweets)), desc = \"Tweets\"):\r\n",
        "    tweet = tweets[i]\r\n",
        "    row = dict(zip(['content', 'polarity', 'agreement'], [' '.join(list(tweet.itertext())), tweet.sentiment.get('polarity')]))\r\n",
        "    row_s = pd.Series(row)\r\n",
        "    row_s.name = i\r\n",
        "    stompol_tweets_corpus_test = stompol_tweets_corpus_test.append(row_s)\r\n",
        "stompol_tweets_corpus_test.to_csv('stompol-tweets-test-tagged.csv', index=False, encoding='utf-8')"
      ],
      "execution_count": null,
      "outputs": []
    },
    {
      "cell_type": "code",
      "metadata": {
        "id": "eUa1BNnVqtU9"
      },
      "source": [
        "stompol_tweets_corpus_test.to_csv('stompol-tweets-test-tagged.csv', index=False, encoding='utf-8')"
      ],
      "execution_count": null,
      "outputs": []
    },
    {
      "cell_type": "code",
      "metadata": {
        "colab": {
          "base_uri": "https://localhost:8080/"
        },
        "id": "6TunPKGCBkb9",
        "outputId": "dc552702-f1e9-467b-af72-4ecdac4d116c"
      },
      "source": [
        "sum(stompol_tweets_corpus_test.content == \"NEU\")"
      ],
      "execution_count": null,
      "outputs": [
        {
          "output_type": "execute_result",
          "data": {
            "text/plain": [
              "0"
            ]
          },
          "metadata": {
            "tags": []
          },
          "execution_count": 52
        }
      ]
    },
    {
      "cell_type": "markdown",
      "metadata": {
        "id": "n72VZqygbc_x"
      },
      "source": [
        "# Social TV"
      ]
    },
    {
      "cell_type": "code",
      "metadata": {
        "colab": {
          "base_uri": "https://localhost:8080/",
          "height": 67,
          "referenced_widgets": [
            "a7b2e00084d94cec889032f36e19b854",
            "f58573ccee3d4c46a092b7bc5c4a3917",
            "ea60789b78c54044a10c0f8ed29b3ada",
            "51ca3749916c432bad2d76ec0fc6d3f9",
            "060f4c7649a642c994c6e6a8a5639b0f",
            "b2ff746ef4f949b088fb8f4683c3db93",
            "278a84e4cbc348e3adba25bc5078bcab",
            "f8f3d4e48e954559b5930549989aea26"
          ]
        },
        "id": "3gGhCh_NbdFx",
        "outputId": "169e29bd-40ec-4d50-f5d2-5663b56ed05f"
      },
      "source": [
        "path = \"/content/drive/MyDrive/Datos_fake_news/Sentiment_Analysis/Data/train/\"\r\n",
        "f = \"socialtv-train-tagged.xml\"\r\n",
        "\r\n",
        "try:\r\n",
        "    social_tweets_corpus_train = pd.read_csv(os.path.join(path, f), encoding='utf-8')\r\n",
        "except:\r\n",
        "\r\n",
        "    from lxml import objectify\r\n",
        "    xml = objectify.parse(open(os.path.join(path, f)))\r\n",
        "    #sample tweet object\r\n",
        "    root = xml.getroot()\r\n",
        "    social_tweets_corpus_train = pd.DataFrame(columns=('content', 'polarity', \"agreement\"))\r\n",
        "    tweets = root.getchildren()\r\n",
        "    for i in tqdm(range(0,len(tweets)), desc = \"Tweets\"):\r\n",
        "        tweet = tweets[i]\r\n",
        "        row = dict(zip(['content', 'polarity', 'agreement'], [' '.join(list(tweet.itertext())), tweet.sentiment.get('polarity')]))\r\n",
        "        row_s = pd.Series(row)\r\n",
        "        row_s.name = i\r\n",
        "        social_tweets_corpus_train = social_tweets_corpus_train.append(row_s)\r\n",
        "    social_tweets_corpus_train.to_csv('socialtv-tweets-train-tagged.csv', index=False, encoding='utf-8')"
      ],
      "execution_count": null,
      "outputs": [
        {
          "output_type": "display_data",
          "data": {
            "application/vnd.jupyter.widget-view+json": {
              "model_id": "a7b2e00084d94cec889032f36e19b854",
              "version_minor": 0,
              "version_major": 2
            },
            "text/plain": [
              "HBox(children=(FloatProgress(value=0.0, description='Tweets', max=1773.0, style=ProgressStyle(description_widt…"
            ]
          },
          "metadata": {
            "tags": []
          }
        },
        {
          "output_type": "stream",
          "text": [
            "\n"
          ],
          "name": "stdout"
        }
      ]
    },
    {
      "cell_type": "code",
      "metadata": {
        "colab": {
          "base_uri": "https://localhost:8080/"
        },
        "id": "XUnox4-mCORN",
        "outputId": "eb071b85-4d27-4525-ea00-f0c90b7b05b8"
      },
      "source": [
        "sum(social_tweets_corpus_train.content == \"NEU\")"
      ],
      "execution_count": null,
      "outputs": [
        {
          "output_type": "execute_result",
          "data": {
            "text/plain": [
              "0"
            ]
          },
          "metadata": {
            "tags": []
          },
          "execution_count": 58
        }
      ]
    },
    {
      "cell_type": "code",
      "metadata": {
        "colab": {
          "base_uri": "https://localhost:8080/",
          "height": 67,
          "referenced_widgets": [
            "974bd41717b24c6db54e9ee60135b325",
            "1e8b53327c1145b1a0e8dfeb7a4156d3",
            "f20341121a374de883cf22d69ecb53cd",
            "b57ef9ea288b407e94708324e63ee4ed",
            "9757727c2a3b454d8bfa698398d485c9",
            "2bf4b8023a1d4e9f8f6eee7a3bb45513",
            "197ad3a00bc848f1b616889bff3d7f6f",
            "148472838e664ca3806d6e6fd7a6847f"
          ]
        },
        "id": "VcqPG0R1r_gN",
        "outputId": "06f7717f-15ba-46b0-b389-663208d5fb2f"
      },
      "source": [
        "try:\r\n",
        "    social_tweets_corpus_test = pd.read_csv(\"/content/drive/MyDrive/Datos_fake_news/Sentiment_Analysis/Data/test/socialtv-test-tagged.xml\", encoding='utf-8')\r\n",
        "except:\r\n",
        "\r\n",
        "    from lxml import objectify\r\n",
        "    xml = objectify.parse(open(\"/content/drive/MyDrive/Datos_fake_news/Sentiment_Analysis/Data/test/socialtv-test-tagged.xml\"))\r\n",
        "    #sample tweet object\r\n",
        "    root = xml.getroot()\r\n",
        "    social_tweets_corpus_test = pd.DataFrame(columns=('content', 'polarity'))\r\n",
        "    tweets = root.getchildren()\r\n",
        "    for i in tqdm(range(0,len(tweets)), desc = \"Tweets\"):\r\n",
        "        tweet = tweets[i]\r\n",
        "        row = dict(zip(['content', 'polarity', 'agreement'], [' '.join(list(tweet.itertext())), tweet.sentiment.get('polarity')]))\r\n",
        "        row_s = pd.Series(row)\r\n",
        "        row_s.name = i\r\n",
        "        social_tweets_corpus_test = social_tweets_corpus_test.append(row_s)\r\n",
        "    \r\n",
        "social_tweets_corpus_test.to_csv('socialtv-tweets-test-tagged.csv', index=False, encoding='utf-8')"
      ],
      "execution_count": null,
      "outputs": [
        {
          "output_type": "display_data",
          "data": {
            "application/vnd.jupyter.widget-view+json": {
              "model_id": "974bd41717b24c6db54e9ee60135b325",
              "version_minor": 0,
              "version_major": 2
            },
            "text/plain": [
              "HBox(children=(FloatProgress(value=0.0, description='Tweets', max=1000.0, style=ProgressStyle(description_widt…"
            ]
          },
          "metadata": {
            "tags": []
          }
        },
        {
          "output_type": "stream",
          "text": [
            "\n"
          ],
          "name": "stdout"
        }
      ]
    },
    {
      "cell_type": "markdown",
      "metadata": {
        "id": "2o-8rvcvtWDi"
      },
      "source": [
        "# Politics"
      ]
    },
    {
      "cell_type": "code",
      "metadata": {
        "colab": {
          "base_uri": "https://localhost:8080/",
          "height": 67,
          "referenced_widgets": [
            "f042cf819fb1457e914f452057de0414",
            "e87c358d6ab34af587910b6f72c23fac",
            "fb4e640ce39d47548209997e2064d2ef",
            "a4942cfbe393437eb3ce5fe2dc282106",
            "f8ee4d529e3c43dfb399af6afc1741e4",
            "122fda0eb0fb44d9a2697ed61aec4a4c",
            "04d17ece5557458ca913e734e32895dc",
            "7ca3673bba28476590b3fa9407f70034"
          ]
        },
        "id": "bG6T6WRYtWUV",
        "outputId": "12cc3f1e-b8ac-4cc9-b7e6-84e5bf3df0f0"
      },
      "source": [
        "try:\r\n",
        "    politic_tweets_corpus_test = pd.read_csv(\"/content/drive/MyDrive/Datos_fake_news/Sentiment_Analysis/Data/test/politics-test-tagged.xml\", encoding='utf-8')\r\n",
        "except:\r\n",
        "\r\n",
        "    from lxml import objectify\r\n",
        "    xml = objectify.parse(open(\"/content/drive/MyDrive/Datos_fake_news/Sentiment_Analysis/Data/test/politics-test-tagged.xml\"))\r\n",
        "    #sample tweet object\r\n",
        "    root = xml.getroot()\r\n",
        "    politic_tweets_corpus_test = pd.DataFrame(columns=('content', 'polarity', \"agreement\"))\r\n",
        "    tweets = root.getchildren()\r\n",
        "    content = []\r\n",
        "    polarity = []\r\n",
        "    agreement = []\r\n",
        "    for i in tqdm(range(0,len(tweets)), desc = \"Tweets\"):\r\n",
        "        tweet = tweets[i]\r\n",
        "        row = dict(zip(['content', 'polarity', 'agreement'], [str(tweet.content), str(tweet.sentiments.polarity.value), \r\n",
        "                                                              str(tweet.sentiments.polarity.type)]))\r\n",
        "        row_s = pd.Series(row)\r\n",
        "        row_s.name = i\r\n",
        "        politic_tweets_corpus_test = politic_tweets_corpus_test.append(row, ignore_index=True)\r\n",
        "    \r\n",
        "politic_tweets_corpus_test.to_csv('politics-test-tagged.csv', index=False, encoding='utf-8')"
      ],
      "execution_count": null,
      "outputs": [
        {
          "output_type": "display_data",
          "data": {
            "application/vnd.jupyter.widget-view+json": {
              "model_id": "f042cf819fb1457e914f452057de0414",
              "version_minor": 0,
              "version_major": 2
            },
            "text/plain": [
              "HBox(children=(FloatProgress(value=0.0, description='Tweets', max=2500.0, style=ProgressStyle(description_widt…"
            ]
          },
          "metadata": {
            "tags": []
          }
        },
        {
          "output_type": "stream",
          "text": [
            "\n"
          ],
          "name": "stdout"
        }
      ]
    },
    {
      "cell_type": "code",
      "metadata": {
        "colab": {
          "base_uri": "https://localhost:8080/"
        },
        "id": "Xrc01z4zt1_Q",
        "outputId": "d5916671-0857-4f1b-821d-09e3db4ad770"
      },
      "source": [
        "sum(politic_tweets_corpus_test.content == \"N\")"
      ],
      "execution_count": null,
      "outputs": [
        {
          "output_type": "execute_result",
          "data": {
            "text/plain": [
              "0"
            ]
          },
          "metadata": {
            "tags": []
          },
          "execution_count": 64
        }
      ]
    },
    {
      "cell_type": "markdown",
      "metadata": {
        "id": "V6x4UwNGcxmm"
      },
      "source": [
        "# Spain"
      ]
    },
    {
      "cell_type": "code",
      "metadata": {
        "colab": {
          "base_uri": "https://localhost:8080/",
          "height": 67,
          "referenced_widgets": [
            "8aa28b3c35284e07b55801e2b6ec7a37",
            "22309390dde44ad89eb0a4e2b0fbf8a7",
            "c94988d317f24feb9a10bee85dd1df9f",
            "e787d8628ba24730a39766c16a313272",
            "d49c2806359d4013a36e963dfbdf5188",
            "fedacf7ab50f45d7b8d6f426e55b12ca",
            "7eb16f3035404a4f8b2ac2f70617e489",
            "c79aa1efffc3431cb2b20ed382226e1a"
          ]
        },
        "id": "FgV22kzGc2T9",
        "outputId": "06ada181-d46d-42dc-85bd-4459094b6877"
      },
      "source": [
        "path = \"/content/drive/MyDrive/Datos_fake_news/Sentiment_Analysis/Data/train/\"\r\n",
        "f = \"TASS2019_country_ES_train.xml\"\r\n",
        "\r\n",
        "\r\n",
        "try:\r\n",
        "    TASS_2019_spain = pd.read_csv(os.path.join(path, f), encoding='utf-8')\r\n",
        "except:\r\n",
        "\r\n",
        "    from lxml import objectify\r\n",
        "    xml = objectify.parse(open(os.path.join(path, f)))\r\n",
        "    #sample tweet object\r\n",
        "    root = xml.getroot()\r\n",
        "    TASS_2019_spain = pd.DataFrame(columns=('content', 'polarity'))\r\n",
        "    tweets = root.getchildren()\r\n",
        "    for i in tqdm(range(0,len(tweets)), desc = \"Tweets\"):\r\n",
        "        tweet = tweets[i]\r\n",
        "        row = dict(zip(['content', 'polarity'], [tweet.content, tweet.sentiment.polarity.value]))\r\n",
        "        row_s = pd.Series(row)\r\n",
        "        row_s.name = i\r\n",
        "        TASS_2019_spain = TASS_2019_spain.append(row_s)\r\n",
        "    TASS_2019_spain.to_csv('TASS_2019_spain.csv', index=False, encoding='utf-8')"
      ],
      "execution_count": null,
      "outputs": [
        {
          "output_type": "display_data",
          "data": {
            "application/vnd.jupyter.widget-view+json": {
              "model_id": "8aa28b3c35284e07b55801e2b6ec7a37",
              "version_minor": 0,
              "version_major": 2
            },
            "text/plain": [
              "HBox(children=(FloatProgress(value=0.0, description='Tweets', max=1125.0, style=ProgressStyle(description_widt…"
            ]
          },
          "metadata": {
            "tags": []
          }
        },
        {
          "output_type": "stream",
          "text": [
            "\n"
          ],
          "name": "stdout"
        }
      ]
    },
    {
      "cell_type": "code",
      "metadata": {
        "colab": {
          "base_uri": "https://localhost:8080/"
        },
        "id": "EFcak12uDTLY",
        "outputId": "67d5f395-1254-4c6f-83c5-371525ba46dc"
      },
      "source": [
        "sum( TASS_2019_spain.content == \"NEU\")"
      ],
      "execution_count": null,
      "outputs": [
        {
          "output_type": "execute_result",
          "data": {
            "text/plain": [
              "0"
            ]
          },
          "metadata": {
            "tags": []
          },
          "execution_count": 68
        }
      ]
    },
    {
      "cell_type": "markdown",
      "metadata": {
        "id": "6YIiLHhVf9Hh"
      },
      "source": [
        "# México"
      ]
    },
    {
      "cell_type": "code",
      "metadata": {
        "colab": {
          "base_uri": "https://localhost:8080/",
          "height": 67,
          "referenced_widgets": [
            "51300e6faa92474e92e241ca9bff18b0",
            "33961fdf69274b678f137dea8118220b",
            "20984a6fb1604d3da0803e460ca56244",
            "c0d6dbe2841741579ff7defdab16af83",
            "2a207f24b2354855b119b35445650124",
            "1789effd66ef479e99ac9186b17faa61",
            "246a5b6ce2ff48f8995e63441ed40980",
            "490f2cd66c3e498da82e3a0a954acd5a"
          ]
        },
        "id": "B739Q8FoffuG",
        "outputId": "001edce1-164f-4fc7-a425-ec1d21d6bcf7"
      },
      "source": [
        "path = \"/content/drive/MyDrive/Datos_fake_news/Sentiment_Analysis/Data/train/\"\r\n",
        "f = \"TASS2019_country_MX_train.xml\"\r\n",
        "\r\n",
        "\r\n",
        "try:\r\n",
        "    TASS_2019_mx = pd.read_csv(os.path.join(path, f), encoding='utf-8')\r\n",
        "except:\r\n",
        "\r\n",
        "    from lxml import objectify\r\n",
        "    xml = objectify.parse(open(os.path.join(path, f)))\r\n",
        "    #sample tweet object\r\n",
        "    root = xml.getroot()\r\n",
        "    TASS_2019_mx = pd.DataFrame(columns=('content', 'polarity', \"agreement\"))\r\n",
        "    tweets = root.getchildren()\r\n",
        "    for i in tqdm(range(0,len(tweets)), desc = \"Tweets\"):\r\n",
        "        tweet = tweets[i]\r\n",
        "        row = dict(zip(['content', 'polarity'], [tweet.content, tweet.sentiment.polarity.value]))\r\n",
        "        row_s = pd.Series(row)\r\n",
        "        row_s.name = i\r\n",
        "        TASS_2019_mx =TASS_2019_mx.append(row_s)\r\n",
        "    TASS_2019_mx.to_csv('TASS_2019_mx.csv', index=False, encoding='utf-8')"
      ],
      "execution_count": null,
      "outputs": [
        {
          "output_type": "display_data",
          "data": {
            "application/vnd.jupyter.widget-view+json": {
              "model_id": "51300e6faa92474e92e241ca9bff18b0",
              "version_minor": 0,
              "version_major": 2
            },
            "text/plain": [
              "HBox(children=(FloatProgress(value=0.0, description='Tweets', max=989.0, style=ProgressStyle(description_width…"
            ]
          },
          "metadata": {
            "tags": []
          }
        },
        {
          "output_type": "stream",
          "text": [
            "\n"
          ],
          "name": "stdout"
        }
      ]
    },
    {
      "cell_type": "markdown",
      "metadata": {
        "id": "IfkYyNHHf-vt"
      },
      "source": [
        "# Uruguay"
      ]
    },
    {
      "cell_type": "code",
      "metadata": {
        "colab": {
          "base_uri": "https://localhost:8080/",
          "height": 67,
          "referenced_widgets": [
            "8f09cd00620247bd881d1cc9ba47561d",
            "6c735c7850f141da9741458bf99a344d",
            "86f70b68155a4a3c8ef955a038052577",
            "5f129addcfb24b0e8fefe14442554490",
            "e9e8f3c5401e405a8a51e6c487e61af5",
            "3682edc089a24f71940aae18932a294b",
            "37773e51508d4355b316bad971290ac3",
            "73ec8060a5a246bc8a66853365876a09"
          ]
        },
        "id": "N3c_j85fgABR",
        "outputId": "26e15dac-a985-46d8-c305-ac9301ebc770"
      },
      "source": [
        "path = \"/content/drive/MyDrive/Datos_fake_news/Sentiment_Analysis/Data/train/\"\r\n",
        "f = \"TASS2019_country_UY_train.xml\"\r\n",
        "\r\n",
        "\r\n",
        "try:\r\n",
        "    TASS_2019_uy = pd.read_csv(os.path.join(path, f), encoding='utf-8')\r\n",
        "except:\r\n",
        "\r\n",
        "    from lxml import objectify\r\n",
        "    xml = objectify.parse(open(os.path.join(path, f)))\r\n",
        "    #sample tweet object\r\n",
        "    root = xml.getroot()\r\n",
        "    TASS_2019_uy = pd.DataFrame(columns=('content', 'polarity'))\r\n",
        "    tweets = root.getchildren()\r\n",
        "    for i in tqdm(range(0,len(tweets)), desc = \"Tweets\"):\r\n",
        "        tweet = tweets[i]\r\n",
        "        row = dict(zip(['content', 'polarity'], [tweet.content, tweet.sentiment.polarity.value]))\r\n",
        "        row_s = pd.Series(row)\r\n",
        "        row_s.name = i\r\n",
        "        TASS_2019_uy = TASS_2019_uy.append(row_s)\r\n",
        "    TASS_2019_uy.to_csv('TASS_2019_uy.csv', index=False, encoding='utf-8')"
      ],
      "execution_count": null,
      "outputs": [
        {
          "output_type": "display_data",
          "data": {
            "application/vnd.jupyter.widget-view+json": {
              "model_id": "8f09cd00620247bd881d1cc9ba47561d",
              "version_minor": 0,
              "version_major": 2
            },
            "text/plain": [
              "HBox(children=(FloatProgress(value=0.0, description='Tweets', max=943.0, style=ProgressStyle(description_width…"
            ]
          },
          "metadata": {
            "tags": []
          }
        },
        {
          "output_type": "stream",
          "text": [
            "\n"
          ],
          "name": "stdout"
        }
      ]
    },
    {
      "cell_type": "markdown",
      "metadata": {
        "id": "D0t88YGrgYUs"
      },
      "source": [
        "# Perú"
      ]
    },
    {
      "cell_type": "code",
      "metadata": {
        "colab": {
          "base_uri": "https://localhost:8080/",
          "height": 67,
          "referenced_widgets": [
            "aca7351ae3834d268a096d44421128ad",
            "0a835c067b714893b3bdb563f0bc8e4f",
            "985941976ca8419aa04b205df87f5c88",
            "b4a213d6ac234171a04ba0a9d44c1724",
            "77b7947b17674d34b0473b276656158a",
            "964ba26837854d35bb0f9bb705af6779",
            "3ba8e4607968464c964e66e60183ebf7",
            "a22b99222b8f46d89f290ca59d6442c4"
          ]
        },
        "id": "jS2bl_WggZe3",
        "outputId": "16c19a9c-39bf-40b8-aa90-3f6a78845d78"
      },
      "source": [
        "path = \"/content/drive/MyDrive/Datos_fake_news/Sentiment_Analysis/Data/train/\"\r\n",
        "f = \"TASS2019_country_PE_train.xml\"\r\n",
        "\r\n",
        "\r\n",
        "try:\r\n",
        "    TASS_2019_spain = pd.read_csv(os.path.join(path, f), encoding='utf-8')\r\n",
        "except:\r\n",
        "\r\n",
        "    from lxml import objectify\r\n",
        "    xml = objectify.parse(open(os.path.join(path, f)))\r\n",
        "    #sample tweet object\r\n",
        "    root = xml.getroot()\r\n",
        "    TASS_2019_pe = pd.DataFrame(columns=('content', 'polarity'))\r\n",
        "    tweets = root.getchildren()\r\n",
        "    for i in tqdm(range(0,len(tweets)), desc = \"Tweets\"):\r\n",
        "        tweet = tweets[i]\r\n",
        "        row = dict(zip(['content', 'polarity'], [tweet.content, tweet.sentiment.polarity.value]))\r\n",
        "        row_s = pd.Series(row)\r\n",
        "        row_s.name = i\r\n",
        "        TASS_2019_pe = TASS_2019_pe.append(row_s)\r\n",
        "    TASS_2019_pe.to_csv('TASS_2019_pe.csv', index=False, encoding='utf-8')"
      ],
      "execution_count": null,
      "outputs": [
        {
          "output_type": "display_data",
          "data": {
            "application/vnd.jupyter.widget-view+json": {
              "model_id": "aca7351ae3834d268a096d44421128ad",
              "version_minor": 0,
              "version_major": 2
            },
            "text/plain": [
              "HBox(children=(FloatProgress(value=0.0, description='Tweets', max=966.0, style=ProgressStyle(description_width…"
            ]
          },
          "metadata": {
            "tags": []
          }
        },
        {
          "output_type": "stream",
          "text": [
            "\n"
          ],
          "name": "stdout"
        }
      ]
    },
    {
      "cell_type": "markdown",
      "metadata": {
        "id": "Ip3Jp6Bsgtm8"
      },
      "source": [
        "# InterTASS SP"
      ]
    },
    {
      "cell_type": "code",
      "metadata": {
        "colab": {
          "base_uri": "https://localhost:8080/",
          "height": 67,
          "referenced_widgets": [
            "f2853875f9ae4f208c0caf8928830f20",
            "972b51f73139498eaeee4270e0e0299d",
            "7c5c20b982064819a28a06d865e3ed41",
            "2c5672805d204559862c5fa1e50c419e",
            "e6815bf865a74b5eacda079a68263931",
            "512a555cb06e489d91b2fd8450d3e08b",
            "08811e566ed74b6386da0739ba22e919",
            "25e6752839824f098d195b7f3160f6d2"
          ]
        },
        "id": "Dy6oHLcJgt6F",
        "outputId": "5f894382-f31e-4897-a41b-5fa2d50c6b7b"
      },
      "source": [
        "path = \"/content/drive/MyDrive/Datos_fake_news/Sentiment_Analysis/Data/train/\"\r\n",
        "f = \"intertass-ES-train-tagged.xml\"\r\n",
        "\r\n",
        "\r\n",
        "try:\r\n",
        "    intertass_spain = pd.read_csv(os.path.join(path, f), encoding='utf-8')\r\n",
        "except:\r\n",
        "\r\n",
        "    from lxml import objectify\r\n",
        "    xml = objectify.parse(open(os.path.join(path, f)))\r\n",
        "    #sample tweet object\r\n",
        "    root = xml.getroot()\r\n",
        "    intertass_spain = pd.DataFrame(columns=('content', 'polarity'))\r\n",
        "    tweets = root.getchildren()\r\n",
        "    for i in tqdm(range(0,len(tweets)), desc = \"Tweets\"):\r\n",
        "        tweet = tweets[i]\r\n",
        "        row = dict(zip(['content', 'polarity'], [tweet.content, tweet.sentiment.polarity.value]))\r\n",
        "        row_s = pd.Series(row)\r\n",
        "        row_s.name = i\r\n",
        "        intertass_spain = intertass_spain.append(row_s)\r\n",
        "    intertass_spain.to_csv('intertass_spain.csv', index=False, encoding='utf-8')"
      ],
      "execution_count": null,
      "outputs": [
        {
          "output_type": "display_data",
          "data": {
            "application/vnd.jupyter.widget-view+json": {
              "model_id": "f2853875f9ae4f208c0caf8928830f20",
              "version_minor": 0,
              "version_major": 2
            },
            "text/plain": [
              "HBox(children=(FloatProgress(value=0.0, description='Tweets', max=1008.0, style=ProgressStyle(description_widt…"
            ]
          },
          "metadata": {
            "tags": []
          }
        },
        {
          "output_type": "stream",
          "text": [
            "\n"
          ],
          "name": "stdout"
        }
      ]
    },
    {
      "cell_type": "code",
      "metadata": {
        "colab": {
          "base_uri": "https://localhost:8080/",
          "height": 67,
          "referenced_widgets": [
            "cab2f669936d46598500a009fb3143ef",
            "ebab02864dc446c2a97019a21c43ac2a",
            "d532c0a8aa424f14aa2f6eaca0761ad3",
            "fd3f93cd86784873b435e3aa72db4d1e",
            "2898c529a4e64760a3fc932438c3e8d0",
            "b0cfcf9a59804639b80672608826e12d",
            "197ee792745143769bf5c93fca09895d",
            "995bdabae8244d0fbb4e29c7962a8a38"
          ]
        },
        "id": "5t51sSCN07sS",
        "outputId": "757c2431-fc7c-4296-b419-0d97070af384"
      },
      "source": [
        "path = \"/content/drive/MyDrive/Datos_fake_news/Sentiment_Analysis/Data/test/\"\r\n",
        "f = \"intertass-ES-development-tagged.xml\" # \"TASS2019_country_ES_train.xml\"\r\n",
        "\r\n",
        "\r\n",
        "try:\r\n",
        "    intertass_ES_development = pd.read_csv(os.path.join(path, f), encoding='utf-8')\r\n",
        "except:\r\n",
        "\r\n",
        "    from lxml import objectify\r\n",
        "    xml = objectify.parse(open(os.path.join(path, f)))\r\n",
        "    #sample tweet object\r\n",
        "    root = xml.getroot()\r\n",
        "    intertass_ES_development = pd.DataFrame(columns=('content', 'polarity'))\r\n",
        "    tweets = root.getchildren()\r\n",
        "    for i in tqdm(range(0,len(tweets)), desc = \"Tweets\"):\r\n",
        "        tweet = tweets[i]\r\n",
        "        row = dict(zip(['content', 'polarity'], [tweet.content, tweet.sentiment.polarity.value]))\r\n",
        "        row_s = pd.Series(row)\r\n",
        "        row_s.name = i\r\n",
        "        intertass_ES_development = intertass_ES_development.append(row_s)\r\n",
        "    intertass_ES_development.to_csv('intertass_ES_development.csv', index=False, encoding='utf-8')"
      ],
      "execution_count": null,
      "outputs": [
        {
          "output_type": "display_data",
          "data": {
            "application/vnd.jupyter.widget-view+json": {
              "model_id": "cab2f669936d46598500a009fb3143ef",
              "version_minor": 0,
              "version_major": 2
            },
            "text/plain": [
              "HBox(children=(FloatProgress(value=0.0, description='Tweets', max=506.0, style=ProgressStyle(description_width…"
            ]
          },
          "metadata": {
            "tags": []
          }
        },
        {
          "output_type": "stream",
          "text": [
            "\n"
          ],
          "name": "stdout"
        }
      ]
    },
    {
      "cell_type": "markdown",
      "metadata": {
        "id": "Wv555lszhFRU"
      },
      "source": [
        "# InterTASS CR"
      ]
    },
    {
      "cell_type": "code",
      "metadata": {
        "colab": {
          "base_uri": "https://localhost:8080/",
          "height": 67,
          "referenced_widgets": [
            "e75cfec4d0d84dbbb1b1103626171b56",
            "f1c156be1fe04380b26bb59fdb8584d4",
            "1f98feb1b27b4cafb6eb70a755f4bab4",
            "544f2da3583e4db897ef09de24617c6f",
            "0a3c92f62ba44666889f38c0f0a8bebd",
            "edfb08776854400bad3c2676714f1b00",
            "58949cf41c0e43a7953533e5fbccc749",
            "4a049073ed284b60aa9c1d74c8b09790"
          ]
        },
        "id": "f9FLln46h4dI",
        "outputId": "c0b4094a-fe61-475f-f7ed-e41ec81cfa03"
      },
      "source": [
        "path = \"/content/drive/MyDrive/Datos_fake_news/Sentiment_Analysis/Data/train/\"\r\n",
        "f = \"intertass-CR-train-tagged.xml\"\r\n",
        "\r\n",
        "\r\n",
        "try:\r\n",
        "    intertass_cr = pd.read_csv(os.path.join(path, f), encoding='utf-8')\r\n",
        "except:\r\n",
        "\r\n",
        "    from lxml import objectify\r\n",
        "    xml = objectify.parse(open(os.path.join(path, f)))\r\n",
        "    #sample tweet object\r\n",
        "    root = xml.getroot()\r\n",
        "    intertass_cr = pd.DataFrame(columns=('content', 'polarity'))\r\n",
        "    tweets = root.getchildren()\r\n",
        "    for i in tqdm(range(0,len(tweets)), desc = \"Tweets\"):\r\n",
        "        tweet = tweets[i]\r\n",
        "        row = dict(zip(['content', 'polarity'], [tweet.content, tweet.sentiment.polarity.value]))\r\n",
        "        row_s = pd.Series(row)\r\n",
        "        row_s.name = i\r\n",
        "        intertass_cr = intertass_cr.append(row_s)\r\n",
        "    intertass_cr.to_csv('intertass_cr.csv', index=False, encoding='utf-8')"
      ],
      "execution_count": null,
      "outputs": [
        {
          "output_type": "display_data",
          "data": {
            "application/vnd.jupyter.widget-view+json": {
              "model_id": "e75cfec4d0d84dbbb1b1103626171b56",
              "version_minor": 0,
              "version_major": 2
            },
            "text/plain": [
              "HBox(children=(FloatProgress(value=0.0, description='Tweets', max=800.0, style=ProgressStyle(description_width…"
            ]
          },
          "metadata": {
            "tags": []
          }
        },
        {
          "output_type": "stream",
          "text": [
            "\n"
          ],
          "name": "stdout"
        }
      ]
    },
    {
      "cell_type": "code",
      "metadata": {
        "colab": {
          "base_uri": "https://localhost:8080/",
          "height": 67,
          "referenced_widgets": [
            "b4b8f6b68b164ecf94fb4f5172b09fb1",
            "60ffdb37eb384f68917898e9e2615973",
            "b145d63188b64c1e8578c954b28b6d76",
            "b6703f9e5e8c4be282011049e529a8db",
            "84e056cc25e24a0da09791b3f8719ac5",
            "933706c9fc9549aabefc902610100984",
            "c00559768b6045a9825c1419c618f0f5",
            "fa0796f3431946378e76751a82aadbc5"
          ]
        },
        "id": "HlJx-vED15la",
        "outputId": "52f2f1fa-b6c9-4c92-b32e-04d90124ca90"
      },
      "source": [
        "path = \"/content/drive/MyDrive/Datos_fake_news/Sentiment_Analysis/Data/test/\"\r\n",
        "f = \"intertass-CR-development-tagged.xml\" # \"TASS2019_country_ES_train.xml\"\r\n",
        "\r\n",
        "\r\n",
        "try:\r\n",
        "    intertass_CR_development = pd.read_csv(os.path.join(path, f), encoding='utf-8')\r\n",
        "except:\r\n",
        "\r\n",
        "    from lxml import objectify\r\n",
        "    xml = objectify.parse(open(os.path.join(path, f)))\r\n",
        "    #sample tweet object\r\n",
        "    root = xml.getroot()\r\n",
        "    intertass_CR_development = pd.DataFrame(columns=('content', 'polarity'))\r\n",
        "    tweets = root.getchildren()\r\n",
        "    for i in tqdm(range(0,len(tweets)), desc = \"Tweets\"):\r\n",
        "        tweet = tweets[i]\r\n",
        "        row = dict(zip(['content', 'polarity'], [tweet.content, tweet.sentiment.polarity.value]))\r\n",
        "        row_s = pd.Series(row)\r\n",
        "        row_s.name = i\r\n",
        "        intertass_CR_development = intertass_CR_development.append(row_s)\r\n",
        "    intertass_CR_development.to_csv('intertass_CR_development.csv', index=False, encoding='utf-8')"
      ],
      "execution_count": null,
      "outputs": [
        {
          "output_type": "display_data",
          "data": {
            "application/vnd.jupyter.widget-view+json": {
              "model_id": "b4b8f6b68b164ecf94fb4f5172b09fb1",
              "version_minor": 0,
              "version_major": 2
            },
            "text/plain": [
              "HBox(children=(FloatProgress(value=0.0, description='Tweets', max=300.0, style=ProgressStyle(description_width…"
            ]
          },
          "metadata": {
            "tags": []
          }
        },
        {
          "output_type": "stream",
          "text": [
            "\n"
          ],
          "name": "stdout"
        }
      ]
    },
    {
      "cell_type": "markdown",
      "metadata": {
        "id": "ibq2OuiaiLd7"
      },
      "source": [
        "# InterTASS PE"
      ]
    },
    {
      "cell_type": "code",
      "metadata": {
        "colab": {
          "base_uri": "https://localhost:8080/",
          "height": 67,
          "referenced_widgets": [
            "3219899d11f2476689bc3fed87f56e47",
            "f51f55f632844d7d8a6059c0f39b08ab",
            "45e5f0e04268484f98bcd734dc7873f2",
            "a5b3fb75d3784ccdadeb46e4a30896a7",
            "bb2242e79d5d4d6e8bcc984707ffadab",
            "1e0a4b55f57e4544b6017b1436027c4c",
            "8e5887a4059247f89409a3a64e652172",
            "d5df5afd0f5e45aeba482690d8fee00b"
          ]
        },
        "id": "bE2VMqPTiOJ0",
        "outputId": "2ff2fae9-485a-41b5-e7ad-006debbd1f3d"
      },
      "source": [
        "path = \"/content/drive/MyDrive/Datos_fake_news/Sentiment_Analysis/Data/train/\"\r\n",
        "f = \"intertass-PE-train-tagged.xml\"\r\n",
        "\r\n",
        "\r\n",
        "try:\r\n",
        "    intertass_pe = pd.read_csv(os.path.join(path, f), encoding='utf-8')\r\n",
        "except:\r\n",
        "\r\n",
        "    from lxml import objectify\r\n",
        "    xml = objectify.parse(open(os.path.join(path, f)))\r\n",
        "    #sample tweet object\r\n",
        "    root = xml.getroot()\r\n",
        "    intertass_pe = pd.DataFrame(columns=('content', 'polarity'))\r\n",
        "    tweets = root.getchildren()\r\n",
        "    for i in tqdm(range(0,len(tweets)), desc = \"Tweets\"):\r\n",
        "        tweet = tweets[i]\r\n",
        "        row = dict(zip(['content', 'polarity'], [tweet.content, tweet.sentiment.polarity.value]))\r\n",
        "        row_s = pd.Series(row)\r\n",
        "        row_s.name = i\r\n",
        "        intertass_pe = intertass_pe.append(row_s)\r\n",
        "    intertass_pe.to_csv('intertass_pe.csv', index=False, encoding='utf-8')"
      ],
      "execution_count": null,
      "outputs": [
        {
          "output_type": "display_data",
          "data": {
            "application/vnd.jupyter.widget-view+json": {
              "model_id": "3219899d11f2476689bc3fed87f56e47",
              "version_minor": 0,
              "version_major": 2
            },
            "text/plain": [
              "HBox(children=(FloatProgress(value=0.0, description='Tweets', max=1000.0, style=ProgressStyle(description_widt…"
            ]
          },
          "metadata": {
            "tags": []
          }
        },
        {
          "output_type": "stream",
          "text": [
            "\n"
          ],
          "name": "stdout"
        }
      ]
    },
    {
      "cell_type": "code",
      "metadata": {
        "colab": {
          "base_uri": "https://localhost:8080/",
          "height": 67,
          "referenced_widgets": [
            "93e0abf136c942d8ae04776fdf0d1b7f",
            "a7675dcb2950468ab226d5f1e1d26d51",
            "c6b347c19e59491c9cf418393c456a4c",
            "2e5260af404f4cfeb77f691e265dc587",
            "8bb48b32f4894624922b784bb01ece99",
            "2ef1b49ebb1b4b3c80d65eaa25d610eb",
            "e36c7a2ea6a145a295bf3898ef3fc324",
            "190440cc1e1e4c3190d8bfe1053bc06f"
          ]
        },
        "id": "Big-34oF2KU0",
        "outputId": "1fbafb98-2659-4915-be90-16b93f1093a5"
      },
      "source": [
        "path = \"/content/drive/MyDrive/Datos_fake_news/Sentiment_Analysis/Data/test/\"\r\n",
        "f = \"intertass-PE-development-tagged.xml\" # \"TASS2019_country_ES_train.xml\"\r\n",
        "\r\n",
        "\r\n",
        "try:\r\n",
        "    intertass_PE_development = pd.read_csv(os.path.join(path, f), encoding='utf-8')\r\n",
        "except:\r\n",
        "\r\n",
        "    from lxml import objectify\r\n",
        "    xml = objectify.parse(open(os.path.join(path, f)))\r\n",
        "    #sample tweet object\r\n",
        "    root = xml.getroot()\r\n",
        "    intertass_PE_development = pd.DataFrame(columns=('content', 'polarity'))\r\n",
        "    tweets = root.getchildren()\r\n",
        "    for i in tqdm(range(0,len(tweets)), desc = \"Tweets\"):\r\n",
        "        tweet = tweets[i]\r\n",
        "        row = dict(zip(['content', 'polarity'], [tweet.content, tweet.sentiment.polarity.value]))\r\n",
        "        row_s = pd.Series(row)\r\n",
        "        row_s.name = i\r\n",
        "        intertass_PE_development = intertass_PE_development.append(row_s)\r\n",
        "    intertass_PE_development.to_csv('intertass_PE_development.csv', index=False, encoding='utf-8')"
      ],
      "execution_count": null,
      "outputs": [
        {
          "output_type": "display_data",
          "data": {
            "application/vnd.jupyter.widget-view+json": {
              "model_id": "93e0abf136c942d8ae04776fdf0d1b7f",
              "version_minor": 0,
              "version_major": 2
            },
            "text/plain": [
              "HBox(children=(FloatProgress(value=0.0, description='Tweets', max=500.0, style=ProgressStyle(description_width…"
            ]
          },
          "metadata": {
            "tags": []
          }
        },
        {
          "output_type": "stream",
          "text": [
            "\n"
          ],
          "name": "stdout"
        }
      ]
    },
    {
      "cell_type": "markdown",
      "metadata": {
        "id": "AzS98Tv_iixJ"
      },
      "source": [
        "# Merge all data"
      ]
    },
    {
      "cell_type": "code",
      "metadata": {
        "colab": {
          "base_uri": "https://localhost:8080/"
        },
        "id": "QNQWBq_fikPE",
        "outputId": "a8311566-5986-49b3-cc54-64dfd79ea0a1"
      },
      "source": [
        "df_list = []\r\n",
        "for f in os.listdir():\r\n",
        "  if f.endswith(\".csv\"):\r\n",
        "    print(f)\r\n",
        "    df_list.append(pd.read_csv(f))\r\n",
        "\r\n",
        "tweets_corpus = pd.concat(df_list)"
      ],
      "execution_count": null,
      "outputs": [
        {
          "output_type": "stream",
          "text": [
            "stompol-tweets-test-tagged.csv\n",
            "intertass_CR_development.csv\n",
            "intertass_pe.csv\n",
            "intertass_ES_development.csv\n",
            "intertass_PE_development.csv\n",
            "socialtv-tweets-train-tagged.csv\n",
            "socialtv-tweets-test-tagged.csv\n",
            "politics-test-tagged.csv\n",
            "general-test-tagged-3l.csv\n",
            "TASS_2019_spain.csv\n",
            "TASS_2019_mx.csv\n",
            "TASS_2019_uy.csv\n",
            "intertass_cr.csv\n",
            "stompol-train-tagged.csv\n",
            "TASS_2019_pe.csv\n",
            "general-train-tagged-3l.csv\n",
            "intertass_spain.csv\n"
          ],
          "name": "stdout"
        }
      ]
    },
    {
      "cell_type": "markdown",
      "metadata": {
        "id": "GOGEQd33JD3S"
      },
      "source": [
        "Only those tweets from TASS datasets with a level of agreement for the sentiment label are selected"
      ]
    },
    {
      "cell_type": "code",
      "metadata": {
        "colab": {
          "base_uri": "https://localhost:8080/",
          "height": 424
        },
        "id": "pGAOz71jjMzb",
        "outputId": "b4dd6d9d-f1bb-4a3b-8106-f86039efac54"
      },
      "source": [
        "# Eliminamos duplicados\r\n",
        "tweets_corpus = tweets_corpus.drop_duplicates(subset=['content'], keep = \"first\", \r\n",
        "                                            ignore_index= True)\r\n",
        "tweets_corpus = tweets_corpus.query('agreement != \"DISAGREEMENT\" and polarity != \"NONE\"')\r\n",
        "tweets_corpus"
      ],
      "execution_count": null,
      "outputs": [
        {
          "output_type": "execute_result",
          "data": {
            "text/html": [
              "<div>\n",
              "<style scoped>\n",
              "    .dataframe tbody tr th:only-of-type {\n",
              "        vertical-align: middle;\n",
              "    }\n",
              "\n",
              "    .dataframe tbody tr th {\n",
              "        vertical-align: top;\n",
              "    }\n",
              "\n",
              "    .dataframe thead th {\n",
              "        text-align: right;\n",
              "    }\n",
              "</style>\n",
              "<table border=\"1\" class=\"dataframe\">\n",
              "  <thead>\n",
              "    <tr style=\"text-align: right;\">\n",
              "      <th></th>\n",
              "      <th>content</th>\n",
              "      <th>polarity</th>\n",
              "      <th>agreement</th>\n",
              "    </tr>\n",
              "  </thead>\n",
              "  <tbody>\n",
              "    <tr>\n",
              "      <th>0</th>\n",
              "      <td>Mapa con el \"batiburrillo\" d partidos que ha absorbido  @CiudadanosCs  frente a  @UPyD  que se mantiene #Libres @mpalcedo http://t.co/sYQYv0zSjz</td>\n",
              "      <td>N</td>\n",
              "      <td>NaN</td>\n",
              "    </tr>\n",
              "    <tr>\n",
              "      <th>1</th>\n",
              "      <td>Leyendo programas de  @CiudadanosCs   y  @ahorapodemos   me encuentro exactamente lo mismo: reestructuración ordenada de la deuda</td>\n",
              "      <td>NEU</td>\n",
              "      <td>NaN</td>\n",
              "    </tr>\n",
              "    <tr>\n",
              "      <th>2</th>\n",
              "      <td>Buenos días, lo que está ocurriendo con el barco ruso es una ínfima muestra de lo que pudo suceder con las prospecciones de  @PPopular .</td>\n",
              "      <td>N</td>\n",
              "      <td>NaN</td>\n",
              "    </tr>\n",
              "    <tr>\n",
              "      <th>3</th>\n",
              "      <td>@CambiarMadrid_ @AhoraGetafe  la verdadera  @iunida  http://t.co/NJ8cL7wUaL</td>\n",
              "      <td>NEU</td>\n",
              "      <td>NaN</td>\n",
              "    </tr>\n",
              "    <tr>\n",
              "      <th>4</th>\n",
              "      <td>En el  @PSOE  saben que tendrán que pactar, no saben con quien, si quieren gobernar</td>\n",
              "      <td>NEU</td>\n",
              "      <td>NaN</td>\n",
              "    </tr>\n",
              "    <tr>\n",
              "      <th>...</th>\n",
              "      <td>...</td>\n",
              "      <td>...</td>\n",
              "      <td>...</td>\n",
              "    </tr>\n",
              "    <tr>\n",
              "      <th>79444</th>\n",
              "      <td>Las mejores fotos son las que no se ven  ✨🌟</td>\n",
              "      <td>P</td>\n",
              "      <td>NaN</td>\n",
              "    </tr>\n",
              "    <tr>\n",
              "      <th>79445</th>\n",
              "      <td>Es increíble y tal pero no , no voy a ir al TH</td>\n",
              "      <td>NEU</td>\n",
              "      <td>NaN</td>\n",
              "    </tr>\n",
              "    <tr>\n",
              "      <th>79446</th>\n",
              "      <td>a to esto, el tio de ono no ha venio</td>\n",
              "      <td>N</td>\n",
              "      <td>NaN</td>\n",
              "    </tr>\n",
              "    <tr>\n",
              "      <th>79447</th>\n",
              "      <td>Es que me lo como de lo bonito que es</td>\n",
              "      <td>P</td>\n",
              "      <td>NaN</td>\n",
              "    </tr>\n",
              "    <tr>\n",
              "      <th>79450</th>\n",
              "      <td>Tanto sad, tanto sad...\\nPues yo también estoy muy sad hoy</td>\n",
              "      <td>N</td>\n",
              "      <td>NaN</td>\n",
              "    </tr>\n",
              "  </tbody>\n",
              "</table>\n",
              "<p>54112 rows × 3 columns</p>\n",
              "</div>"
            ],
            "text/plain": [
              "                                                                                                                                                content  ... agreement\n",
              "0      Mapa con el \"batiburrillo\" d partidos que ha absorbido  @CiudadanosCs  frente a  @UPyD  que se mantiene #Libres @mpalcedo http://t.co/sYQYv0zSjz  ...       NaN\n",
              "1                     Leyendo programas de  @CiudadanosCs   y  @ahorapodemos   me encuentro exactamente lo mismo: reestructuración ordenada de la deuda  ...       NaN\n",
              "2              Buenos días, lo que está ocurriendo con el barco ruso es una ínfima muestra de lo que pudo suceder con las prospecciones de  @PPopular .  ...       NaN\n",
              "3                                                                           @CambiarMadrid_ @AhoraGetafe  la verdadera  @iunida  http://t.co/NJ8cL7wUaL  ...       NaN\n",
              "4                                                                   En el  @PSOE  saben que tendrán que pactar, no saben con quien, si quieren gobernar  ...       NaN\n",
              "...                                                                                                                                                 ...  ...       ...\n",
              "79444                                                                                                       Las mejores fotos son las que no se ven  ✨🌟  ...       NaN\n",
              "79445                                                                                                   Es increíble y tal pero no , no voy a ir al TH   ...       NaN\n",
              "79446                                                                                                             a to esto, el tio de ono no ha venio   ...       NaN\n",
              "79447                                                                                                            Es que me lo como de lo bonito que es   ...       NaN\n",
              "79450                                                                                       Tanto sad, tanto sad...\\nPues yo también estoy muy sad hoy   ...       NaN\n",
              "\n",
              "[54112 rows x 3 columns]"
            ]
          },
          "metadata": {
            "tags": []
          },
          "execution_count": 89
        }
      ]
    },
    {
      "cell_type": "code",
      "metadata": {
        "colab": {
          "base_uri": "https://localhost:8080/"
        },
        "id": "SuLSkhy3FWCi",
        "outputId": "f76f81f1-33de-44fa-babf-64a94c4cd58e"
      },
      "source": [
        "tweets_corpus.polarity.unique()"
      ],
      "execution_count": null,
      "outputs": [
        {
          "output_type": "execute_result",
          "data": {
            "text/plain": [
              "array(['N', 'NEU', 'P'], dtype=object)"
            ]
          },
          "metadata": {
            "tags": []
          },
          "execution_count": 90
        }
      ]
    },
    {
      "cell_type": "code",
      "metadata": {
        "colab": {
          "base_uri": "https://localhost:8080/",
          "height": 67,
          "referenced_widgets": [
            "712436c74b82466e8065d0b351260259",
            "8162d137ab494d4b81426b95e3251d88",
            "865d539ad5694f519e466466a008e525",
            "9fb1de10961946f28faef2d8f234ca86",
            "d542710a38eb473286566408d3083c1e",
            "40357ac488d14c52b0925f4fe14f7875",
            "9299b7bfe8eb4e83aaa845e1f7a82cf7",
            "e03dcce5c3714141ae4f9c6720f7f2ef"
          ]
        },
        "id": "kLZCqlUm4Ck5",
        "outputId": "45e138da-4ea0-4c1f-f0ed-264421bc2040"
      },
      "source": [
        "# Now we preprocess the TASS data with the preprocessor declared above\r\n",
        "\r\n",
        "content = tweets_corpus.content.to_list()\r\n",
        "\r\n",
        "# Limpiamos los datos\r\n",
        "tweets_corpus.content = [decode_emot_emoji(s, translation = \"es\") for s in tqdm(content, \r\n",
        "                                                                                desc = \"Cleaning\")]"
      ],
      "execution_count": null,
      "outputs": [
        {
          "output_type": "display_data",
          "data": {
            "application/vnd.jupyter.widget-view+json": {
              "model_id": "712436c74b82466e8065d0b351260259",
              "version_minor": 0,
              "version_major": 2
            },
            "text/plain": [
              "HBox(children=(FloatProgress(value=0.0, description='Cleaning', max=54112.0, style=ProgressStyle(description_w…"
            ]
          },
          "metadata": {
            "tags": []
          }
        },
        {
          "output_type": "stream",
          "text": [
            "\n"
          ],
          "name": "stdout"
        }
      ]
    },
    {
      "cell_type": "code",
      "metadata": {
        "colab": {
          "base_uri": "https://localhost:8080/",
          "height": 424
        },
        "id": "5SEvs05mG1fJ",
        "outputId": "a3df1fc5-9e0f-4567-ba1c-8459345fc7c3"
      },
      "source": [
        "tweets_corpus"
      ],
      "execution_count": null,
      "outputs": [
        {
          "output_type": "execute_result",
          "data": {
            "text/html": [
              "<div>\n",
              "<style scoped>\n",
              "    .dataframe tbody tr th:only-of-type {\n",
              "        vertical-align: middle;\n",
              "    }\n",
              "\n",
              "    .dataframe tbody tr th {\n",
              "        vertical-align: top;\n",
              "    }\n",
              "\n",
              "    .dataframe thead th {\n",
              "        text-align: right;\n",
              "    }\n",
              "</style>\n",
              "<table border=\"1\" class=\"dataframe\">\n",
              "  <thead>\n",
              "    <tr style=\"text-align: right;\">\n",
              "      <th></th>\n",
              "      <th>content</th>\n",
              "      <th>polarity</th>\n",
              "      <th>agreement</th>\n",
              "    </tr>\n",
              "  </thead>\n",
              "  <tbody>\n",
              "    <tr>\n",
              "      <th>0</th>\n",
              "      <td>Mapa con el \"batiburrillo\" d partidos que ha absorbido frente a que se mantiene Libres</td>\n",
              "      <td>N</td>\n",
              "      <td>NaN</td>\n",
              "    </tr>\n",
              "    <tr>\n",
              "      <th>1</th>\n",
              "      <td>Leyendo programas de y me encuentro exactamente lo mismo: reestructuración ordenada de la deuda</td>\n",
              "      <td>NEU</td>\n",
              "      <td>NaN</td>\n",
              "    </tr>\n",
              "    <tr>\n",
              "      <th>2</th>\n",
              "      <td>Buenos días, lo que está ocurriendo con el barco ruso es una ínfima muestra de lo que pudo suceder con las prospecciones de .</td>\n",
              "      <td>N</td>\n",
              "      <td>NaN</td>\n",
              "    </tr>\n",
              "    <tr>\n",
              "      <th>3</th>\n",
              "      <td>la verdadera</td>\n",
              "      <td>NEU</td>\n",
              "      <td>NaN</td>\n",
              "    </tr>\n",
              "    <tr>\n",
              "      <th>4</th>\n",
              "      <td>En el saben que tendrán que pactar, no saben con quien, si quieren gobernar</td>\n",
              "      <td>NEU</td>\n",
              "      <td>NaN</td>\n",
              "    </tr>\n",
              "    <tr>\n",
              "      <th>...</th>\n",
              "      <td>...</td>\n",
              "      <td>...</td>\n",
              "      <td>...</td>\n",
              "    </tr>\n",
              "    <tr>\n",
              "      <th>79444</th>\n",
              "      <td>Las mejores fotos son las que no se ven</td>\n",
              "      <td>P</td>\n",
              "      <td>NaN</td>\n",
              "    </tr>\n",
              "    <tr>\n",
              "      <th>79445</th>\n",
              "      <td>Es increíble y tal pero no , no voy a ir al TH</td>\n",
              "      <td>NEU</td>\n",
              "      <td>NaN</td>\n",
              "    </tr>\n",
              "    <tr>\n",
              "      <th>79446</th>\n",
              "      <td>a to esto, el tio de ono no ha venio</td>\n",
              "      <td>N</td>\n",
              "      <td>NaN</td>\n",
              "    </tr>\n",
              "    <tr>\n",
              "      <th>79447</th>\n",
              "      <td>Es que me lo como de lo bonito que es</td>\n",
              "      <td>P</td>\n",
              "      <td>NaN</td>\n",
              "    </tr>\n",
              "    <tr>\n",
              "      <th>79450</th>\n",
              "      <td>Tanto sad, tanto sad... Pues yo también estoy muy sad hoy</td>\n",
              "      <td>N</td>\n",
              "      <td>NaN</td>\n",
              "    </tr>\n",
              "  </tbody>\n",
              "</table>\n",
              "<p>54112 rows × 3 columns</p>\n",
              "</div>"
            ],
            "text/plain": [
              "                                                                                                                             content  ... agreement\n",
              "0                                             Mapa con el \"batiburrillo\" d partidos que ha absorbido frente a que se mantiene Libres  ...       NaN\n",
              "1                                    Leyendo programas de y me encuentro exactamente lo mismo: reestructuración ordenada de la deuda  ...       NaN\n",
              "2      Buenos días, lo que está ocurriendo con el barco ruso es una ínfima muestra de lo que pudo suceder con las prospecciones de .  ...       NaN\n",
              "3                                                                                                                       la verdadera  ...       NaN\n",
              "4                                                        En el saben que tendrán que pactar, no saben con quien, si quieren gobernar  ...       NaN\n",
              "...                                                                                                                              ...  ...       ...\n",
              "79444                                                                                        Las mejores fotos son las que no se ven  ...       NaN\n",
              "79445                                                                                 Es increíble y tal pero no , no voy a ir al TH  ...       NaN\n",
              "79446                                                                                           a to esto, el tio de ono no ha venio  ...       NaN\n",
              "79447                                                                                          Es que me lo como de lo bonito que es  ...       NaN\n",
              "79450                                                                      Tanto sad, tanto sad... Pues yo también estoy muy sad hoy  ...       NaN\n",
              "\n",
              "[54112 rows x 3 columns]"
            ]
          },
          "metadata": {
            "tags": []
          },
          "execution_count": 97
        }
      ]
    },
    {
      "cell_type": "code",
      "metadata": {
        "id": "BHtOXb1-9hHy"
      },
      "source": [
        "tweets_corpus.to_pickle(\"TASS_data_df.pkl\")"
      ],
      "execution_count": null,
      "outputs": []
    },
    {
      "cell_type": "code",
      "metadata": {
        "colab": {
          "base_uri": "https://localhost:8080/",
          "height": 677
        },
        "id": "v5rktQMO72kM",
        "outputId": "3ce0f380-a464-4213-9dbd-29f3adf10463"
      },
      "source": [
        "import pandas as pd\r\n",
        "\r\n",
        "TASS_data = pd.read_pickle(\"/content/TASS_data_df.pkl\")\r\n",
        "TASS_data.sample(20)"
      ],
      "execution_count": null,
      "outputs": [
        {
          "output_type": "execute_result",
          "data": {
            "text/html": [
              "<div>\n",
              "<style scoped>\n",
              "    .dataframe tbody tr th:only-of-type {\n",
              "        vertical-align: middle;\n",
              "    }\n",
              "\n",
              "    .dataframe tbody tr th {\n",
              "        vertical-align: top;\n",
              "    }\n",
              "\n",
              "    .dataframe thead th {\n",
              "        text-align: right;\n",
              "    }\n",
              "</style>\n",
              "<table border=\"1\" class=\"dataframe\">\n",
              "  <thead>\n",
              "    <tr style=\"text-align: right;\">\n",
              "      <th></th>\n",
              "      <th>content</th>\n",
              "      <th>polarity</th>\n",
              "      <th>agreement</th>\n",
              "    </tr>\n",
              "  </thead>\n",
              "  <tbody>\n",
              "    <tr>\n",
              "      <th>9378</th>\n",
              "      <td>Practicando la ceja para RAFA!!;) vamos!!;))</td>\n",
              "      <td>P</td>\n",
              "      <td>NaN</td>\n",
              "    </tr>\n",
              "    <tr>\n",
              "      <th>126</th>\n",
              "      <td>Lógico o ?es que quiere nombrarlos El Diario?Otro asunto es que sea o no aceptable pero es el que gobierna</td>\n",
              "      <td>NEU</td>\n",
              "      <td>NaN</td>\n",
              "    </tr>\n",
              "    <tr>\n",
              "      <th>70419</th>\n",
              "      <td>No,No,No! No sabe de Fútbol El mejor equipo es el Barcelona JAJAJAJAJAJAJA</td>\n",
              "      <td>NEU</td>\n",
              "      <td>NaN</td>\n",
              "    </tr>\n",
              "    <tr>\n",
              "      <th>29734</th>\n",
              "      <td>No puede aclararlo pq no lo han decidido. Puede q ni sean penales...</td>\n",
              "      <td>N</td>\n",
              "      <td>NaN</td>\n",
              "    </tr>\n",
              "    <tr>\n",
              "      <th>55425</th>\n",
              "      <td>Aspectos esenciales d reforma laboral no se pueden aplicar 1 mes después x falta desarrollo reglamentario. Hasta las elecciones andaluzas?</td>\n",
              "      <td>N</td>\n",
              "      <td>NaN</td>\n",
              "    </tr>\n",
              "    <tr>\n",
              "      <th>45296</th>\n",
              "      <td>habrá en los premios consignas contra Ref laboral? Son capaces tras años sin hablar de paro!</td>\n",
              "      <td>P</td>\n",
              "      <td>NaN</td>\n",
              "    </tr>\n",
              "    <tr>\n",
              "      <th>50378</th>\n",
              "      <td>Carlos Floriano pide a Rubalcaba que deje poner palos en la rueda a los que \"tratan de sacar a España de la situación que su partido dejó\"</td>\n",
              "      <td>N</td>\n",
              "      <td>NaN</td>\n",
              "    </tr>\n",
              "    <tr>\n",
              "      <th>39937</th>\n",
              "      <td>RT“: Rajoy (): «La situación es crítica; el paro aumentará en 2012» Empleo Economía”</td>\n",
              "      <td>N</td>\n",
              "      <td>NaN</td>\n",
              "    </tr>\n",
              "    <tr>\n",
              "      <th>68674</th>\n",
              "      <td>Hoy microaventura en kayak con dos expertos kayakistas Ría de Villaviciosa. El Puntal…</td>\n",
              "      <td>P</td>\n",
              "      <td>NaN</td>\n",
              "    </tr>\n",
              "    <tr>\n",
              "      <th>15460</th>\n",
              "      <td>Rajoy anuncia la actualización del poder adquisitivo de las pensiones, desde 1 enero. \"el único aumento de gasto que me van a escuchar hoy\"</td>\n",
              "      <td>P</td>\n",
              "      <td>NaN</td>\n",
              "    </tr>\n",
              "    <tr>\n",
              "      <th>35855</th>\n",
              "      <td>Romney arrasa en Florida y vuelve a liderar las primarias republicana via</td>\n",
              "      <td>P</td>\n",
              "      <td>NaN</td>\n",
              "    </tr>\n",
              "    <tr>\n",
              "      <th>11021</th>\n",
              "      <td>La Rioja y Navarra cierran un acuerdo sobre asistencia sanitaria en municipios limítrofes</td>\n",
              "      <td>P</td>\n",
              "      <td>NaN</td>\n",
              "    </tr>\n",
              "    <tr>\n",
              "      <th>21262</th>\n",
              "      <td>Suben temporalmente el IRPF y el IBI.</td>\n",
              "      <td>N</td>\n",
              "      <td>NaN</td>\n",
              "    </tr>\n",
              "    <tr>\n",
              "      <th>15910</th>\n",
              "      <td>Rubalcaba ofrece acuerdos a . Bien. Y, oposición también, verdad?</td>\n",
              "      <td>P</td>\n",
              "      <td>NaN</td>\n",
              "    </tr>\n",
              "    <tr>\n",
              "      <th>9501</th>\n",
              "      <td>RT : Fitch rebaja la nota de Castilla-La Mancha y la deja dos escalones por encima del 'bono basura'</td>\n",
              "      <td>N</td>\n",
              "      <td>NaN</td>\n",
              "    </tr>\n",
              "    <tr>\n",
              "      <th>73315</th>\n",
              "      <td>Bono celebra su última fiesta en el Congreso y la pregunta es si habrá un Viva España! Con y en RNE, para arrancar.</td>\n",
              "      <td>P</td>\n",
              "      <td>AGREEMENT</td>\n",
              "    </tr>\n",
              "    <tr>\n",
              "      <th>55324</th>\n",
              "      <td>Como andaluza, me duele que mi presidente, José Antonio Griñán, intente tomarnos el pelo diciendo que han perseguido a los corruptos</td>\n",
              "      <td>N</td>\n",
              "      <td>NaN</td>\n",
              "    </tr>\n",
              "    <tr>\n",
              "      <th>58688</th>\n",
              "      <td>Un abrazo grande.. Non esere piu grande. Jeje RT : Saludos desde (cont)</td>\n",
              "      <td>P</td>\n",
              "      <td>NaN</td>\n",
              "    </tr>\n",
              "    <tr>\n",
              "      <th>75829</th>\n",
              "      <td>“: Hoy el control del programa esta abarrotado. Gente entusiasmada con su trabajo. Merece la pena verlos seguir el programa.</td>\n",
              "      <td>P</td>\n",
              "      <td>AGREEMENT</td>\n",
              "    </tr>\n",
              "    <tr>\n",
              "      <th>70972</th>\n",
              "      <td>siiii ayer a las 23 en vtv.. Y bueno yo tampoco me vi</td>\n",
              "      <td>NEU</td>\n",
              "      <td>NaN</td>\n",
              "    </tr>\n",
              "  </tbody>\n",
              "</table>\n",
              "</div>"
            ],
            "text/plain": [
              "                                                                                                                                           content  ...  agreement\n",
              "9378                                                                                                  Practicando la ceja para RAFA!!;) vamos!!;))  ...        NaN\n",
              "126                                     Lógico o ?es que quiere nombrarlos El Diario?Otro asunto es que sea o no aceptable pero es el que gobierna  ...        NaN\n",
              "70419                                                                   No,No,No! No sabe de Fútbol El mejor equipo es el Barcelona JAJAJAJAJAJAJA  ...        NaN\n",
              "29734                                                                         No puede aclararlo pq no lo han decidido. Puede q ni sean penales...  ...        NaN\n",
              "55425   Aspectos esenciales d reforma laboral no se pueden aplicar 1 mes después x falta desarrollo reglamentario. Hasta las elecciones andaluzas?  ...        NaN\n",
              "45296                                                 habrá en los premios consignas contra Ref laboral? Son capaces tras años sin hablar de paro!  ...        NaN\n",
              "50378   Carlos Floriano pide a Rubalcaba que deje poner palos en la rueda a los que \"tratan de sacar a España de la situación que su partido dejó\"  ...        NaN\n",
              "39937                                                         RT“: Rajoy (): «La situación es crítica; el paro aumentará en 2012» Empleo Economía”  ...        NaN\n",
              "68674                                                       Hoy microaventura en kayak con dos expertos kayakistas Ría de Villaviciosa. El Puntal…  ...        NaN\n",
              "15460  Rajoy anuncia la actualización del poder adquisitivo de las pensiones, desde 1 enero. \"el único aumento de gasto que me van a escuchar hoy\"  ...        NaN\n",
              "35855                                                                    Romney arrasa en Florida y vuelve a liderar las primarias republicana via  ...        NaN\n",
              "11021                                                    La Rioja y Navarra cierran un acuerdo sobre asistencia sanitaria en municipios limítrofes  ...        NaN\n",
              "21262                                                                                                        Suben temporalmente el IRPF y el IBI.  ...        NaN\n",
              "15910                                                                            Rubalcaba ofrece acuerdos a . Bien. Y, oposición también, verdad?  ...        NaN\n",
              "9501                                          RT : Fitch rebaja la nota de Castilla-La Mancha y la deja dos escalones por encima del 'bono basura'  ...        NaN\n",
              "73315                          Bono celebra su última fiesta en el Congreso y la pregunta es si habrá un Viva España! Con y en RNE, para arrancar.  ...  AGREEMENT\n",
              "55324         Como andaluza, me duele que mi presidente, José Antonio Griñán, intente tomarnos el pelo diciendo que han perseguido a los corruptos  ...        NaN\n",
              "58688                                                                      Un abrazo grande.. Non esere piu grande. Jeje RT : Saludos desde (cont)  ...        NaN\n",
              "75829                 “: Hoy el control del programa esta abarrotado. Gente entusiasmada con su trabajo. Merece la pena verlos seguir el programa.  ...  AGREEMENT\n",
              "70972                                                                                        siiii ayer a las 23 en vtv.. Y bueno yo tampoco me vi  ...        NaN\n",
              "\n",
              "[20 rows x 3 columns]"
            ]
          },
          "metadata": {
            "tags": []
          },
          "execution_count": 110
        }
      ]
    },
    {
      "cell_type": "code",
      "metadata": {
        "colab": {
          "base_uri": "https://localhost:8080/"
        },
        "id": "TG9i1RrK83pn",
        "outputId": "cee5496c-737e-4c86-8c2b-d37e99ebbc9b"
      },
      "source": [
        "TASS_data.shape"
      ],
      "execution_count": null,
      "outputs": [
        {
          "output_type": "execute_result",
          "data": {
            "text/plain": [
              "(54112, 3)"
            ]
          },
          "metadata": {
            "tags": []
          },
          "execution_count": 113
        }
      ]
    },
    {
      "cell_type": "markdown",
      "metadata": {
        "id": "F1mf9ZATHkKK"
      },
      "source": [
        "Data composition"
      ]
    },
    {
      "cell_type": "code",
      "metadata": {
        "colab": {
          "base_uri": "https://localhost:8080/",
          "height": 143
        },
        "id": "F1pgiR45P2tA",
        "outputId": "319fd9e8-1e9a-46ee-8643-c4ea9d594542"
      },
      "source": [
        "freq_data = TASS_data.groupby([\"polarity\"], as_index=False).agg({\"content\": 'count'})\r\n",
        "freq_data"
      ],
      "execution_count": null,
      "outputs": [
        {
          "output_type": "execute_result",
          "data": {
            "text/html": [
              "<div>\n",
              "<style scoped>\n",
              "    .dataframe tbody tr th:only-of-type {\n",
              "        vertical-align: middle;\n",
              "    }\n",
              "\n",
              "    .dataframe tbody tr th {\n",
              "        vertical-align: top;\n",
              "    }\n",
              "\n",
              "    .dataframe thead th {\n",
              "        text-align: right;\n",
              "    }\n",
              "</style>\n",
              "<table border=\"1\" class=\"dataframe\">\n",
              "  <thead>\n",
              "    <tr style=\"text-align: right;\">\n",
              "      <th></th>\n",
              "      <th>polarity</th>\n",
              "      <th>content</th>\n",
              "    </tr>\n",
              "  </thead>\n",
              "  <tbody>\n",
              "    <tr>\n",
              "      <th>0</th>\n",
              "      <td>N</td>\n",
              "      <td>22205</td>\n",
              "    </tr>\n",
              "    <tr>\n",
              "      <th>1</th>\n",
              "      <td>NEU</td>\n",
              "      <td>3945</td>\n",
              "    </tr>\n",
              "    <tr>\n",
              "      <th>2</th>\n",
              "      <td>P</td>\n",
              "      <td>27962</td>\n",
              "    </tr>\n",
              "  </tbody>\n",
              "</table>\n",
              "</div>"
            ],
            "text/plain": [
              "  polarity  content\n",
              "0        N    22205\n",
              "1      NEU     3945\n",
              "2        P    27962"
            ]
          },
          "metadata": {
            "tags": []
          },
          "execution_count": 129
        }
      ]
    },
    {
      "cell_type": "code",
      "metadata": {
        "colab": {
          "base_uri": "https://localhost:8080/",
          "height": 542
        },
        "id": "UuL_7bCoPljC",
        "outputId": "25ce55fd-bcb9-4763-f728-23a712956ee6"
      },
      "source": [
        "import plotly.express as px\r\n",
        "\r\n",
        "freq_data = TASS_data.groupby([\"polarity\"], as_index=False).agg({\"content\": ['count']})\r\n",
        "\r\n",
        "fig = px.bar(freq_data, x=\"polarity\", y=\"content\", color=\"polarity\")\r\n",
        "\r\n",
        "fig.update_layout(\r\n",
        "    title=\"TASS data\",\r\n",
        "    title_font=dict(\r\n",
        "        # family=\"Courier New, monospace\",\r\n",
        "        size=20,\r\n",
        "    ),\r\n",
        "    legend_font = dict(\r\n",
        "        # family=\"Courier New, monospace\",\r\n",
        "        size=15,\r\n",
        "    )\r\n",
        ")\r\n",
        "\r\n",
        "fig.update_xaxes(\r\n",
        "        # tickangle = 90,\r\n",
        "        title_text = \"Polarity\",\r\n",
        "        title_font = {\"size\": 18},\r\n",
        "        title_standoff = 25,\r\n",
        "        tickfont=dict(size=14))\r\n",
        "\r\n",
        "fig.update_yaxes(\r\n",
        "        title_text = \"Count\",\r\n",
        "        title_font = {\"size\": 18},\r\n",
        "        title_standoff = 25,\r\n",
        "        tickfont=dict(size=14))\r\n",
        "fig.show()"
      ],
      "execution_count": null,
      "outputs": [
        {
          "output_type": "display_data",
          "data": {
            "text/html": [
              "<html>\n",
              "<head><meta charset=\"utf-8\" /></head>\n",
              "<body>\n",
              "    <div>\n",
              "            <script src=\"https://cdnjs.cloudflare.com/ajax/libs/mathjax/2.7.5/MathJax.js?config=TeX-AMS-MML_SVG\"></script><script type=\"text/javascript\">if (window.MathJax) {MathJax.Hub.Config({SVG: {font: \"STIX-Web\"}});}</script>\n",
              "                <script type=\"text/javascript\">window.PlotlyConfig = {MathJaxConfig: 'local'};</script>\n",
              "        <script src=\"https://cdn.plot.ly/plotly-latest.min.js\"></script>    \n",
              "            <div id=\"5e84dc13-b0d4-47de-8902-01c64bcf7cfc\" class=\"plotly-graph-div\" style=\"height:525px; width:100%;\"></div>\n",
              "            <script type=\"text/javascript\">\n",
              "                \n",
              "                    window.PLOTLYENV=window.PLOTLYENV || {};\n",
              "                    \n",
              "                if (document.getElementById(\"5e84dc13-b0d4-47de-8902-01c64bcf7cfc\")) {\n",
              "                    Plotly.newPlot(\n",
              "                        '5e84dc13-b0d4-47de-8902-01c64bcf7cfc',\n",
              "                        [{\"alignmentgroup\": \"True\", \"hoverlabel\": {\"namelength\": 0}, \"hovertemplate\": \"polarity=%{x}<br>content=%{y}\", \"legendgroup\": \"polarity=N\", \"marker\": {\"color\": \"#636efa\"}, \"name\": \"polarity=N\", \"offsetgroup\": \"polarity=N\", \"orientation\": \"v\", \"showlegend\": true, \"textposition\": \"auto\", \"type\": \"bar\", \"x\": [\"N\"], \"xaxis\": \"x\", \"y\": [22205], \"yaxis\": \"y\"}, {\"alignmentgroup\": \"True\", \"hoverlabel\": {\"namelength\": 0}, \"hovertemplate\": \"polarity=%{x}<br>content=%{y}\", \"legendgroup\": \"polarity=NEU\", \"marker\": {\"color\": \"#EF553B\"}, \"name\": \"polarity=NEU\", \"offsetgroup\": \"polarity=NEU\", \"orientation\": \"v\", \"showlegend\": true, \"textposition\": \"auto\", \"type\": \"bar\", \"x\": [\"NEU\"], \"xaxis\": \"x\", \"y\": [3945], \"yaxis\": \"y\"}, {\"alignmentgroup\": \"True\", \"hoverlabel\": {\"namelength\": 0}, \"hovertemplate\": \"polarity=%{x}<br>content=%{y}\", \"legendgroup\": \"polarity=P\", \"marker\": {\"color\": \"#00cc96\"}, \"name\": \"polarity=P\", \"offsetgroup\": \"polarity=P\", \"orientation\": \"v\", \"showlegend\": true, \"textposition\": \"auto\", \"type\": \"bar\", \"x\": [\"P\"], \"xaxis\": \"x\", \"y\": [27962], \"yaxis\": \"y\"}],\n",
              "                        {\"barmode\": \"relative\", \"legend\": {\"font\": {\"size\": 15}, \"tracegroupgap\": 0}, \"margin\": {\"t\": 60}, \"template\": {\"data\": {\"bar\": [{\"error_x\": {\"color\": \"#2a3f5f\"}, \"error_y\": {\"color\": \"#2a3f5f\"}, \"marker\": {\"line\": {\"color\": \"#E5ECF6\", \"width\": 0.5}}, \"type\": \"bar\"}], \"barpolar\": [{\"marker\": {\"line\": {\"color\": \"#E5ECF6\", \"width\": 0.5}}, \"type\": \"barpolar\"}], \"carpet\": [{\"aaxis\": {\"endlinecolor\": \"#2a3f5f\", \"gridcolor\": \"white\", \"linecolor\": \"white\", \"minorgridcolor\": \"white\", \"startlinecolor\": \"#2a3f5f\"}, \"baxis\": {\"endlinecolor\": \"#2a3f5f\", \"gridcolor\": \"white\", \"linecolor\": \"white\", \"minorgridcolor\": \"white\", \"startlinecolor\": \"#2a3f5f\"}, \"type\": \"carpet\"}], \"choropleth\": [{\"colorbar\": {\"outlinewidth\": 0, \"ticks\": \"\"}, \"type\": \"choropleth\"}], \"contour\": [{\"colorbar\": {\"outlinewidth\": 0, \"ticks\": \"\"}, \"colorscale\": [[0.0, \"#0d0887\"], [0.1111111111111111, \"#46039f\"], [0.2222222222222222, \"#7201a8\"], [0.3333333333333333, \"#9c179e\"], [0.4444444444444444, \"#bd3786\"], [0.5555555555555556, \"#d8576b\"], [0.6666666666666666, \"#ed7953\"], [0.7777777777777778, \"#fb9f3a\"], [0.8888888888888888, \"#fdca26\"], [1.0, \"#f0f921\"]], \"type\": \"contour\"}], \"contourcarpet\": [{\"colorbar\": {\"outlinewidth\": 0, \"ticks\": \"\"}, \"type\": \"contourcarpet\"}], \"heatmap\": [{\"colorbar\": {\"outlinewidth\": 0, \"ticks\": \"\"}, \"colorscale\": [[0.0, \"#0d0887\"], [0.1111111111111111, \"#46039f\"], [0.2222222222222222, \"#7201a8\"], [0.3333333333333333, \"#9c179e\"], [0.4444444444444444, \"#bd3786\"], [0.5555555555555556, \"#d8576b\"], [0.6666666666666666, \"#ed7953\"], [0.7777777777777778, \"#fb9f3a\"], [0.8888888888888888, \"#fdca26\"], [1.0, \"#f0f921\"]], \"type\": \"heatmap\"}], \"heatmapgl\": [{\"colorbar\": {\"outlinewidth\": 0, \"ticks\": \"\"}, \"colorscale\": [[0.0, \"#0d0887\"], [0.1111111111111111, \"#46039f\"], [0.2222222222222222, \"#7201a8\"], [0.3333333333333333, \"#9c179e\"], [0.4444444444444444, \"#bd3786\"], [0.5555555555555556, \"#d8576b\"], [0.6666666666666666, \"#ed7953\"], [0.7777777777777778, \"#fb9f3a\"], [0.8888888888888888, \"#fdca26\"], [1.0, \"#f0f921\"]], \"type\": \"heatmapgl\"}], \"histogram\": [{\"marker\": {\"colorbar\": {\"outlinewidth\": 0, \"ticks\": \"\"}}, \"type\": \"histogram\"}], \"histogram2d\": [{\"colorbar\": {\"outlinewidth\": 0, \"ticks\": \"\"}, \"colorscale\": [[0.0, \"#0d0887\"], [0.1111111111111111, \"#46039f\"], [0.2222222222222222, \"#7201a8\"], [0.3333333333333333, \"#9c179e\"], [0.4444444444444444, \"#bd3786\"], [0.5555555555555556, \"#d8576b\"], [0.6666666666666666, \"#ed7953\"], [0.7777777777777778, \"#fb9f3a\"], [0.8888888888888888, \"#fdca26\"], [1.0, \"#f0f921\"]], \"type\": \"histogram2d\"}], \"histogram2dcontour\": [{\"colorbar\": {\"outlinewidth\": 0, \"ticks\": \"\"}, \"colorscale\": [[0.0, \"#0d0887\"], [0.1111111111111111, \"#46039f\"], [0.2222222222222222, \"#7201a8\"], [0.3333333333333333, \"#9c179e\"], [0.4444444444444444, \"#bd3786\"], [0.5555555555555556, \"#d8576b\"], [0.6666666666666666, \"#ed7953\"], [0.7777777777777778, \"#fb9f3a\"], [0.8888888888888888, \"#fdca26\"], [1.0, \"#f0f921\"]], \"type\": \"histogram2dcontour\"}], \"mesh3d\": [{\"colorbar\": {\"outlinewidth\": 0, \"ticks\": \"\"}, \"type\": \"mesh3d\"}], \"parcoords\": [{\"line\": {\"colorbar\": {\"outlinewidth\": 0, \"ticks\": \"\"}}, \"type\": \"parcoords\"}], \"pie\": [{\"automargin\": true, \"type\": \"pie\"}], \"scatter\": [{\"marker\": {\"colorbar\": {\"outlinewidth\": 0, \"ticks\": \"\"}}, \"type\": \"scatter\"}], \"scatter3d\": [{\"line\": {\"colorbar\": {\"outlinewidth\": 0, \"ticks\": \"\"}}, \"marker\": {\"colorbar\": {\"outlinewidth\": 0, \"ticks\": \"\"}}, \"type\": \"scatter3d\"}], \"scattercarpet\": [{\"marker\": {\"colorbar\": {\"outlinewidth\": 0, \"ticks\": \"\"}}, \"type\": \"scattercarpet\"}], \"scattergeo\": [{\"marker\": {\"colorbar\": {\"outlinewidth\": 0, \"ticks\": \"\"}}, \"type\": \"scattergeo\"}], \"scattergl\": [{\"marker\": {\"colorbar\": {\"outlinewidth\": 0, \"ticks\": \"\"}}, \"type\": \"scattergl\"}], \"scattermapbox\": [{\"marker\": {\"colorbar\": {\"outlinewidth\": 0, \"ticks\": \"\"}}, \"type\": \"scattermapbox\"}], \"scatterpolar\": [{\"marker\": {\"colorbar\": {\"outlinewidth\": 0, \"ticks\": \"\"}}, \"type\": \"scatterpolar\"}], \"scatterpolargl\": [{\"marker\": {\"colorbar\": {\"outlinewidth\": 0, \"ticks\": \"\"}}, \"type\": \"scatterpolargl\"}], \"scatterternary\": [{\"marker\": {\"colorbar\": {\"outlinewidth\": 0, \"ticks\": \"\"}}, \"type\": \"scatterternary\"}], \"surface\": [{\"colorbar\": {\"outlinewidth\": 0, \"ticks\": \"\"}, \"colorscale\": [[0.0, \"#0d0887\"], [0.1111111111111111, \"#46039f\"], [0.2222222222222222, \"#7201a8\"], [0.3333333333333333, \"#9c179e\"], [0.4444444444444444, \"#bd3786\"], [0.5555555555555556, \"#d8576b\"], [0.6666666666666666, \"#ed7953\"], [0.7777777777777778, \"#fb9f3a\"], [0.8888888888888888, \"#fdca26\"], [1.0, \"#f0f921\"]], \"type\": \"surface\"}], \"table\": [{\"cells\": {\"fill\": {\"color\": \"#EBF0F8\"}, \"line\": {\"color\": \"white\"}}, \"header\": {\"fill\": {\"color\": \"#C8D4E3\"}, \"line\": {\"color\": \"white\"}}, \"type\": \"table\"}]}, \"layout\": {\"annotationdefaults\": {\"arrowcolor\": \"#2a3f5f\", \"arrowhead\": 0, \"arrowwidth\": 1}, \"coloraxis\": {\"colorbar\": {\"outlinewidth\": 0, \"ticks\": \"\"}}, \"colorscale\": {\"diverging\": [[0, \"#8e0152\"], [0.1, \"#c51b7d\"], [0.2, \"#de77ae\"], [0.3, \"#f1b6da\"], [0.4, \"#fde0ef\"], [0.5, \"#f7f7f7\"], [0.6, \"#e6f5d0\"], [0.7, \"#b8e186\"], [0.8, \"#7fbc41\"], [0.9, \"#4d9221\"], [1, \"#276419\"]], \"sequential\": [[0.0, \"#0d0887\"], [0.1111111111111111, \"#46039f\"], [0.2222222222222222, \"#7201a8\"], [0.3333333333333333, \"#9c179e\"], [0.4444444444444444, \"#bd3786\"], [0.5555555555555556, \"#d8576b\"], [0.6666666666666666, \"#ed7953\"], [0.7777777777777778, \"#fb9f3a\"], [0.8888888888888888, \"#fdca26\"], [1.0, \"#f0f921\"]], \"sequentialminus\": [[0.0, \"#0d0887\"], [0.1111111111111111, \"#46039f\"], [0.2222222222222222, \"#7201a8\"], [0.3333333333333333, \"#9c179e\"], [0.4444444444444444, \"#bd3786\"], [0.5555555555555556, \"#d8576b\"], [0.6666666666666666, \"#ed7953\"], [0.7777777777777778, \"#fb9f3a\"], [0.8888888888888888, \"#fdca26\"], [1.0, \"#f0f921\"]]}, \"colorway\": [\"#636efa\", \"#EF553B\", \"#00cc96\", \"#ab63fa\", \"#FFA15A\", \"#19d3f3\", \"#FF6692\", \"#B6E880\", \"#FF97FF\", \"#FECB52\"], \"font\": {\"color\": \"#2a3f5f\"}, \"geo\": {\"bgcolor\": \"white\", \"lakecolor\": \"white\", \"landcolor\": \"#E5ECF6\", \"showlakes\": true, \"showland\": true, \"subunitcolor\": \"white\"}, \"hoverlabel\": {\"align\": \"left\"}, \"hovermode\": \"closest\", \"mapbox\": {\"style\": \"light\"}, \"paper_bgcolor\": \"white\", \"plot_bgcolor\": \"#E5ECF6\", \"polar\": {\"angularaxis\": {\"gridcolor\": \"white\", \"linecolor\": \"white\", \"ticks\": \"\"}, \"bgcolor\": \"#E5ECF6\", \"radialaxis\": {\"gridcolor\": \"white\", \"linecolor\": \"white\", \"ticks\": \"\"}}, \"scene\": {\"xaxis\": {\"backgroundcolor\": \"#E5ECF6\", \"gridcolor\": \"white\", \"gridwidth\": 2, \"linecolor\": \"white\", \"showbackground\": true, \"ticks\": \"\", \"zerolinecolor\": \"white\"}, \"yaxis\": {\"backgroundcolor\": \"#E5ECF6\", \"gridcolor\": \"white\", \"gridwidth\": 2, \"linecolor\": \"white\", \"showbackground\": true, \"ticks\": \"\", \"zerolinecolor\": \"white\"}, \"zaxis\": {\"backgroundcolor\": \"#E5ECF6\", \"gridcolor\": \"white\", \"gridwidth\": 2, \"linecolor\": \"white\", \"showbackground\": true, \"ticks\": \"\", \"zerolinecolor\": \"white\"}}, \"shapedefaults\": {\"line\": {\"color\": \"#2a3f5f\"}}, \"ternary\": {\"aaxis\": {\"gridcolor\": \"white\", \"linecolor\": \"white\", \"ticks\": \"\"}, \"baxis\": {\"gridcolor\": \"white\", \"linecolor\": \"white\", \"ticks\": \"\"}, \"bgcolor\": \"#E5ECF6\", \"caxis\": {\"gridcolor\": \"white\", \"linecolor\": \"white\", \"ticks\": \"\"}}, \"title\": {\"x\": 0.05}, \"xaxis\": {\"automargin\": true, \"gridcolor\": \"white\", \"linecolor\": \"white\", \"ticks\": \"\", \"title\": {\"standoff\": 15}, \"zerolinecolor\": \"white\", \"zerolinewidth\": 2}, \"yaxis\": {\"automargin\": true, \"gridcolor\": \"white\", \"linecolor\": \"white\", \"ticks\": \"\", \"title\": {\"standoff\": 15}, \"zerolinecolor\": \"white\", \"zerolinewidth\": 2}}}, \"title\": {\"font\": {\"size\": 20}, \"text\": \"TASS data\"}, \"xaxis\": {\"anchor\": \"y\", \"categoryarray\": [\"N\", \"NEU\", \"P\"], \"categoryorder\": \"array\", \"domain\": [0.0, 1.0], \"tickfont\": {\"size\": 14}, \"title\": {\"font\": {\"size\": 18}, \"standoff\": 25, \"text\": \"Polarity\"}}, \"yaxis\": {\"anchor\": \"x\", \"domain\": [0.0, 1.0], \"tickfont\": {\"size\": 14}, \"title\": {\"font\": {\"size\": 18}, \"standoff\": 25, \"text\": \"Count\"}}},\n",
              "                        {\"responsive\": true}\n",
              "                    ).then(function(){\n",
              "                            \n",
              "var gd = document.getElementById('5e84dc13-b0d4-47de-8902-01c64bcf7cfc');\n",
              "var x = new MutationObserver(function (mutations, observer) {{\n",
              "        var display = window.getComputedStyle(gd).display;\n",
              "        if (!display || display === 'none') {{\n",
              "            console.log([gd, 'removed!']);\n",
              "            Plotly.purge(gd);\n",
              "            observer.disconnect();\n",
              "        }}\n",
              "}});\n",
              "\n",
              "// Listen for the removal of the full notebook cells\n",
              "var notebookContainer = gd.closest('#notebook-container');\n",
              "if (notebookContainer) {{\n",
              "    x.observe(notebookContainer, {childList: true});\n",
              "}}\n",
              "\n",
              "// Listen for the clearing of the current output cell\n",
              "var outputEl = gd.closest('.output');\n",
              "if (outputEl) {{\n",
              "    x.observe(outputEl, {childList: true});\n",
              "}}\n",
              "\n",
              "                        })\n",
              "                };\n",
              "                \n",
              "            </script>\n",
              "        </div>\n",
              "</body>\n",
              "</html>"
            ]
          },
          "metadata": {
            "tags": []
          }
        }
      ]
    }
  ]
}