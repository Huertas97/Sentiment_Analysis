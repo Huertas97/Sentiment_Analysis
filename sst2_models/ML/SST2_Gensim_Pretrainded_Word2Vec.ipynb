{
  "nbformat": 4,
  "nbformat_minor": 0,
  "metadata": {
    "colab": {
      "name": "SST2-Gensim-Pretrainded-Word2Vec.ipynb",
      "provenance": [],
      "toc_visible": true,
      "authorship_tag": "ABX9TyPNzsdHFEWTuT799Qzg1FUg",
      "include_colab_link": true
    },
    "kernelspec": {
      "name": "python3",
      "display_name": "Python 3"
    },
    "widgets": {
      "application/vnd.jupyter.widget-state+json": {
        "23473d366f454cbc8cf687f641857b60": {
          "model_module": "@jupyter-widgets/controls",
          "model_name": "HBoxModel",
          "state": {
            "_view_name": "HBoxView",
            "_dom_classes": [],
            "_model_name": "HBoxModel",
            "_view_module": "@jupyter-widgets/controls",
            "_model_module_version": "1.5.0",
            "_view_count": null,
            "_view_module_version": "1.5.0",
            "box_style": "",
            "layout": "IPY_MODEL_a8b461f033f944e5a2d8064fb3c9076d",
            "_model_module": "@jupyter-widgets/controls",
            "children": [
              "IPY_MODEL_1cf41123494843b7866d1d37ae464d0c",
              "IPY_MODEL_2ff3b9a9111343f29d5c8b48891bd322"
            ]
          }
        },
        "a8b461f033f944e5a2d8064fb3c9076d": {
          "model_module": "@jupyter-widgets/base",
          "model_name": "LayoutModel",
          "state": {
            "_view_name": "LayoutView",
            "grid_template_rows": null,
            "right": null,
            "justify_content": null,
            "_view_module": "@jupyter-widgets/base",
            "overflow": null,
            "_model_module_version": "1.2.0",
            "_view_count": null,
            "flex_flow": null,
            "width": null,
            "min_width": null,
            "border": null,
            "align_items": null,
            "bottom": null,
            "_model_module": "@jupyter-widgets/base",
            "top": null,
            "grid_column": null,
            "overflow_y": null,
            "overflow_x": null,
            "grid_auto_flow": null,
            "grid_area": null,
            "grid_template_columns": null,
            "flex": null,
            "_model_name": "LayoutModel",
            "justify_items": null,
            "grid_row": null,
            "max_height": null,
            "align_content": null,
            "visibility": null,
            "align_self": null,
            "height": null,
            "min_height": null,
            "padding": null,
            "grid_auto_rows": null,
            "grid_gap": null,
            "max_width": null,
            "order": null,
            "_view_module_version": "1.2.0",
            "grid_template_areas": null,
            "object_position": null,
            "object_fit": null,
            "grid_auto_columns": null,
            "margin": null,
            "display": null,
            "left": null
          }
        },
        "1cf41123494843b7866d1d37ae464d0c": {
          "model_module": "@jupyter-widgets/controls",
          "model_name": "FloatProgressModel",
          "state": {
            "_view_name": "ProgressView",
            "style": "IPY_MODEL_a446696f190543d4a0ca76d5b34697b4",
            "_dom_classes": [],
            "description": "Train cleaning: 100%",
            "_model_name": "FloatProgressModel",
            "bar_style": "success",
            "max": 67349,
            "_view_module": "@jupyter-widgets/controls",
            "_model_module_version": "1.5.0",
            "value": 67349,
            "_view_count": null,
            "_view_module_version": "1.5.0",
            "orientation": "horizontal",
            "min": 0,
            "description_tooltip": null,
            "_model_module": "@jupyter-widgets/controls",
            "layout": "IPY_MODEL_2b5650743281429ba0c8d8a65eaa5940"
          }
        },
        "2ff3b9a9111343f29d5c8b48891bd322": {
          "model_module": "@jupyter-widgets/controls",
          "model_name": "HTMLModel",
          "state": {
            "_view_name": "HTMLView",
            "style": "IPY_MODEL_2d80ee41f33047c2b494ea7e6d31b2cd",
            "_dom_classes": [],
            "description": "",
            "_model_name": "HTMLModel",
            "placeholder": "​",
            "_view_module": "@jupyter-widgets/controls",
            "_model_module_version": "1.5.0",
            "value": " 67349/67349 [00:39&lt;00:00, 1692.46it/s]",
            "_view_count": null,
            "_view_module_version": "1.5.0",
            "description_tooltip": null,
            "_model_module": "@jupyter-widgets/controls",
            "layout": "IPY_MODEL_8cc8fe309e2d4446bcdb158bb2d0da26"
          }
        },
        "a446696f190543d4a0ca76d5b34697b4": {
          "model_module": "@jupyter-widgets/controls",
          "model_name": "ProgressStyleModel",
          "state": {
            "_view_name": "StyleView",
            "_model_name": "ProgressStyleModel",
            "description_width": "initial",
            "_view_module": "@jupyter-widgets/base",
            "_model_module_version": "1.5.0",
            "_view_count": null,
            "_view_module_version": "1.2.0",
            "bar_color": null,
            "_model_module": "@jupyter-widgets/controls"
          }
        },
        "2b5650743281429ba0c8d8a65eaa5940": {
          "model_module": "@jupyter-widgets/base",
          "model_name": "LayoutModel",
          "state": {
            "_view_name": "LayoutView",
            "grid_template_rows": null,
            "right": null,
            "justify_content": null,
            "_view_module": "@jupyter-widgets/base",
            "overflow": null,
            "_model_module_version": "1.2.0",
            "_view_count": null,
            "flex_flow": null,
            "width": null,
            "min_width": null,
            "border": null,
            "align_items": null,
            "bottom": null,
            "_model_module": "@jupyter-widgets/base",
            "top": null,
            "grid_column": null,
            "overflow_y": null,
            "overflow_x": null,
            "grid_auto_flow": null,
            "grid_area": null,
            "grid_template_columns": null,
            "flex": null,
            "_model_name": "LayoutModel",
            "justify_items": null,
            "grid_row": null,
            "max_height": null,
            "align_content": null,
            "visibility": null,
            "align_self": null,
            "height": null,
            "min_height": null,
            "padding": null,
            "grid_auto_rows": null,
            "grid_gap": null,
            "max_width": null,
            "order": null,
            "_view_module_version": "1.2.0",
            "grid_template_areas": null,
            "object_position": null,
            "object_fit": null,
            "grid_auto_columns": null,
            "margin": null,
            "display": null,
            "left": null
          }
        },
        "2d80ee41f33047c2b494ea7e6d31b2cd": {
          "model_module": "@jupyter-widgets/controls",
          "model_name": "DescriptionStyleModel",
          "state": {
            "_view_name": "StyleView",
            "_model_name": "DescriptionStyleModel",
            "description_width": "",
            "_view_module": "@jupyter-widgets/base",
            "_model_module_version": "1.5.0",
            "_view_count": null,
            "_view_module_version": "1.2.0",
            "_model_module": "@jupyter-widgets/controls"
          }
        },
        "8cc8fe309e2d4446bcdb158bb2d0da26": {
          "model_module": "@jupyter-widgets/base",
          "model_name": "LayoutModel",
          "state": {
            "_view_name": "LayoutView",
            "grid_template_rows": null,
            "right": null,
            "justify_content": null,
            "_view_module": "@jupyter-widgets/base",
            "overflow": null,
            "_model_module_version": "1.2.0",
            "_view_count": null,
            "flex_flow": null,
            "width": null,
            "min_width": null,
            "border": null,
            "align_items": null,
            "bottom": null,
            "_model_module": "@jupyter-widgets/base",
            "top": null,
            "grid_column": null,
            "overflow_y": null,
            "overflow_x": null,
            "grid_auto_flow": null,
            "grid_area": null,
            "grid_template_columns": null,
            "flex": null,
            "_model_name": "LayoutModel",
            "justify_items": null,
            "grid_row": null,
            "max_height": null,
            "align_content": null,
            "visibility": null,
            "align_self": null,
            "height": null,
            "min_height": null,
            "padding": null,
            "grid_auto_rows": null,
            "grid_gap": null,
            "max_width": null,
            "order": null,
            "_view_module_version": "1.2.0",
            "grid_template_areas": null,
            "object_position": null,
            "object_fit": null,
            "grid_auto_columns": null,
            "margin": null,
            "display": null,
            "left": null
          }
        },
        "564d0696a5da499388159140ea50ef99": {
          "model_module": "@jupyter-widgets/controls",
          "model_name": "HBoxModel",
          "state": {
            "_view_name": "HBoxView",
            "_dom_classes": [],
            "_model_name": "HBoxModel",
            "_view_module": "@jupyter-widgets/controls",
            "_model_module_version": "1.5.0",
            "_view_count": null,
            "_view_module_version": "1.5.0",
            "box_style": "",
            "layout": "IPY_MODEL_87f1d453a5d34b889895fd2a0d6a8b18",
            "_model_module": "@jupyter-widgets/controls",
            "children": [
              "IPY_MODEL_2d45bf7460bf41f4b4c0f938fb9769ad",
              "IPY_MODEL_32480e7a8a274218917d84e89006936d"
            ]
          }
        },
        "87f1d453a5d34b889895fd2a0d6a8b18": {
          "model_module": "@jupyter-widgets/base",
          "model_name": "LayoutModel",
          "state": {
            "_view_name": "LayoutView",
            "grid_template_rows": null,
            "right": null,
            "justify_content": null,
            "_view_module": "@jupyter-widgets/base",
            "overflow": null,
            "_model_module_version": "1.2.0",
            "_view_count": null,
            "flex_flow": null,
            "width": null,
            "min_width": null,
            "border": null,
            "align_items": null,
            "bottom": null,
            "_model_module": "@jupyter-widgets/base",
            "top": null,
            "grid_column": null,
            "overflow_y": null,
            "overflow_x": null,
            "grid_auto_flow": null,
            "grid_area": null,
            "grid_template_columns": null,
            "flex": null,
            "_model_name": "LayoutModel",
            "justify_items": null,
            "grid_row": null,
            "max_height": null,
            "align_content": null,
            "visibility": null,
            "align_self": null,
            "height": null,
            "min_height": null,
            "padding": null,
            "grid_auto_rows": null,
            "grid_gap": null,
            "max_width": null,
            "order": null,
            "_view_module_version": "1.2.0",
            "grid_template_areas": null,
            "object_position": null,
            "object_fit": null,
            "grid_auto_columns": null,
            "margin": null,
            "display": null,
            "left": null
          }
        },
        "2d45bf7460bf41f4b4c0f938fb9769ad": {
          "model_module": "@jupyter-widgets/controls",
          "model_name": "FloatProgressModel",
          "state": {
            "_view_name": "ProgressView",
            "style": "IPY_MODEL_8edb982ed7184753bb7d0f17151f2442",
            "_dom_classes": [],
            "description": "Dev cleaning: 100%",
            "_model_name": "FloatProgressModel",
            "bar_style": "success",
            "max": 872,
            "_view_module": "@jupyter-widgets/controls",
            "_model_module_version": "1.5.0",
            "value": 872,
            "_view_count": null,
            "_view_module_version": "1.5.0",
            "orientation": "horizontal",
            "min": 0,
            "description_tooltip": null,
            "_model_module": "@jupyter-widgets/controls",
            "layout": "IPY_MODEL_3d6dee8e641548e4bdb015b54bee62e5"
          }
        },
        "32480e7a8a274218917d84e89006936d": {
          "model_module": "@jupyter-widgets/controls",
          "model_name": "HTMLModel",
          "state": {
            "_view_name": "HTMLView",
            "style": "IPY_MODEL_9cca7b6890d04c189ee7188625dd3f0b",
            "_dom_classes": [],
            "description": "",
            "_model_name": "HTMLModel",
            "placeholder": "​",
            "_view_module": "@jupyter-widgets/controls",
            "_model_module_version": "1.5.0",
            "value": " 872/872 [00:00&lt;00:00, 1416.62it/s]",
            "_view_count": null,
            "_view_module_version": "1.5.0",
            "description_tooltip": null,
            "_model_module": "@jupyter-widgets/controls",
            "layout": "IPY_MODEL_8484c40be10d4a5cb7b208a728d35658"
          }
        },
        "8edb982ed7184753bb7d0f17151f2442": {
          "model_module": "@jupyter-widgets/controls",
          "model_name": "ProgressStyleModel",
          "state": {
            "_view_name": "StyleView",
            "_model_name": "ProgressStyleModel",
            "description_width": "initial",
            "_view_module": "@jupyter-widgets/base",
            "_model_module_version": "1.5.0",
            "_view_count": null,
            "_view_module_version": "1.2.0",
            "bar_color": null,
            "_model_module": "@jupyter-widgets/controls"
          }
        },
        "3d6dee8e641548e4bdb015b54bee62e5": {
          "model_module": "@jupyter-widgets/base",
          "model_name": "LayoutModel",
          "state": {
            "_view_name": "LayoutView",
            "grid_template_rows": null,
            "right": null,
            "justify_content": null,
            "_view_module": "@jupyter-widgets/base",
            "overflow": null,
            "_model_module_version": "1.2.0",
            "_view_count": null,
            "flex_flow": null,
            "width": null,
            "min_width": null,
            "border": null,
            "align_items": null,
            "bottom": null,
            "_model_module": "@jupyter-widgets/base",
            "top": null,
            "grid_column": null,
            "overflow_y": null,
            "overflow_x": null,
            "grid_auto_flow": null,
            "grid_area": null,
            "grid_template_columns": null,
            "flex": null,
            "_model_name": "LayoutModel",
            "justify_items": null,
            "grid_row": null,
            "max_height": null,
            "align_content": null,
            "visibility": null,
            "align_self": null,
            "height": null,
            "min_height": null,
            "padding": null,
            "grid_auto_rows": null,
            "grid_gap": null,
            "max_width": null,
            "order": null,
            "_view_module_version": "1.2.0",
            "grid_template_areas": null,
            "object_position": null,
            "object_fit": null,
            "grid_auto_columns": null,
            "margin": null,
            "display": null,
            "left": null
          }
        },
        "9cca7b6890d04c189ee7188625dd3f0b": {
          "model_module": "@jupyter-widgets/controls",
          "model_name": "DescriptionStyleModel",
          "state": {
            "_view_name": "StyleView",
            "_model_name": "DescriptionStyleModel",
            "description_width": "",
            "_view_module": "@jupyter-widgets/base",
            "_model_module_version": "1.5.0",
            "_view_count": null,
            "_view_module_version": "1.2.0",
            "_model_module": "@jupyter-widgets/controls"
          }
        },
        "8484c40be10d4a5cb7b208a728d35658": {
          "model_module": "@jupyter-widgets/base",
          "model_name": "LayoutModel",
          "state": {
            "_view_name": "LayoutView",
            "grid_template_rows": null,
            "right": null,
            "justify_content": null,
            "_view_module": "@jupyter-widgets/base",
            "overflow": null,
            "_model_module_version": "1.2.0",
            "_view_count": null,
            "flex_flow": null,
            "width": null,
            "min_width": null,
            "border": null,
            "align_items": null,
            "bottom": null,
            "_model_module": "@jupyter-widgets/base",
            "top": null,
            "grid_column": null,
            "overflow_y": null,
            "overflow_x": null,
            "grid_auto_flow": null,
            "grid_area": null,
            "grid_template_columns": null,
            "flex": null,
            "_model_name": "LayoutModel",
            "justify_items": null,
            "grid_row": null,
            "max_height": null,
            "align_content": null,
            "visibility": null,
            "align_self": null,
            "height": null,
            "min_height": null,
            "padding": null,
            "grid_auto_rows": null,
            "grid_gap": null,
            "max_width": null,
            "order": null,
            "_view_module_version": "1.2.0",
            "grid_template_areas": null,
            "object_position": null,
            "object_fit": null,
            "grid_auto_columns": null,
            "margin": null,
            "display": null,
            "left": null
          }
        },
        "343a710a762647abad47f2cae37f8ed2": {
          "model_module": "@jupyter-widgets/controls",
          "model_name": "HBoxModel",
          "state": {
            "_view_name": "HBoxView",
            "_dom_classes": [],
            "_model_name": "HBoxModel",
            "_view_module": "@jupyter-widgets/controls",
            "_model_module_version": "1.5.0",
            "_view_count": null,
            "_view_module_version": "1.5.0",
            "box_style": "",
            "layout": "IPY_MODEL_4a4b413350d8400c84c009725f646286",
            "_model_module": "@jupyter-widgets/controls",
            "children": [
              "IPY_MODEL_44a300e557654fb3a0538f799b494f3a",
              "IPY_MODEL_d7b1f0a945304bf2988e29b35afcfbb2"
            ]
          }
        },
        "4a4b413350d8400c84c009725f646286": {
          "model_module": "@jupyter-widgets/base",
          "model_name": "LayoutModel",
          "state": {
            "_view_name": "LayoutView",
            "grid_template_rows": null,
            "right": null,
            "justify_content": null,
            "_view_module": "@jupyter-widgets/base",
            "overflow": null,
            "_model_module_version": "1.2.0",
            "_view_count": null,
            "flex_flow": null,
            "width": null,
            "min_width": null,
            "border": null,
            "align_items": null,
            "bottom": null,
            "_model_module": "@jupyter-widgets/base",
            "top": null,
            "grid_column": null,
            "overflow_y": null,
            "overflow_x": null,
            "grid_auto_flow": null,
            "grid_area": null,
            "grid_template_columns": null,
            "flex": null,
            "_model_name": "LayoutModel",
            "justify_items": null,
            "grid_row": null,
            "max_height": null,
            "align_content": null,
            "visibility": null,
            "align_self": null,
            "height": null,
            "min_height": null,
            "padding": null,
            "grid_auto_rows": null,
            "grid_gap": null,
            "max_width": null,
            "order": null,
            "_view_module_version": "1.2.0",
            "grid_template_areas": null,
            "object_position": null,
            "object_fit": null,
            "grid_auto_columns": null,
            "margin": null,
            "display": null,
            "left": null
          }
        },
        "44a300e557654fb3a0538f799b494f3a": {
          "model_module": "@jupyter-widgets/controls",
          "model_name": "FloatProgressModel",
          "state": {
            "_view_name": "ProgressView",
            "style": "IPY_MODEL_20ea1282c9134cc4afc0a8d098f44bef",
            "_dom_classes": [],
            "description": "Test cleaning: 100%",
            "_model_name": "FloatProgressModel",
            "bar_style": "success",
            "max": 1821,
            "_view_module": "@jupyter-widgets/controls",
            "_model_module_version": "1.5.0",
            "value": 1821,
            "_view_count": null,
            "_view_module_version": "1.5.0",
            "orientation": "horizontal",
            "min": 0,
            "description_tooltip": null,
            "_model_module": "@jupyter-widgets/controls",
            "layout": "IPY_MODEL_42ba329c33a94594b4d7faef6d9bd59f"
          }
        },
        "d7b1f0a945304bf2988e29b35afcfbb2": {
          "model_module": "@jupyter-widgets/controls",
          "model_name": "HTMLModel",
          "state": {
            "_view_name": "HTMLView",
            "style": "IPY_MODEL_2cc56720b64d46e0841eaa86b433faa0",
            "_dom_classes": [],
            "description": "",
            "_model_name": "HTMLModel",
            "placeholder": "​",
            "_view_module": "@jupyter-widgets/controls",
            "_model_module_version": "1.5.0",
            "value": " 1821/1821 [00:01&lt;00:00, 1468.05it/s]",
            "_view_count": null,
            "_view_module_version": "1.5.0",
            "description_tooltip": null,
            "_model_module": "@jupyter-widgets/controls",
            "layout": "IPY_MODEL_13bede513ab34bd6a664cdd78bfdfb61"
          }
        },
        "20ea1282c9134cc4afc0a8d098f44bef": {
          "model_module": "@jupyter-widgets/controls",
          "model_name": "ProgressStyleModel",
          "state": {
            "_view_name": "StyleView",
            "_model_name": "ProgressStyleModel",
            "description_width": "initial",
            "_view_module": "@jupyter-widgets/base",
            "_model_module_version": "1.5.0",
            "_view_count": null,
            "_view_module_version": "1.2.0",
            "bar_color": null,
            "_model_module": "@jupyter-widgets/controls"
          }
        },
        "42ba329c33a94594b4d7faef6d9bd59f": {
          "model_module": "@jupyter-widgets/base",
          "model_name": "LayoutModel",
          "state": {
            "_view_name": "LayoutView",
            "grid_template_rows": null,
            "right": null,
            "justify_content": null,
            "_view_module": "@jupyter-widgets/base",
            "overflow": null,
            "_model_module_version": "1.2.0",
            "_view_count": null,
            "flex_flow": null,
            "width": null,
            "min_width": null,
            "border": null,
            "align_items": null,
            "bottom": null,
            "_model_module": "@jupyter-widgets/base",
            "top": null,
            "grid_column": null,
            "overflow_y": null,
            "overflow_x": null,
            "grid_auto_flow": null,
            "grid_area": null,
            "grid_template_columns": null,
            "flex": null,
            "_model_name": "LayoutModel",
            "justify_items": null,
            "grid_row": null,
            "max_height": null,
            "align_content": null,
            "visibility": null,
            "align_self": null,
            "height": null,
            "min_height": null,
            "padding": null,
            "grid_auto_rows": null,
            "grid_gap": null,
            "max_width": null,
            "order": null,
            "_view_module_version": "1.2.0",
            "grid_template_areas": null,
            "object_position": null,
            "object_fit": null,
            "grid_auto_columns": null,
            "margin": null,
            "display": null,
            "left": null
          }
        },
        "2cc56720b64d46e0841eaa86b433faa0": {
          "model_module": "@jupyter-widgets/controls",
          "model_name": "DescriptionStyleModel",
          "state": {
            "_view_name": "StyleView",
            "_model_name": "DescriptionStyleModel",
            "description_width": "",
            "_view_module": "@jupyter-widgets/base",
            "_model_module_version": "1.5.0",
            "_view_count": null,
            "_view_module_version": "1.2.0",
            "_model_module": "@jupyter-widgets/controls"
          }
        },
        "13bede513ab34bd6a664cdd78bfdfb61": {
          "model_module": "@jupyter-widgets/base",
          "model_name": "LayoutModel",
          "state": {
            "_view_name": "LayoutView",
            "grid_template_rows": null,
            "right": null,
            "justify_content": null,
            "_view_module": "@jupyter-widgets/base",
            "overflow": null,
            "_model_module_version": "1.2.0",
            "_view_count": null,
            "flex_flow": null,
            "width": null,
            "min_width": null,
            "border": null,
            "align_items": null,
            "bottom": null,
            "_model_module": "@jupyter-widgets/base",
            "top": null,
            "grid_column": null,
            "overflow_y": null,
            "overflow_x": null,
            "grid_auto_flow": null,
            "grid_area": null,
            "grid_template_columns": null,
            "flex": null,
            "_model_name": "LayoutModel",
            "justify_items": null,
            "grid_row": null,
            "max_height": null,
            "align_content": null,
            "visibility": null,
            "align_self": null,
            "height": null,
            "min_height": null,
            "padding": null,
            "grid_auto_rows": null,
            "grid_gap": null,
            "max_width": null,
            "order": null,
            "_view_module_version": "1.2.0",
            "grid_template_areas": null,
            "object_position": null,
            "object_fit": null,
            "grid_auto_columns": null,
            "margin": null,
            "display": null,
            "left": null
          }
        },
        "00bec7ab396d47a1ade861617f690058": {
          "model_module": "@jupyter-widgets/controls",
          "model_name": "HBoxModel",
          "state": {
            "_view_name": "HBoxView",
            "_dom_classes": [],
            "_model_name": "HBoxModel",
            "_view_module": "@jupyter-widgets/controls",
            "_model_module_version": "1.5.0",
            "_view_count": null,
            "_view_module_version": "1.5.0",
            "box_style": "",
            "layout": "IPY_MODEL_bda244fbae69439fb69501e0f7562790",
            "_model_module": "@jupyter-widgets/controls",
            "children": [
              "IPY_MODEL_1a69081d4e654b12b5d857d6a9332d3f",
              "IPY_MODEL_84644db2bfe44acdb408e798fcf432e6"
            ]
          }
        },
        "bda244fbae69439fb69501e0f7562790": {
          "model_module": "@jupyter-widgets/base",
          "model_name": "LayoutModel",
          "state": {
            "_view_name": "LayoutView",
            "grid_template_rows": null,
            "right": null,
            "justify_content": null,
            "_view_module": "@jupyter-widgets/base",
            "overflow": null,
            "_model_module_version": "1.2.0",
            "_view_count": null,
            "flex_flow": null,
            "width": null,
            "min_width": null,
            "border": null,
            "align_items": null,
            "bottom": null,
            "_model_module": "@jupyter-widgets/base",
            "top": null,
            "grid_column": null,
            "overflow_y": null,
            "overflow_x": null,
            "grid_auto_flow": null,
            "grid_area": null,
            "grid_template_columns": null,
            "flex": null,
            "_model_name": "LayoutModel",
            "justify_items": null,
            "grid_row": null,
            "max_height": null,
            "align_content": null,
            "visibility": null,
            "align_self": null,
            "height": null,
            "min_height": null,
            "padding": null,
            "grid_auto_rows": null,
            "grid_gap": null,
            "max_width": null,
            "order": null,
            "_view_module_version": "1.2.0",
            "grid_template_areas": null,
            "object_position": null,
            "object_fit": null,
            "grid_auto_columns": null,
            "margin": null,
            "display": null,
            "left": null
          }
        },
        "1a69081d4e654b12b5d857d6a9332d3f": {
          "model_module": "@jupyter-widgets/controls",
          "model_name": "FloatProgressModel",
          "state": {
            "_view_name": "ProgressView",
            "style": "IPY_MODEL_e91a9fc67dc245d38e06e81d62511adc",
            "_dom_classes": [],
            "description": "Tokenize train: 100%",
            "_model_name": "FloatProgressModel",
            "bar_style": "success",
            "max": 67349,
            "_view_module": "@jupyter-widgets/controls",
            "_model_module_version": "1.5.0",
            "value": 67349,
            "_view_count": null,
            "_view_module_version": "1.5.0",
            "orientation": "horizontal",
            "min": 0,
            "description_tooltip": null,
            "_model_module": "@jupyter-widgets/controls",
            "layout": "IPY_MODEL_668b3d04a7934279b43b2c91d214f456"
          }
        },
        "84644db2bfe44acdb408e798fcf432e6": {
          "model_module": "@jupyter-widgets/controls",
          "model_name": "HTMLModel",
          "state": {
            "_view_name": "HTMLView",
            "style": "IPY_MODEL_130e260c4f784ad28219f3f2740fb416",
            "_dom_classes": [],
            "description": "",
            "_model_name": "HTMLModel",
            "placeholder": "​",
            "_view_module": "@jupyter-widgets/controls",
            "_model_module_version": "1.5.0",
            "value": " 67349/67349 [04:06&lt;00:00, 272.90it/s]",
            "_view_count": null,
            "_view_module_version": "1.5.0",
            "description_tooltip": null,
            "_model_module": "@jupyter-widgets/controls",
            "layout": "IPY_MODEL_efa80bd91c1a48fca49964baa296a9b8"
          }
        },
        "e91a9fc67dc245d38e06e81d62511adc": {
          "model_module": "@jupyter-widgets/controls",
          "model_name": "ProgressStyleModel",
          "state": {
            "_view_name": "StyleView",
            "_model_name": "ProgressStyleModel",
            "description_width": "initial",
            "_view_module": "@jupyter-widgets/base",
            "_model_module_version": "1.5.0",
            "_view_count": null,
            "_view_module_version": "1.2.0",
            "bar_color": null,
            "_model_module": "@jupyter-widgets/controls"
          }
        },
        "668b3d04a7934279b43b2c91d214f456": {
          "model_module": "@jupyter-widgets/base",
          "model_name": "LayoutModel",
          "state": {
            "_view_name": "LayoutView",
            "grid_template_rows": null,
            "right": null,
            "justify_content": null,
            "_view_module": "@jupyter-widgets/base",
            "overflow": null,
            "_model_module_version": "1.2.0",
            "_view_count": null,
            "flex_flow": null,
            "width": null,
            "min_width": null,
            "border": null,
            "align_items": null,
            "bottom": null,
            "_model_module": "@jupyter-widgets/base",
            "top": null,
            "grid_column": null,
            "overflow_y": null,
            "overflow_x": null,
            "grid_auto_flow": null,
            "grid_area": null,
            "grid_template_columns": null,
            "flex": null,
            "_model_name": "LayoutModel",
            "justify_items": null,
            "grid_row": null,
            "max_height": null,
            "align_content": null,
            "visibility": null,
            "align_self": null,
            "height": null,
            "min_height": null,
            "padding": null,
            "grid_auto_rows": null,
            "grid_gap": null,
            "max_width": null,
            "order": null,
            "_view_module_version": "1.2.0",
            "grid_template_areas": null,
            "object_position": null,
            "object_fit": null,
            "grid_auto_columns": null,
            "margin": null,
            "display": null,
            "left": null
          }
        },
        "130e260c4f784ad28219f3f2740fb416": {
          "model_module": "@jupyter-widgets/controls",
          "model_name": "DescriptionStyleModel",
          "state": {
            "_view_name": "StyleView",
            "_model_name": "DescriptionStyleModel",
            "description_width": "",
            "_view_module": "@jupyter-widgets/base",
            "_model_module_version": "1.5.0",
            "_view_count": null,
            "_view_module_version": "1.2.0",
            "_model_module": "@jupyter-widgets/controls"
          }
        },
        "efa80bd91c1a48fca49964baa296a9b8": {
          "model_module": "@jupyter-widgets/base",
          "model_name": "LayoutModel",
          "state": {
            "_view_name": "LayoutView",
            "grid_template_rows": null,
            "right": null,
            "justify_content": null,
            "_view_module": "@jupyter-widgets/base",
            "overflow": null,
            "_model_module_version": "1.2.0",
            "_view_count": null,
            "flex_flow": null,
            "width": null,
            "min_width": null,
            "border": null,
            "align_items": null,
            "bottom": null,
            "_model_module": "@jupyter-widgets/base",
            "top": null,
            "grid_column": null,
            "overflow_y": null,
            "overflow_x": null,
            "grid_auto_flow": null,
            "grid_area": null,
            "grid_template_columns": null,
            "flex": null,
            "_model_name": "LayoutModel",
            "justify_items": null,
            "grid_row": null,
            "max_height": null,
            "align_content": null,
            "visibility": null,
            "align_self": null,
            "height": null,
            "min_height": null,
            "padding": null,
            "grid_auto_rows": null,
            "grid_gap": null,
            "max_width": null,
            "order": null,
            "_view_module_version": "1.2.0",
            "grid_template_areas": null,
            "object_position": null,
            "object_fit": null,
            "grid_auto_columns": null,
            "margin": null,
            "display": null,
            "left": null
          }
        },
        "3813984d9ad24ba4a64a3a9e8a749001": {
          "model_module": "@jupyter-widgets/controls",
          "model_name": "HBoxModel",
          "state": {
            "_view_name": "HBoxView",
            "_dom_classes": [],
            "_model_name": "HBoxModel",
            "_view_module": "@jupyter-widgets/controls",
            "_model_module_version": "1.5.0",
            "_view_count": null,
            "_view_module_version": "1.5.0",
            "box_style": "",
            "layout": "IPY_MODEL_6f4510d14b234682b4f866677188fcd8",
            "_model_module": "@jupyter-widgets/controls",
            "children": [
              "IPY_MODEL_4a793045881b430489a4c8068fbef73a",
              "IPY_MODEL_458d412df3ac4e4eba35cfe8a38332ca"
            ]
          }
        },
        "6f4510d14b234682b4f866677188fcd8": {
          "model_module": "@jupyter-widgets/base",
          "model_name": "LayoutModel",
          "state": {
            "_view_name": "LayoutView",
            "grid_template_rows": null,
            "right": null,
            "justify_content": null,
            "_view_module": "@jupyter-widgets/base",
            "overflow": null,
            "_model_module_version": "1.2.0",
            "_view_count": null,
            "flex_flow": null,
            "width": null,
            "min_width": null,
            "border": null,
            "align_items": null,
            "bottom": null,
            "_model_module": "@jupyter-widgets/base",
            "top": null,
            "grid_column": null,
            "overflow_y": null,
            "overflow_x": null,
            "grid_auto_flow": null,
            "grid_area": null,
            "grid_template_columns": null,
            "flex": null,
            "_model_name": "LayoutModel",
            "justify_items": null,
            "grid_row": null,
            "max_height": null,
            "align_content": null,
            "visibility": null,
            "align_self": null,
            "height": null,
            "min_height": null,
            "padding": null,
            "grid_auto_rows": null,
            "grid_gap": null,
            "max_width": null,
            "order": null,
            "_view_module_version": "1.2.0",
            "grid_template_areas": null,
            "object_position": null,
            "object_fit": null,
            "grid_auto_columns": null,
            "margin": null,
            "display": null,
            "left": null
          }
        },
        "4a793045881b430489a4c8068fbef73a": {
          "model_module": "@jupyter-widgets/controls",
          "model_name": "FloatProgressModel",
          "state": {
            "_view_name": "ProgressView",
            "style": "IPY_MODEL_b57242d328ba45849d44d08d043cc7fb",
            "_dom_classes": [],
            "description": "Tokenize dev: 100%",
            "_model_name": "FloatProgressModel",
            "bar_style": "success",
            "max": 872,
            "_view_module": "@jupyter-widgets/controls",
            "_model_module_version": "1.5.0",
            "value": 872,
            "_view_count": null,
            "_view_module_version": "1.5.0",
            "orientation": "horizontal",
            "min": 0,
            "description_tooltip": null,
            "_model_module": "@jupyter-widgets/controls",
            "layout": "IPY_MODEL_62247ebfadcf4c01876ad176d62ab77d"
          }
        },
        "458d412df3ac4e4eba35cfe8a38332ca": {
          "model_module": "@jupyter-widgets/controls",
          "model_name": "HTMLModel",
          "state": {
            "_view_name": "HTMLView",
            "style": "IPY_MODEL_5731c712b50f4c2aa395681f4cf43782",
            "_dom_classes": [],
            "description": "",
            "_model_name": "HTMLModel",
            "placeholder": "​",
            "_view_module": "@jupyter-widgets/controls",
            "_model_module_version": "1.5.0",
            "value": " 872/872 [00:01&lt;00:00, 537.99it/s]",
            "_view_count": null,
            "_view_module_version": "1.5.0",
            "description_tooltip": null,
            "_model_module": "@jupyter-widgets/controls",
            "layout": "IPY_MODEL_fb8fab79e01045ad972bde0da1af054b"
          }
        },
        "b57242d328ba45849d44d08d043cc7fb": {
          "model_module": "@jupyter-widgets/controls",
          "model_name": "ProgressStyleModel",
          "state": {
            "_view_name": "StyleView",
            "_model_name": "ProgressStyleModel",
            "description_width": "initial",
            "_view_module": "@jupyter-widgets/base",
            "_model_module_version": "1.5.0",
            "_view_count": null,
            "_view_module_version": "1.2.0",
            "bar_color": null,
            "_model_module": "@jupyter-widgets/controls"
          }
        },
        "62247ebfadcf4c01876ad176d62ab77d": {
          "model_module": "@jupyter-widgets/base",
          "model_name": "LayoutModel",
          "state": {
            "_view_name": "LayoutView",
            "grid_template_rows": null,
            "right": null,
            "justify_content": null,
            "_view_module": "@jupyter-widgets/base",
            "overflow": null,
            "_model_module_version": "1.2.0",
            "_view_count": null,
            "flex_flow": null,
            "width": null,
            "min_width": null,
            "border": null,
            "align_items": null,
            "bottom": null,
            "_model_module": "@jupyter-widgets/base",
            "top": null,
            "grid_column": null,
            "overflow_y": null,
            "overflow_x": null,
            "grid_auto_flow": null,
            "grid_area": null,
            "grid_template_columns": null,
            "flex": null,
            "_model_name": "LayoutModel",
            "justify_items": null,
            "grid_row": null,
            "max_height": null,
            "align_content": null,
            "visibility": null,
            "align_self": null,
            "height": null,
            "min_height": null,
            "padding": null,
            "grid_auto_rows": null,
            "grid_gap": null,
            "max_width": null,
            "order": null,
            "_view_module_version": "1.2.0",
            "grid_template_areas": null,
            "object_position": null,
            "object_fit": null,
            "grid_auto_columns": null,
            "margin": null,
            "display": null,
            "left": null
          }
        },
        "5731c712b50f4c2aa395681f4cf43782": {
          "model_module": "@jupyter-widgets/controls",
          "model_name": "DescriptionStyleModel",
          "state": {
            "_view_name": "StyleView",
            "_model_name": "DescriptionStyleModel",
            "description_width": "",
            "_view_module": "@jupyter-widgets/base",
            "_model_module_version": "1.5.0",
            "_view_count": null,
            "_view_module_version": "1.2.0",
            "_model_module": "@jupyter-widgets/controls"
          }
        },
        "fb8fab79e01045ad972bde0da1af054b": {
          "model_module": "@jupyter-widgets/base",
          "model_name": "LayoutModel",
          "state": {
            "_view_name": "LayoutView",
            "grid_template_rows": null,
            "right": null,
            "justify_content": null,
            "_view_module": "@jupyter-widgets/base",
            "overflow": null,
            "_model_module_version": "1.2.0",
            "_view_count": null,
            "flex_flow": null,
            "width": null,
            "min_width": null,
            "border": null,
            "align_items": null,
            "bottom": null,
            "_model_module": "@jupyter-widgets/base",
            "top": null,
            "grid_column": null,
            "overflow_y": null,
            "overflow_x": null,
            "grid_auto_flow": null,
            "grid_area": null,
            "grid_template_columns": null,
            "flex": null,
            "_model_name": "LayoutModel",
            "justify_items": null,
            "grid_row": null,
            "max_height": null,
            "align_content": null,
            "visibility": null,
            "align_self": null,
            "height": null,
            "min_height": null,
            "padding": null,
            "grid_auto_rows": null,
            "grid_gap": null,
            "max_width": null,
            "order": null,
            "_view_module_version": "1.2.0",
            "grid_template_areas": null,
            "object_position": null,
            "object_fit": null,
            "grid_auto_columns": null,
            "margin": null,
            "display": null,
            "left": null
          }
        },
        "fb77f9132b7f4893a4642ee0d357ba62": {
          "model_module": "@jupyter-widgets/controls",
          "model_name": "HBoxModel",
          "state": {
            "_view_name": "HBoxView",
            "_dom_classes": [],
            "_model_name": "HBoxModel",
            "_view_module": "@jupyter-widgets/controls",
            "_model_module_version": "1.5.0",
            "_view_count": null,
            "_view_module_version": "1.5.0",
            "box_style": "",
            "layout": "IPY_MODEL_c0bc4878c8604a339d253d28021a5c2c",
            "_model_module": "@jupyter-widgets/controls",
            "children": [
              "IPY_MODEL_72b09238732f44a5813adb782fcd5a07",
              "IPY_MODEL_09d9f9e8a5344801bdf5ac9630ecb7c8"
            ]
          }
        },
        "c0bc4878c8604a339d253d28021a5c2c": {
          "model_module": "@jupyter-widgets/base",
          "model_name": "LayoutModel",
          "state": {
            "_view_name": "LayoutView",
            "grid_template_rows": null,
            "right": null,
            "justify_content": null,
            "_view_module": "@jupyter-widgets/base",
            "overflow": null,
            "_model_module_version": "1.2.0",
            "_view_count": null,
            "flex_flow": null,
            "width": null,
            "min_width": null,
            "border": null,
            "align_items": null,
            "bottom": null,
            "_model_module": "@jupyter-widgets/base",
            "top": null,
            "grid_column": null,
            "overflow_y": null,
            "overflow_x": null,
            "grid_auto_flow": null,
            "grid_area": null,
            "grid_template_columns": null,
            "flex": null,
            "_model_name": "LayoutModel",
            "justify_items": null,
            "grid_row": null,
            "max_height": null,
            "align_content": null,
            "visibility": null,
            "align_self": null,
            "height": null,
            "min_height": null,
            "padding": null,
            "grid_auto_rows": null,
            "grid_gap": null,
            "max_width": null,
            "order": null,
            "_view_module_version": "1.2.0",
            "grid_template_areas": null,
            "object_position": null,
            "object_fit": null,
            "grid_auto_columns": null,
            "margin": null,
            "display": null,
            "left": null
          }
        },
        "72b09238732f44a5813adb782fcd5a07": {
          "model_module": "@jupyter-widgets/controls",
          "model_name": "FloatProgressModel",
          "state": {
            "_view_name": "ProgressView",
            "style": "IPY_MODEL_fb0c1fbad33b4f5ba001bc53e3ff643c",
            "_dom_classes": [],
            "description": "Tokenize test: 100%",
            "_model_name": "FloatProgressModel",
            "bar_style": "success",
            "max": 1821,
            "_view_module": "@jupyter-widgets/controls",
            "_model_module_version": "1.5.0",
            "value": 1821,
            "_view_count": null,
            "_view_module_version": "1.5.0",
            "orientation": "horizontal",
            "min": 0,
            "description_tooltip": null,
            "_model_module": "@jupyter-widgets/controls",
            "layout": "IPY_MODEL_cc5ea8ed9f39416c8492bbc83f4332d6"
          }
        },
        "09d9f9e8a5344801bdf5ac9630ecb7c8": {
          "model_module": "@jupyter-widgets/controls",
          "model_name": "HTMLModel",
          "state": {
            "_view_name": "HTMLView",
            "style": "IPY_MODEL_f33721ac1c214e058f35293960bc3917",
            "_dom_classes": [],
            "description": "",
            "_model_name": "HTMLModel",
            "placeholder": "​",
            "_view_module": "@jupyter-widgets/controls",
            "_model_module_version": "1.5.0",
            "value": " 1821/1821 [00:01&lt;00:00, 1262.78it/s]",
            "_view_count": null,
            "_view_module_version": "1.5.0",
            "description_tooltip": null,
            "_model_module": "@jupyter-widgets/controls",
            "layout": "IPY_MODEL_cc7824c56df54675a701daf3b70203c2"
          }
        },
        "fb0c1fbad33b4f5ba001bc53e3ff643c": {
          "model_module": "@jupyter-widgets/controls",
          "model_name": "ProgressStyleModel",
          "state": {
            "_view_name": "StyleView",
            "_model_name": "ProgressStyleModel",
            "description_width": "initial",
            "_view_module": "@jupyter-widgets/base",
            "_model_module_version": "1.5.0",
            "_view_count": null,
            "_view_module_version": "1.2.0",
            "bar_color": null,
            "_model_module": "@jupyter-widgets/controls"
          }
        },
        "cc5ea8ed9f39416c8492bbc83f4332d6": {
          "model_module": "@jupyter-widgets/base",
          "model_name": "LayoutModel",
          "state": {
            "_view_name": "LayoutView",
            "grid_template_rows": null,
            "right": null,
            "justify_content": null,
            "_view_module": "@jupyter-widgets/base",
            "overflow": null,
            "_model_module_version": "1.2.0",
            "_view_count": null,
            "flex_flow": null,
            "width": null,
            "min_width": null,
            "border": null,
            "align_items": null,
            "bottom": null,
            "_model_module": "@jupyter-widgets/base",
            "top": null,
            "grid_column": null,
            "overflow_y": null,
            "overflow_x": null,
            "grid_auto_flow": null,
            "grid_area": null,
            "grid_template_columns": null,
            "flex": null,
            "_model_name": "LayoutModel",
            "justify_items": null,
            "grid_row": null,
            "max_height": null,
            "align_content": null,
            "visibility": null,
            "align_self": null,
            "height": null,
            "min_height": null,
            "padding": null,
            "grid_auto_rows": null,
            "grid_gap": null,
            "max_width": null,
            "order": null,
            "_view_module_version": "1.2.0",
            "grid_template_areas": null,
            "object_position": null,
            "object_fit": null,
            "grid_auto_columns": null,
            "margin": null,
            "display": null,
            "left": null
          }
        },
        "f33721ac1c214e058f35293960bc3917": {
          "model_module": "@jupyter-widgets/controls",
          "model_name": "DescriptionStyleModel",
          "state": {
            "_view_name": "StyleView",
            "_model_name": "DescriptionStyleModel",
            "description_width": "",
            "_view_module": "@jupyter-widgets/base",
            "_model_module_version": "1.5.0",
            "_view_count": null,
            "_view_module_version": "1.2.0",
            "_model_module": "@jupyter-widgets/controls"
          }
        },
        "cc7824c56df54675a701daf3b70203c2": {
          "model_module": "@jupyter-widgets/base",
          "model_name": "LayoutModel",
          "state": {
            "_view_name": "LayoutView",
            "grid_template_rows": null,
            "right": null,
            "justify_content": null,
            "_view_module": "@jupyter-widgets/base",
            "overflow": null,
            "_model_module_version": "1.2.0",
            "_view_count": null,
            "flex_flow": null,
            "width": null,
            "min_width": null,
            "border": null,
            "align_items": null,
            "bottom": null,
            "_model_module": "@jupyter-widgets/base",
            "top": null,
            "grid_column": null,
            "overflow_y": null,
            "overflow_x": null,
            "grid_auto_flow": null,
            "grid_area": null,
            "grid_template_columns": null,
            "flex": null,
            "_model_name": "LayoutModel",
            "justify_items": null,
            "grid_row": null,
            "max_height": null,
            "align_content": null,
            "visibility": null,
            "align_self": null,
            "height": null,
            "min_height": null,
            "padding": null,
            "grid_auto_rows": null,
            "grid_gap": null,
            "max_width": null,
            "order": null,
            "_view_module_version": "1.2.0",
            "grid_template_areas": null,
            "object_position": null,
            "object_fit": null,
            "grid_auto_columns": null,
            "margin": null,
            "display": null,
            "left": null
          }
        },
        "c9eff15f1d6f42df855c4b685ac246f5": {
          "model_module": "@jupyter-widgets/controls",
          "model_name": "HBoxModel",
          "state": {
            "_view_name": "HBoxView",
            "_dom_classes": [],
            "_model_name": "HBoxModel",
            "_view_module": "@jupyter-widgets/controls",
            "_model_module_version": "1.5.0",
            "_view_count": null,
            "_view_module_version": "1.5.0",
            "box_style": "",
            "layout": "IPY_MODEL_42d9361196b244ad9836b70906d65f39",
            "_model_module": "@jupyter-widgets/controls",
            "children": [
              "IPY_MODEL_1ac049fd9803499d87fa028c54bfcc9f",
              "IPY_MODEL_d18996a470de4887a154e54a7d1c13bb"
            ]
          }
        },
        "42d9361196b244ad9836b70906d65f39": {
          "model_module": "@jupyter-widgets/base",
          "model_name": "LayoutModel",
          "state": {
            "_view_name": "LayoutView",
            "grid_template_rows": null,
            "right": null,
            "justify_content": null,
            "_view_module": "@jupyter-widgets/base",
            "overflow": null,
            "_model_module_version": "1.2.0",
            "_view_count": null,
            "flex_flow": null,
            "width": null,
            "min_width": null,
            "border": null,
            "align_items": null,
            "bottom": null,
            "_model_module": "@jupyter-widgets/base",
            "top": null,
            "grid_column": null,
            "overflow_y": null,
            "overflow_x": null,
            "grid_auto_flow": null,
            "grid_area": null,
            "grid_template_columns": null,
            "flex": null,
            "_model_name": "LayoutModel",
            "justify_items": null,
            "grid_row": null,
            "max_height": null,
            "align_content": null,
            "visibility": null,
            "align_self": null,
            "height": null,
            "min_height": null,
            "padding": null,
            "grid_auto_rows": null,
            "grid_gap": null,
            "max_width": null,
            "order": null,
            "_view_module_version": "1.2.0",
            "grid_template_areas": null,
            "object_position": null,
            "object_fit": null,
            "grid_auto_columns": null,
            "margin": null,
            "display": null,
            "left": null
          }
        },
        "1ac049fd9803499d87fa028c54bfcc9f": {
          "model_module": "@jupyter-widgets/controls",
          "model_name": "FloatProgressModel",
          "state": {
            "_view_name": "ProgressView",
            "style": "IPY_MODEL_aa1d102759cc4118ba0fb3259eb4b77a",
            "_dom_classes": [],
            "description": "Train vecs: 100%",
            "_model_name": "FloatProgressModel",
            "bar_style": "success",
            "max": 67349,
            "_view_module": "@jupyter-widgets/controls",
            "_model_module_version": "1.5.0",
            "value": 67349,
            "_view_count": null,
            "_view_module_version": "1.5.0",
            "orientation": "horizontal",
            "min": 0,
            "description_tooltip": null,
            "_model_module": "@jupyter-widgets/controls",
            "layout": "IPY_MODEL_c6b1159daba84541a5175beea5ed0d6f"
          }
        },
        "d18996a470de4887a154e54a7d1c13bb": {
          "model_module": "@jupyter-widgets/controls",
          "model_name": "HTMLModel",
          "state": {
            "_view_name": "HTMLView",
            "style": "IPY_MODEL_b3b115859755486996ef7cf30a373197",
            "_dom_classes": [],
            "description": "",
            "_model_name": "HTMLModel",
            "placeholder": "​",
            "_view_module": "@jupyter-widgets/controls",
            "_model_module_version": "1.5.0",
            "value": " 67349/67349 [00:04&lt;00:00, 15164.54it/s]",
            "_view_count": null,
            "_view_module_version": "1.5.0",
            "description_tooltip": null,
            "_model_module": "@jupyter-widgets/controls",
            "layout": "IPY_MODEL_a5e1e6bd00fb4fe796fcb402b09c135f"
          }
        },
        "aa1d102759cc4118ba0fb3259eb4b77a": {
          "model_module": "@jupyter-widgets/controls",
          "model_name": "ProgressStyleModel",
          "state": {
            "_view_name": "StyleView",
            "_model_name": "ProgressStyleModel",
            "description_width": "initial",
            "_view_module": "@jupyter-widgets/base",
            "_model_module_version": "1.5.0",
            "_view_count": null,
            "_view_module_version": "1.2.0",
            "bar_color": null,
            "_model_module": "@jupyter-widgets/controls"
          }
        },
        "c6b1159daba84541a5175beea5ed0d6f": {
          "model_module": "@jupyter-widgets/base",
          "model_name": "LayoutModel",
          "state": {
            "_view_name": "LayoutView",
            "grid_template_rows": null,
            "right": null,
            "justify_content": null,
            "_view_module": "@jupyter-widgets/base",
            "overflow": null,
            "_model_module_version": "1.2.0",
            "_view_count": null,
            "flex_flow": null,
            "width": null,
            "min_width": null,
            "border": null,
            "align_items": null,
            "bottom": null,
            "_model_module": "@jupyter-widgets/base",
            "top": null,
            "grid_column": null,
            "overflow_y": null,
            "overflow_x": null,
            "grid_auto_flow": null,
            "grid_area": null,
            "grid_template_columns": null,
            "flex": null,
            "_model_name": "LayoutModel",
            "justify_items": null,
            "grid_row": null,
            "max_height": null,
            "align_content": null,
            "visibility": null,
            "align_self": null,
            "height": null,
            "min_height": null,
            "padding": null,
            "grid_auto_rows": null,
            "grid_gap": null,
            "max_width": null,
            "order": null,
            "_view_module_version": "1.2.0",
            "grid_template_areas": null,
            "object_position": null,
            "object_fit": null,
            "grid_auto_columns": null,
            "margin": null,
            "display": null,
            "left": null
          }
        },
        "b3b115859755486996ef7cf30a373197": {
          "model_module": "@jupyter-widgets/controls",
          "model_name": "DescriptionStyleModel",
          "state": {
            "_view_name": "StyleView",
            "_model_name": "DescriptionStyleModel",
            "description_width": "",
            "_view_module": "@jupyter-widgets/base",
            "_model_module_version": "1.5.0",
            "_view_count": null,
            "_view_module_version": "1.2.0",
            "_model_module": "@jupyter-widgets/controls"
          }
        },
        "a5e1e6bd00fb4fe796fcb402b09c135f": {
          "model_module": "@jupyter-widgets/base",
          "model_name": "LayoutModel",
          "state": {
            "_view_name": "LayoutView",
            "grid_template_rows": null,
            "right": null,
            "justify_content": null,
            "_view_module": "@jupyter-widgets/base",
            "overflow": null,
            "_model_module_version": "1.2.0",
            "_view_count": null,
            "flex_flow": null,
            "width": null,
            "min_width": null,
            "border": null,
            "align_items": null,
            "bottom": null,
            "_model_module": "@jupyter-widgets/base",
            "top": null,
            "grid_column": null,
            "overflow_y": null,
            "overflow_x": null,
            "grid_auto_flow": null,
            "grid_area": null,
            "grid_template_columns": null,
            "flex": null,
            "_model_name": "LayoutModel",
            "justify_items": null,
            "grid_row": null,
            "max_height": null,
            "align_content": null,
            "visibility": null,
            "align_self": null,
            "height": null,
            "min_height": null,
            "padding": null,
            "grid_auto_rows": null,
            "grid_gap": null,
            "max_width": null,
            "order": null,
            "_view_module_version": "1.2.0",
            "grid_template_areas": null,
            "object_position": null,
            "object_fit": null,
            "grid_auto_columns": null,
            "margin": null,
            "display": null,
            "left": null
          }
        },
        "d11c384425c344dab8db3be271a4a9ce": {
          "model_module": "@jupyter-widgets/controls",
          "model_name": "HBoxModel",
          "state": {
            "_view_name": "HBoxView",
            "_dom_classes": [],
            "_model_name": "HBoxModel",
            "_view_module": "@jupyter-widgets/controls",
            "_model_module_version": "1.5.0",
            "_view_count": null,
            "_view_module_version": "1.5.0",
            "box_style": "",
            "layout": "IPY_MODEL_526918b0c21d4ba49087a777764ee709",
            "_model_module": "@jupyter-widgets/controls",
            "children": [
              "IPY_MODEL_2627cfa86cfa46939429df996ba0460f",
              "IPY_MODEL_0726c5935c124488b66cf76b404f6b6b"
            ]
          }
        },
        "526918b0c21d4ba49087a777764ee709": {
          "model_module": "@jupyter-widgets/base",
          "model_name": "LayoutModel",
          "state": {
            "_view_name": "LayoutView",
            "grid_template_rows": null,
            "right": null,
            "justify_content": null,
            "_view_module": "@jupyter-widgets/base",
            "overflow": null,
            "_model_module_version": "1.2.0",
            "_view_count": null,
            "flex_flow": null,
            "width": null,
            "min_width": null,
            "border": null,
            "align_items": null,
            "bottom": null,
            "_model_module": "@jupyter-widgets/base",
            "top": null,
            "grid_column": null,
            "overflow_y": null,
            "overflow_x": null,
            "grid_auto_flow": null,
            "grid_area": null,
            "grid_template_columns": null,
            "flex": null,
            "_model_name": "LayoutModel",
            "justify_items": null,
            "grid_row": null,
            "max_height": null,
            "align_content": null,
            "visibility": null,
            "align_self": null,
            "height": null,
            "min_height": null,
            "padding": null,
            "grid_auto_rows": null,
            "grid_gap": null,
            "max_width": null,
            "order": null,
            "_view_module_version": "1.2.0",
            "grid_template_areas": null,
            "object_position": null,
            "object_fit": null,
            "grid_auto_columns": null,
            "margin": null,
            "display": null,
            "left": null
          }
        },
        "2627cfa86cfa46939429df996ba0460f": {
          "model_module": "@jupyter-widgets/controls",
          "model_name": "FloatProgressModel",
          "state": {
            "_view_name": "ProgressView",
            "style": "IPY_MODEL_9cb5be8d793a40f5a89ccc47785fe225",
            "_dom_classes": [],
            "description": "Dev vecs: 100%",
            "_model_name": "FloatProgressModel",
            "bar_style": "success",
            "max": 872,
            "_view_module": "@jupyter-widgets/controls",
            "_model_module_version": "1.5.0",
            "value": 872,
            "_view_count": null,
            "_view_module_version": "1.5.0",
            "orientation": "horizontal",
            "min": 0,
            "description_tooltip": null,
            "_model_module": "@jupyter-widgets/controls",
            "layout": "IPY_MODEL_84a3b44cace942939eb223ac87f1d60c"
          }
        },
        "0726c5935c124488b66cf76b404f6b6b": {
          "model_module": "@jupyter-widgets/controls",
          "model_name": "HTMLModel",
          "state": {
            "_view_name": "HTMLView",
            "style": "IPY_MODEL_11034a77237b46f784b5b4938977d472",
            "_dom_classes": [],
            "description": "",
            "_model_name": "HTMLModel",
            "placeholder": "​",
            "_view_module": "@jupyter-widgets/controls",
            "_model_module_version": "1.5.0",
            "value": " 872/872 [00:00&lt;00:00, 1685.18it/s]",
            "_view_count": null,
            "_view_module_version": "1.5.0",
            "description_tooltip": null,
            "_model_module": "@jupyter-widgets/controls",
            "layout": "IPY_MODEL_fc6e6110518e4b799e3d9647cfa7ae08"
          }
        },
        "9cb5be8d793a40f5a89ccc47785fe225": {
          "model_module": "@jupyter-widgets/controls",
          "model_name": "ProgressStyleModel",
          "state": {
            "_view_name": "StyleView",
            "_model_name": "ProgressStyleModel",
            "description_width": "initial",
            "_view_module": "@jupyter-widgets/base",
            "_model_module_version": "1.5.0",
            "_view_count": null,
            "_view_module_version": "1.2.0",
            "bar_color": null,
            "_model_module": "@jupyter-widgets/controls"
          }
        },
        "84a3b44cace942939eb223ac87f1d60c": {
          "model_module": "@jupyter-widgets/base",
          "model_name": "LayoutModel",
          "state": {
            "_view_name": "LayoutView",
            "grid_template_rows": null,
            "right": null,
            "justify_content": null,
            "_view_module": "@jupyter-widgets/base",
            "overflow": null,
            "_model_module_version": "1.2.0",
            "_view_count": null,
            "flex_flow": null,
            "width": null,
            "min_width": null,
            "border": null,
            "align_items": null,
            "bottom": null,
            "_model_module": "@jupyter-widgets/base",
            "top": null,
            "grid_column": null,
            "overflow_y": null,
            "overflow_x": null,
            "grid_auto_flow": null,
            "grid_area": null,
            "grid_template_columns": null,
            "flex": null,
            "_model_name": "LayoutModel",
            "justify_items": null,
            "grid_row": null,
            "max_height": null,
            "align_content": null,
            "visibility": null,
            "align_self": null,
            "height": null,
            "min_height": null,
            "padding": null,
            "grid_auto_rows": null,
            "grid_gap": null,
            "max_width": null,
            "order": null,
            "_view_module_version": "1.2.0",
            "grid_template_areas": null,
            "object_position": null,
            "object_fit": null,
            "grid_auto_columns": null,
            "margin": null,
            "display": null,
            "left": null
          }
        },
        "11034a77237b46f784b5b4938977d472": {
          "model_module": "@jupyter-widgets/controls",
          "model_name": "DescriptionStyleModel",
          "state": {
            "_view_name": "StyleView",
            "_model_name": "DescriptionStyleModel",
            "description_width": "",
            "_view_module": "@jupyter-widgets/base",
            "_model_module_version": "1.5.0",
            "_view_count": null,
            "_view_module_version": "1.2.0",
            "_model_module": "@jupyter-widgets/controls"
          }
        },
        "fc6e6110518e4b799e3d9647cfa7ae08": {
          "model_module": "@jupyter-widgets/base",
          "model_name": "LayoutModel",
          "state": {
            "_view_name": "LayoutView",
            "grid_template_rows": null,
            "right": null,
            "justify_content": null,
            "_view_module": "@jupyter-widgets/base",
            "overflow": null,
            "_model_module_version": "1.2.0",
            "_view_count": null,
            "flex_flow": null,
            "width": null,
            "min_width": null,
            "border": null,
            "align_items": null,
            "bottom": null,
            "_model_module": "@jupyter-widgets/base",
            "top": null,
            "grid_column": null,
            "overflow_y": null,
            "overflow_x": null,
            "grid_auto_flow": null,
            "grid_area": null,
            "grid_template_columns": null,
            "flex": null,
            "_model_name": "LayoutModel",
            "justify_items": null,
            "grid_row": null,
            "max_height": null,
            "align_content": null,
            "visibility": null,
            "align_self": null,
            "height": null,
            "min_height": null,
            "padding": null,
            "grid_auto_rows": null,
            "grid_gap": null,
            "max_width": null,
            "order": null,
            "_view_module_version": "1.2.0",
            "grid_template_areas": null,
            "object_position": null,
            "object_fit": null,
            "grid_auto_columns": null,
            "margin": null,
            "display": null,
            "left": null
          }
        },
        "3ca7e882f03a4b37b6b2df85b693acf2": {
          "model_module": "@jupyter-widgets/controls",
          "model_name": "HBoxModel",
          "state": {
            "_view_name": "HBoxView",
            "_dom_classes": [],
            "_model_name": "HBoxModel",
            "_view_module": "@jupyter-widgets/controls",
            "_model_module_version": "1.5.0",
            "_view_count": null,
            "_view_module_version": "1.5.0",
            "box_style": "",
            "layout": "IPY_MODEL_74deb91e10bd43f387a0d2c42afc0462",
            "_model_module": "@jupyter-widgets/controls",
            "children": [
              "IPY_MODEL_2ac5453ce89e406183d4bdbe10c42836",
              "IPY_MODEL_5dafef5f06df4dfb9088999ea3b3abb8"
            ]
          }
        },
        "74deb91e10bd43f387a0d2c42afc0462": {
          "model_module": "@jupyter-widgets/base",
          "model_name": "LayoutModel",
          "state": {
            "_view_name": "LayoutView",
            "grid_template_rows": null,
            "right": null,
            "justify_content": null,
            "_view_module": "@jupyter-widgets/base",
            "overflow": null,
            "_model_module_version": "1.2.0",
            "_view_count": null,
            "flex_flow": null,
            "width": null,
            "min_width": null,
            "border": null,
            "align_items": null,
            "bottom": null,
            "_model_module": "@jupyter-widgets/base",
            "top": null,
            "grid_column": null,
            "overflow_y": null,
            "overflow_x": null,
            "grid_auto_flow": null,
            "grid_area": null,
            "grid_template_columns": null,
            "flex": null,
            "_model_name": "LayoutModel",
            "justify_items": null,
            "grid_row": null,
            "max_height": null,
            "align_content": null,
            "visibility": null,
            "align_self": null,
            "height": null,
            "min_height": null,
            "padding": null,
            "grid_auto_rows": null,
            "grid_gap": null,
            "max_width": null,
            "order": null,
            "_view_module_version": "1.2.0",
            "grid_template_areas": null,
            "object_position": null,
            "object_fit": null,
            "grid_auto_columns": null,
            "margin": null,
            "display": null,
            "left": null
          }
        },
        "2ac5453ce89e406183d4bdbe10c42836": {
          "model_module": "@jupyter-widgets/controls",
          "model_name": "FloatProgressModel",
          "state": {
            "_view_name": "ProgressView",
            "style": "IPY_MODEL_9a7bf9762f974388998dae92c1c9e8e3",
            "_dom_classes": [],
            "description": "Test vecs: 100%",
            "_model_name": "FloatProgressModel",
            "bar_style": "success",
            "max": 1821,
            "_view_module": "@jupyter-widgets/controls",
            "_model_module_version": "1.5.0",
            "value": 1821,
            "_view_count": null,
            "_view_module_version": "1.5.0",
            "orientation": "horizontal",
            "min": 0,
            "description_tooltip": null,
            "_model_module": "@jupyter-widgets/controls",
            "layout": "IPY_MODEL_9e5a395e99d743f3a27a84e5fabb324c"
          }
        },
        "5dafef5f06df4dfb9088999ea3b3abb8": {
          "model_module": "@jupyter-widgets/controls",
          "model_name": "HTMLModel",
          "state": {
            "_view_name": "HTMLView",
            "style": "IPY_MODEL_479301d8caea419abf2da76ee1ea02e7",
            "_dom_classes": [],
            "description": "",
            "_model_name": "HTMLModel",
            "placeholder": "​",
            "_view_module": "@jupyter-widgets/controls",
            "_model_module_version": "1.5.0",
            "value": " 1821/1821 [00:00&lt;00:00, 4991.91it/s]",
            "_view_count": null,
            "_view_module_version": "1.5.0",
            "description_tooltip": null,
            "_model_module": "@jupyter-widgets/controls",
            "layout": "IPY_MODEL_de9b6d9bafe14f36a6522c9a2c87f6e1"
          }
        },
        "9a7bf9762f974388998dae92c1c9e8e3": {
          "model_module": "@jupyter-widgets/controls",
          "model_name": "ProgressStyleModel",
          "state": {
            "_view_name": "StyleView",
            "_model_name": "ProgressStyleModel",
            "description_width": "initial",
            "_view_module": "@jupyter-widgets/base",
            "_model_module_version": "1.5.0",
            "_view_count": null,
            "_view_module_version": "1.2.0",
            "bar_color": null,
            "_model_module": "@jupyter-widgets/controls"
          }
        },
        "9e5a395e99d743f3a27a84e5fabb324c": {
          "model_module": "@jupyter-widgets/base",
          "model_name": "LayoutModel",
          "state": {
            "_view_name": "LayoutView",
            "grid_template_rows": null,
            "right": null,
            "justify_content": null,
            "_view_module": "@jupyter-widgets/base",
            "overflow": null,
            "_model_module_version": "1.2.0",
            "_view_count": null,
            "flex_flow": null,
            "width": null,
            "min_width": null,
            "border": null,
            "align_items": null,
            "bottom": null,
            "_model_module": "@jupyter-widgets/base",
            "top": null,
            "grid_column": null,
            "overflow_y": null,
            "overflow_x": null,
            "grid_auto_flow": null,
            "grid_area": null,
            "grid_template_columns": null,
            "flex": null,
            "_model_name": "LayoutModel",
            "justify_items": null,
            "grid_row": null,
            "max_height": null,
            "align_content": null,
            "visibility": null,
            "align_self": null,
            "height": null,
            "min_height": null,
            "padding": null,
            "grid_auto_rows": null,
            "grid_gap": null,
            "max_width": null,
            "order": null,
            "_view_module_version": "1.2.0",
            "grid_template_areas": null,
            "object_position": null,
            "object_fit": null,
            "grid_auto_columns": null,
            "margin": null,
            "display": null,
            "left": null
          }
        },
        "479301d8caea419abf2da76ee1ea02e7": {
          "model_module": "@jupyter-widgets/controls",
          "model_name": "DescriptionStyleModel",
          "state": {
            "_view_name": "StyleView",
            "_model_name": "DescriptionStyleModel",
            "description_width": "",
            "_view_module": "@jupyter-widgets/base",
            "_model_module_version": "1.5.0",
            "_view_count": null,
            "_view_module_version": "1.2.0",
            "_model_module": "@jupyter-widgets/controls"
          }
        },
        "de9b6d9bafe14f36a6522c9a2c87f6e1": {
          "model_module": "@jupyter-widgets/base",
          "model_name": "LayoutModel",
          "state": {
            "_view_name": "LayoutView",
            "grid_template_rows": null,
            "right": null,
            "justify_content": null,
            "_view_module": "@jupyter-widgets/base",
            "overflow": null,
            "_model_module_version": "1.2.0",
            "_view_count": null,
            "flex_flow": null,
            "width": null,
            "min_width": null,
            "border": null,
            "align_items": null,
            "bottom": null,
            "_model_module": "@jupyter-widgets/base",
            "top": null,
            "grid_column": null,
            "overflow_y": null,
            "overflow_x": null,
            "grid_auto_flow": null,
            "grid_area": null,
            "grid_template_columns": null,
            "flex": null,
            "_model_name": "LayoutModel",
            "justify_items": null,
            "grid_row": null,
            "max_height": null,
            "align_content": null,
            "visibility": null,
            "align_self": null,
            "height": null,
            "min_height": null,
            "padding": null,
            "grid_auto_rows": null,
            "grid_gap": null,
            "max_width": null,
            "order": null,
            "_view_module_version": "1.2.0",
            "grid_template_areas": null,
            "object_position": null,
            "object_fit": null,
            "grid_auto_columns": null,
            "margin": null,
            "display": null,
            "left": null
          }
        },
        "88ff451cc82e4f1a901087e36e4ab8fe": {
          "model_module": "@jupyter-widgets/controls",
          "model_name": "VBoxModel",
          "state": {
            "_view_name": "VBoxView",
            "_dom_classes": [],
            "_model_name": "VBoxModel",
            "_view_module": "@jupyter-widgets/controls",
            "_model_module_version": "1.5.0",
            "_view_count": null,
            "_view_module_version": "1.5.0",
            "box_style": "",
            "layout": "IPY_MODEL_cddb10880bb24fb9983823e1e3f12df3",
            "_model_module": "@jupyter-widgets/controls",
            "children": [
              "IPY_MODEL_f5f62b4b606b48f888341a77b23677ee",
              "IPY_MODEL_9477d31457bf44a4a0a3a47ce608af40"
            ]
          }
        },
        "cddb10880bb24fb9983823e1e3f12df3": {
          "model_module": "@jupyter-widgets/base",
          "model_name": "LayoutModel",
          "state": {
            "_view_name": "LayoutView",
            "grid_template_rows": null,
            "right": null,
            "justify_content": null,
            "_view_module": "@jupyter-widgets/base",
            "overflow": null,
            "_model_module_version": "1.2.0",
            "_view_count": null,
            "flex_flow": null,
            "width": null,
            "min_width": null,
            "border": null,
            "align_items": null,
            "bottom": null,
            "_model_module": "@jupyter-widgets/base",
            "top": null,
            "grid_column": null,
            "overflow_y": null,
            "overflow_x": null,
            "grid_auto_flow": null,
            "grid_area": null,
            "grid_template_columns": null,
            "flex": null,
            "_model_name": "LayoutModel",
            "justify_items": null,
            "grid_row": null,
            "max_height": null,
            "align_content": null,
            "visibility": null,
            "align_self": null,
            "height": null,
            "min_height": null,
            "padding": null,
            "grid_auto_rows": null,
            "grid_gap": null,
            "max_width": null,
            "order": null,
            "_view_module_version": "1.2.0",
            "grid_template_areas": null,
            "object_position": null,
            "object_fit": null,
            "grid_auto_columns": null,
            "margin": null,
            "display": null,
            "left": null
          }
        },
        "f5f62b4b606b48f888341a77b23677ee": {
          "model_module": "@jupyter-widgets/controls",
          "model_name": "LabelModel",
          "state": {
            "_view_name": "LabelView",
            "style": "IPY_MODEL_5ce54c61f1ee45d099df9c758a1b17bb",
            "_dom_classes": [],
            "description": "",
            "_model_name": "LabelModel",
            "placeholder": "​",
            "_view_module": "@jupyter-widgets/controls",
            "_model_module_version": "1.5.0",
            "value": " 0.01MB of 0.01MB uploaded (0.00MB deduped)\r",
            "_view_count": null,
            "_view_module_version": "1.5.0",
            "description_tooltip": null,
            "_model_module": "@jupyter-widgets/controls",
            "layout": "IPY_MODEL_1eb6045418504abab38177d6607d78d0"
          }
        },
        "9477d31457bf44a4a0a3a47ce608af40": {
          "model_module": "@jupyter-widgets/controls",
          "model_name": "FloatProgressModel",
          "state": {
            "_view_name": "ProgressView",
            "style": "IPY_MODEL_bcfd9acadaa24f038996680c2451a853",
            "_dom_classes": [],
            "description": "",
            "_model_name": "FloatProgressModel",
            "bar_style": "",
            "max": 1,
            "_view_module": "@jupyter-widgets/controls",
            "_model_module_version": "1.5.0",
            "value": 1,
            "_view_count": null,
            "_view_module_version": "1.5.0",
            "orientation": "horizontal",
            "min": 0,
            "description_tooltip": null,
            "_model_module": "@jupyter-widgets/controls",
            "layout": "IPY_MODEL_da81efb628d4489ba84a9080b7844b53"
          }
        },
        "5ce54c61f1ee45d099df9c758a1b17bb": {
          "model_module": "@jupyter-widgets/controls",
          "model_name": "DescriptionStyleModel",
          "state": {
            "_view_name": "StyleView",
            "_model_name": "DescriptionStyleModel",
            "description_width": "",
            "_view_module": "@jupyter-widgets/base",
            "_model_module_version": "1.5.0",
            "_view_count": null,
            "_view_module_version": "1.2.0",
            "_model_module": "@jupyter-widgets/controls"
          }
        },
        "1eb6045418504abab38177d6607d78d0": {
          "model_module": "@jupyter-widgets/base",
          "model_name": "LayoutModel",
          "state": {
            "_view_name": "LayoutView",
            "grid_template_rows": null,
            "right": null,
            "justify_content": null,
            "_view_module": "@jupyter-widgets/base",
            "overflow": null,
            "_model_module_version": "1.2.0",
            "_view_count": null,
            "flex_flow": null,
            "width": null,
            "min_width": null,
            "border": null,
            "align_items": null,
            "bottom": null,
            "_model_module": "@jupyter-widgets/base",
            "top": null,
            "grid_column": null,
            "overflow_y": null,
            "overflow_x": null,
            "grid_auto_flow": null,
            "grid_area": null,
            "grid_template_columns": null,
            "flex": null,
            "_model_name": "LayoutModel",
            "justify_items": null,
            "grid_row": null,
            "max_height": null,
            "align_content": null,
            "visibility": null,
            "align_self": null,
            "height": null,
            "min_height": null,
            "padding": null,
            "grid_auto_rows": null,
            "grid_gap": null,
            "max_width": null,
            "order": null,
            "_view_module_version": "1.2.0",
            "grid_template_areas": null,
            "object_position": null,
            "object_fit": null,
            "grid_auto_columns": null,
            "margin": null,
            "display": null,
            "left": null
          }
        },
        "bcfd9acadaa24f038996680c2451a853": {
          "model_module": "@jupyter-widgets/controls",
          "model_name": "ProgressStyleModel",
          "state": {
            "_view_name": "StyleView",
            "_model_name": "ProgressStyleModel",
            "description_width": "",
            "_view_module": "@jupyter-widgets/base",
            "_model_module_version": "1.5.0",
            "_view_count": null,
            "_view_module_version": "1.2.0",
            "bar_color": null,
            "_model_module": "@jupyter-widgets/controls"
          }
        },
        "da81efb628d4489ba84a9080b7844b53": {
          "model_module": "@jupyter-widgets/base",
          "model_name": "LayoutModel",
          "state": {
            "_view_name": "LayoutView",
            "grid_template_rows": null,
            "right": null,
            "justify_content": null,
            "_view_module": "@jupyter-widgets/base",
            "overflow": null,
            "_model_module_version": "1.2.0",
            "_view_count": null,
            "flex_flow": null,
            "width": null,
            "min_width": null,
            "border": null,
            "align_items": null,
            "bottom": null,
            "_model_module": "@jupyter-widgets/base",
            "top": null,
            "grid_column": null,
            "overflow_y": null,
            "overflow_x": null,
            "grid_auto_flow": null,
            "grid_area": null,
            "grid_template_columns": null,
            "flex": null,
            "_model_name": "LayoutModel",
            "justify_items": null,
            "grid_row": null,
            "max_height": null,
            "align_content": null,
            "visibility": null,
            "align_self": null,
            "height": null,
            "min_height": null,
            "padding": null,
            "grid_auto_rows": null,
            "grid_gap": null,
            "max_width": null,
            "order": null,
            "_view_module_version": "1.2.0",
            "grid_template_areas": null,
            "object_position": null,
            "object_fit": null,
            "grid_auto_columns": null,
            "margin": null,
            "display": null,
            "left": null
          }
        },
        "d18a7fb6a7434dfdade028c65b43df49": {
          "model_module": "@jupyter-widgets/controls",
          "model_name": "VBoxModel",
          "state": {
            "_view_name": "VBoxView",
            "_dom_classes": [],
            "_model_name": "VBoxModel",
            "_view_module": "@jupyter-widgets/controls",
            "_model_module_version": "1.5.0",
            "_view_count": null,
            "_view_module_version": "1.5.0",
            "box_style": "",
            "layout": "IPY_MODEL_9d5e4aec60d14a36bf31e84e167399e6",
            "_model_module": "@jupyter-widgets/controls",
            "children": [
              "IPY_MODEL_81367f80e9b94d75933b9e7389ec0145",
              "IPY_MODEL_f4f59f977f34402984765ad456d3154c"
            ]
          }
        },
        "9d5e4aec60d14a36bf31e84e167399e6": {
          "model_module": "@jupyter-widgets/base",
          "model_name": "LayoutModel",
          "state": {
            "_view_name": "LayoutView",
            "grid_template_rows": null,
            "right": null,
            "justify_content": null,
            "_view_module": "@jupyter-widgets/base",
            "overflow": null,
            "_model_module_version": "1.2.0",
            "_view_count": null,
            "flex_flow": null,
            "width": null,
            "min_width": null,
            "border": null,
            "align_items": null,
            "bottom": null,
            "_model_module": "@jupyter-widgets/base",
            "top": null,
            "grid_column": null,
            "overflow_y": null,
            "overflow_x": null,
            "grid_auto_flow": null,
            "grid_area": null,
            "grid_template_columns": null,
            "flex": null,
            "_model_name": "LayoutModel",
            "justify_items": null,
            "grid_row": null,
            "max_height": null,
            "align_content": null,
            "visibility": null,
            "align_self": null,
            "height": null,
            "min_height": null,
            "padding": null,
            "grid_auto_rows": null,
            "grid_gap": null,
            "max_width": null,
            "order": null,
            "_view_module_version": "1.2.0",
            "grid_template_areas": null,
            "object_position": null,
            "object_fit": null,
            "grid_auto_columns": null,
            "margin": null,
            "display": null,
            "left": null
          }
        },
        "81367f80e9b94d75933b9e7389ec0145": {
          "model_module": "@jupyter-widgets/controls",
          "model_name": "LabelModel",
          "state": {
            "_view_name": "LabelView",
            "style": "IPY_MODEL_b89dbb5e88034980b81779ce2731b7f0",
            "_dom_classes": [],
            "description": "",
            "_model_name": "LabelModel",
            "placeholder": "​",
            "_view_module": "@jupyter-widgets/controls",
            "_model_module_version": "1.5.0",
            "value": " 0.05MB of 0.05MB uploaded (0.00MB deduped)\r",
            "_view_count": null,
            "_view_module_version": "1.5.0",
            "description_tooltip": null,
            "_model_module": "@jupyter-widgets/controls",
            "layout": "IPY_MODEL_85e402f4f07e449cb91ee4167c275ae3"
          }
        },
        "f4f59f977f34402984765ad456d3154c": {
          "model_module": "@jupyter-widgets/controls",
          "model_name": "FloatProgressModel",
          "state": {
            "_view_name": "ProgressView",
            "style": "IPY_MODEL_86fa18e07f20497e9ca13707b8a3a484",
            "_dom_classes": [],
            "description": "",
            "_model_name": "FloatProgressModel",
            "bar_style": "",
            "max": 1,
            "_view_module": "@jupyter-widgets/controls",
            "_model_module_version": "1.5.0",
            "value": 1,
            "_view_count": null,
            "_view_module_version": "1.5.0",
            "orientation": "horizontal",
            "min": 0,
            "description_tooltip": null,
            "_model_module": "@jupyter-widgets/controls",
            "layout": "IPY_MODEL_97b33bdb7dc5470886b1f498379a7a09"
          }
        },
        "b89dbb5e88034980b81779ce2731b7f0": {
          "model_module": "@jupyter-widgets/controls",
          "model_name": "DescriptionStyleModel",
          "state": {
            "_view_name": "StyleView",
            "_model_name": "DescriptionStyleModel",
            "description_width": "",
            "_view_module": "@jupyter-widgets/base",
            "_model_module_version": "1.5.0",
            "_view_count": null,
            "_view_module_version": "1.2.0",
            "_model_module": "@jupyter-widgets/controls"
          }
        },
        "85e402f4f07e449cb91ee4167c275ae3": {
          "model_module": "@jupyter-widgets/base",
          "model_name": "LayoutModel",
          "state": {
            "_view_name": "LayoutView",
            "grid_template_rows": null,
            "right": null,
            "justify_content": null,
            "_view_module": "@jupyter-widgets/base",
            "overflow": null,
            "_model_module_version": "1.2.0",
            "_view_count": null,
            "flex_flow": null,
            "width": null,
            "min_width": null,
            "border": null,
            "align_items": null,
            "bottom": null,
            "_model_module": "@jupyter-widgets/base",
            "top": null,
            "grid_column": null,
            "overflow_y": null,
            "overflow_x": null,
            "grid_auto_flow": null,
            "grid_area": null,
            "grid_template_columns": null,
            "flex": null,
            "_model_name": "LayoutModel",
            "justify_items": null,
            "grid_row": null,
            "max_height": null,
            "align_content": null,
            "visibility": null,
            "align_self": null,
            "height": null,
            "min_height": null,
            "padding": null,
            "grid_auto_rows": null,
            "grid_gap": null,
            "max_width": null,
            "order": null,
            "_view_module_version": "1.2.0",
            "grid_template_areas": null,
            "object_position": null,
            "object_fit": null,
            "grid_auto_columns": null,
            "margin": null,
            "display": null,
            "left": null
          }
        },
        "86fa18e07f20497e9ca13707b8a3a484": {
          "model_module": "@jupyter-widgets/controls",
          "model_name": "ProgressStyleModel",
          "state": {
            "_view_name": "StyleView",
            "_model_name": "ProgressStyleModel",
            "description_width": "",
            "_view_module": "@jupyter-widgets/base",
            "_model_module_version": "1.5.0",
            "_view_count": null,
            "_view_module_version": "1.2.0",
            "bar_color": null,
            "_model_module": "@jupyter-widgets/controls"
          }
        },
        "97b33bdb7dc5470886b1f498379a7a09": {
          "model_module": "@jupyter-widgets/base",
          "model_name": "LayoutModel",
          "state": {
            "_view_name": "LayoutView",
            "grid_template_rows": null,
            "right": null,
            "justify_content": null,
            "_view_module": "@jupyter-widgets/base",
            "overflow": null,
            "_model_module_version": "1.2.0",
            "_view_count": null,
            "flex_flow": null,
            "width": null,
            "min_width": null,
            "border": null,
            "align_items": null,
            "bottom": null,
            "_model_module": "@jupyter-widgets/base",
            "top": null,
            "grid_column": null,
            "overflow_y": null,
            "overflow_x": null,
            "grid_auto_flow": null,
            "grid_area": null,
            "grid_template_columns": null,
            "flex": null,
            "_model_name": "LayoutModel",
            "justify_items": null,
            "grid_row": null,
            "max_height": null,
            "align_content": null,
            "visibility": null,
            "align_self": null,
            "height": null,
            "min_height": null,
            "padding": null,
            "grid_auto_rows": null,
            "grid_gap": null,
            "max_width": null,
            "order": null,
            "_view_module_version": "1.2.0",
            "grid_template_areas": null,
            "object_position": null,
            "object_fit": null,
            "grid_auto_columns": null,
            "margin": null,
            "display": null,
            "left": null
          }
        },
        "635e6bcca5f44b69a289bc6cf91c416f": {
          "model_module": "@jupyter-widgets/controls",
          "model_name": "VBoxModel",
          "state": {
            "_view_name": "VBoxView",
            "_dom_classes": [],
            "_model_name": "VBoxModel",
            "_view_module": "@jupyter-widgets/controls",
            "_model_module_version": "1.5.0",
            "_view_count": null,
            "_view_module_version": "1.5.0",
            "box_style": "",
            "layout": "IPY_MODEL_17214d5022724a9987366f2fa930e3db",
            "_model_module": "@jupyter-widgets/controls",
            "children": [
              "IPY_MODEL_fddff322c7ee4c72ac94499c8f33fe2c",
              "IPY_MODEL_c07a2d4f7eea45ac9eee9d2c0d9641b5"
            ]
          }
        },
        "17214d5022724a9987366f2fa930e3db": {
          "model_module": "@jupyter-widgets/base",
          "model_name": "LayoutModel",
          "state": {
            "_view_name": "LayoutView",
            "grid_template_rows": null,
            "right": null,
            "justify_content": null,
            "_view_module": "@jupyter-widgets/base",
            "overflow": null,
            "_model_module_version": "1.2.0",
            "_view_count": null,
            "flex_flow": null,
            "width": null,
            "min_width": null,
            "border": null,
            "align_items": null,
            "bottom": null,
            "_model_module": "@jupyter-widgets/base",
            "top": null,
            "grid_column": null,
            "overflow_y": null,
            "overflow_x": null,
            "grid_auto_flow": null,
            "grid_area": null,
            "grid_template_columns": null,
            "flex": null,
            "_model_name": "LayoutModel",
            "justify_items": null,
            "grid_row": null,
            "max_height": null,
            "align_content": null,
            "visibility": null,
            "align_self": null,
            "height": null,
            "min_height": null,
            "padding": null,
            "grid_auto_rows": null,
            "grid_gap": null,
            "max_width": null,
            "order": null,
            "_view_module_version": "1.2.0",
            "grid_template_areas": null,
            "object_position": null,
            "object_fit": null,
            "grid_auto_columns": null,
            "margin": null,
            "display": null,
            "left": null
          }
        },
        "fddff322c7ee4c72ac94499c8f33fe2c": {
          "model_module": "@jupyter-widgets/controls",
          "model_name": "LabelModel",
          "state": {
            "_view_name": "LabelView",
            "style": "IPY_MODEL_636c4553fcbe4f78855d742167636ebc",
            "_dom_classes": [],
            "description": "",
            "_model_name": "LabelModel",
            "placeholder": "​",
            "_view_module": "@jupyter-widgets/controls",
            "_model_module_version": "1.5.0",
            "value": " 0.05MB of 0.05MB uploaded (0.00MB deduped)\r",
            "_view_count": null,
            "_view_module_version": "1.5.0",
            "description_tooltip": null,
            "_model_module": "@jupyter-widgets/controls",
            "layout": "IPY_MODEL_3afb06b6569a407d8be80219bf436a3e"
          }
        },
        "c07a2d4f7eea45ac9eee9d2c0d9641b5": {
          "model_module": "@jupyter-widgets/controls",
          "model_name": "FloatProgressModel",
          "state": {
            "_view_name": "ProgressView",
            "style": "IPY_MODEL_c971b95a9a2c41059ac33ed7930db2b2",
            "_dom_classes": [],
            "description": "",
            "_model_name": "FloatProgressModel",
            "bar_style": "",
            "max": 1,
            "_view_module": "@jupyter-widgets/controls",
            "_model_module_version": "1.5.0",
            "value": 1,
            "_view_count": null,
            "_view_module_version": "1.5.0",
            "orientation": "horizontal",
            "min": 0,
            "description_tooltip": null,
            "_model_module": "@jupyter-widgets/controls",
            "layout": "IPY_MODEL_091ced056b024758833eff6ba10732a8"
          }
        },
        "636c4553fcbe4f78855d742167636ebc": {
          "model_module": "@jupyter-widgets/controls",
          "model_name": "DescriptionStyleModel",
          "state": {
            "_view_name": "StyleView",
            "_model_name": "DescriptionStyleModel",
            "description_width": "",
            "_view_module": "@jupyter-widgets/base",
            "_model_module_version": "1.5.0",
            "_view_count": null,
            "_view_module_version": "1.2.0",
            "_model_module": "@jupyter-widgets/controls"
          }
        },
        "3afb06b6569a407d8be80219bf436a3e": {
          "model_module": "@jupyter-widgets/base",
          "model_name": "LayoutModel",
          "state": {
            "_view_name": "LayoutView",
            "grid_template_rows": null,
            "right": null,
            "justify_content": null,
            "_view_module": "@jupyter-widgets/base",
            "overflow": null,
            "_model_module_version": "1.2.0",
            "_view_count": null,
            "flex_flow": null,
            "width": null,
            "min_width": null,
            "border": null,
            "align_items": null,
            "bottom": null,
            "_model_module": "@jupyter-widgets/base",
            "top": null,
            "grid_column": null,
            "overflow_y": null,
            "overflow_x": null,
            "grid_auto_flow": null,
            "grid_area": null,
            "grid_template_columns": null,
            "flex": null,
            "_model_name": "LayoutModel",
            "justify_items": null,
            "grid_row": null,
            "max_height": null,
            "align_content": null,
            "visibility": null,
            "align_self": null,
            "height": null,
            "min_height": null,
            "padding": null,
            "grid_auto_rows": null,
            "grid_gap": null,
            "max_width": null,
            "order": null,
            "_view_module_version": "1.2.0",
            "grid_template_areas": null,
            "object_position": null,
            "object_fit": null,
            "grid_auto_columns": null,
            "margin": null,
            "display": null,
            "left": null
          }
        },
        "c971b95a9a2c41059ac33ed7930db2b2": {
          "model_module": "@jupyter-widgets/controls",
          "model_name": "ProgressStyleModel",
          "state": {
            "_view_name": "StyleView",
            "_model_name": "ProgressStyleModel",
            "description_width": "",
            "_view_module": "@jupyter-widgets/base",
            "_model_module_version": "1.5.0",
            "_view_count": null,
            "_view_module_version": "1.2.0",
            "bar_color": null,
            "_model_module": "@jupyter-widgets/controls"
          }
        },
        "091ced056b024758833eff6ba10732a8": {
          "model_module": "@jupyter-widgets/base",
          "model_name": "LayoutModel",
          "state": {
            "_view_name": "LayoutView",
            "grid_template_rows": null,
            "right": null,
            "justify_content": null,
            "_view_module": "@jupyter-widgets/base",
            "overflow": null,
            "_model_module_version": "1.2.0",
            "_view_count": null,
            "flex_flow": null,
            "width": null,
            "min_width": null,
            "border": null,
            "align_items": null,
            "bottom": null,
            "_model_module": "@jupyter-widgets/base",
            "top": null,
            "grid_column": null,
            "overflow_y": null,
            "overflow_x": null,
            "grid_auto_flow": null,
            "grid_area": null,
            "grid_template_columns": null,
            "flex": null,
            "_model_name": "LayoutModel",
            "justify_items": null,
            "grid_row": null,
            "max_height": null,
            "align_content": null,
            "visibility": null,
            "align_self": null,
            "height": null,
            "min_height": null,
            "padding": null,
            "grid_auto_rows": null,
            "grid_gap": null,
            "max_width": null,
            "order": null,
            "_view_module_version": "1.2.0",
            "grid_template_areas": null,
            "object_position": null,
            "object_fit": null,
            "grid_auto_columns": null,
            "margin": null,
            "display": null,
            "left": null
          }
        }
      }
    }
  },
  "cells": [
    {
      "cell_type": "markdown",
      "metadata": {
        "id": "view-in-github",
        "colab_type": "text"
      },
      "source": [
        "<a href=\"https://colab.research.google.com/github/Huertas97/Sentiment_Analysis/blob/main/sst2_models/ML/SST2_Gensim_Pretrainded_Word2Vec.ipynb\" target=\"_parent\"><img src=\"https://colab.research.google.com/assets/colab-badge.svg\" alt=\"Open In Colab\"/></a>"
      ]
    },
    {
      "cell_type": "markdown",
      "metadata": {
        "id": "XNPaA_perq87"
      },
      "source": [
        "# Introduction\r\n",
        "\r\n",
        "In this notebook we will use a pre-trained Word2Vec model from Gensim to extract the word embeddings that ML algorithms will use to as features to learn how to predict sentiment polarity in English tweets. "
      ]
    },
    {
      "cell_type": "markdown",
      "metadata": {
        "id": "sN0U9ajRsNaQ"
      },
      "source": [
        "# Import packages"
      ]
    },
    {
      "cell_type": "code",
      "metadata": {
        "colab": {
          "base_uri": "https://localhost:8080/"
        },
        "id": "NA8TeduizgKc",
        "outputId": "8e591755-a6ae-4340-c599-347be67c7cf5"
      },
      "source": [
        "!pip install -U -q Unidecode\r\n",
        "import sys\r\n",
        "import unidecode\r\n",
        "import re\r\n",
        "import numpy as np\r\n",
        "from nltk.tokenize import word_tokenize\r\n",
        "from nltk import pos_tag\r\n",
        "from nltk.corpus import stopwords\r\n",
        "from nltk.stem import WordNetLemmatizer\r\n",
        "from sklearn.preprocessing import LabelEncoder\r\n",
        "from collections import defaultdict\r\n",
        "from nltk.corpus import wordnet as wn\r\n",
        "import nltk\r\n",
        "nltk.download('stopwords')\r\n",
        "nltk.download('wordnet')\r\n",
        "nltk.download('punkt')\r\n",
        "\r\n",
        "from sklearn.feature_extraction.text import TfidfVectorizer\r\n"
      ],
      "execution_count": null,
      "outputs": [
        {
          "output_type": "stream",
          "text": [
            "\u001b[?25l\r\u001b[K     |█▍                              | 10kB 22.2MB/s eta 0:00:01\r\u001b[K     |██▊                             | 20kB 11.9MB/s eta 0:00:01\r\u001b[K     |████                            | 30kB 8.3MB/s eta 0:00:01\r\u001b[K     |█████▌                          | 40kB 6.8MB/s eta 0:00:01\r\u001b[K     |██████▉                         | 51kB 4.4MB/s eta 0:00:01\r\u001b[K     |████████▏                       | 61kB 4.9MB/s eta 0:00:01\r\u001b[K     |█████████▋                      | 71kB 5.1MB/s eta 0:00:01\r\u001b[K     |███████████                     | 81kB 5.2MB/s eta 0:00:01\r\u001b[K     |████████████▎                   | 92kB 5.3MB/s eta 0:00:01\r\u001b[K     |█████████████▊                  | 102kB 4.3MB/s eta 0:00:01\r\u001b[K     |███████████████                 | 112kB 4.3MB/s eta 0:00:01\r\u001b[K     |████████████████▍               | 122kB 4.3MB/s eta 0:00:01\r\u001b[K     |█████████████████▊              | 133kB 4.3MB/s eta 0:00:01\r\u001b[K     |███████████████████▏            | 143kB 4.3MB/s eta 0:00:01\r\u001b[K     |████████████████████▌           | 153kB 4.3MB/s eta 0:00:01\r\u001b[K     |█████████████████████▉          | 163kB 4.3MB/s eta 0:00:01\r\u001b[K     |███████████████████████▎        | 174kB 4.3MB/s eta 0:00:01\r\u001b[K     |████████████████████████▋       | 184kB 4.3MB/s eta 0:00:01\r\u001b[K     |██████████████████████████      | 194kB 4.3MB/s eta 0:00:01\r\u001b[K     |███████████████████████████▍    | 204kB 4.3MB/s eta 0:00:01\r\u001b[K     |████████████████████████████▊   | 215kB 4.3MB/s eta 0:00:01\r\u001b[K     |██████████████████████████████  | 225kB 4.3MB/s eta 0:00:01\r\u001b[K     |███████████████████████████████▍| 235kB 4.3MB/s eta 0:00:01\r\u001b[K     |████████████████████████████████| 245kB 4.3MB/s \n",
            "\u001b[?25h[nltk_data] Downloading package stopwords to /root/nltk_data...\n",
            "[nltk_data]   Unzipping corpora/stopwords.zip.\n",
            "[nltk_data] Downloading package wordnet to /root/nltk_data...\n",
            "[nltk_data]   Unzipping corpora/wordnet.zip.\n",
            "[nltk_data] Downloading package punkt to /root/nltk_data...\n",
            "[nltk_data]   Unzipping tokenizers/punkt.zip.\n"
          ],
          "name": "stdout"
        }
      ]
    },
    {
      "cell_type": "markdown",
      "metadata": {
        "id": "zYrk2IxEsqAq"
      },
      "source": [
        "# Load the SST2 data \r\n",
        "\r\n",
        "Clone the GitHub repository"
      ]
    },
    {
      "cell_type": "code",
      "metadata": {
        "colab": {
          "base_uri": "https://localhost:8080/"
        },
        "id": "Iqz6VqdNkl-d",
        "outputId": "783a7207-760f-418a-dd36-4cc00b2b970b"
      },
      "source": [
        "# Clone the repository and all the dependencies\r\n",
        "!git clone https://github.com/Huertas97/Sentiment_Analysis.git"
      ],
      "execution_count": null,
      "outputs": [
        {
          "output_type": "stream",
          "text": [
            "Cloning into 'Sentiment_Analysis'...\n",
            "remote: Enumerating objects: 30, done.\u001b[K\n",
            "remote: Counting objects: 100% (30/30), done.\u001b[K\n",
            "remote: Compressing objects: 100% (24/24), done.\u001b[K\n",
            "remote: Total 30 (delta 8), reused 23 (delta 4), pack-reused 0\u001b[K\n",
            "Unpacking objects: 100% (30/30), done.\n"
          ],
          "name": "stdout"
        }
      ]
    },
    {
      "cell_type": "markdown",
      "metadata": {
        "id": "DCRoGWp4Befy"
      },
      "source": [
        "Extract the SST2 train set"
      ]
    },
    {
      "cell_type": "code",
      "metadata": {
        "id": "r04HCoITleLz"
      },
      "source": [
        "import io\r\n",
        "import pandas as pd\r\n",
        "# Load the data from SST2\r\n",
        "def loadFile(fpath):\r\n",
        "        sst_data = {'X': [], 'y': []}\r\n",
        "        with io.open(fpath, 'r', encoding='utf-8') as f:\r\n",
        "            for line in f:\r\n",
        "                    sample = line.strip().split('\\t')\r\n",
        "                    sst_data['y'].append(int(sample[1]))\r\n",
        "                    sst_data['X'].append(sample[0])\r\n",
        "        assert max(sst_data['y']) == 2 - 1\r\n",
        "        return sst_data"
      ],
      "execution_count": null,
      "outputs": []
    },
    {
      "cell_type": "code",
      "metadata": {
        "id": "sULnAm_ulkKX"
      },
      "source": [
        "sst2_train = loadFile(\"/content/Sentiment_Analysis/sst_2_data/sentiment-train\")\r\n",
        "sst2_df_train = pd.DataFrame( {\"text\": sst2_train[\"X\"], \r\n",
        "               \"labels\": sst2_train[\"y\"]} )\r\n",
        "\r\n",
        "sst2_dev = loadFile(\"/content/Sentiment_Analysis/sst_2_data/sentiment-dev\")\r\n",
        "sst2_df_dev = pd.DataFrame( {\"text\": sst2_dev[\"X\"], \r\n",
        "               \"labels\": sst2_dev[\"y\"]} )\r\n",
        "\r\n",
        "sst2_test = loadFile(\"/content/Sentiment_Analysis/sst_2_data/sentiment-test\")\r\n",
        "sst2_df_test = pd.DataFrame( {\"text\": sst2_test[\"X\"], \r\n",
        "               \"labels\": sst2_test[\"y\"]} )"
      ],
      "execution_count": null,
      "outputs": []
    },
    {
      "cell_type": "markdown",
      "metadata": {
        "id": "7LWREp21zAp8"
      },
      "source": [
        "# Preprocess the text data\r\n",
        "\r\n",
        "For TF-IDF and Word2Vec is important to preprocess the text. This step is important because the quality of the sentence embedding depends on the words that belong to the sentence. If stopwords (i.e, but, and, so) are not removed we will have noise in the embedding since this words do not represent properly our task problem. "
      ]
    },
    {
      "cell_type": "code",
      "metadata": {
        "id": "9FOjwTTAzCLr"
      },
      "source": [
        "def preprocessor(text, stoptext = \"nltk\", lemmatizer = \"nltk\"):\r\n",
        "  # sys.stdout.write('.')\r\n",
        "  # sys.stdout.flush()\r\n",
        "\r\n",
        "  # Text to unicode\r\n",
        "  text = unidecode.unidecode(text)\r\n",
        "\r\n",
        "  # Remove introduction words for sections\r\n",
        "  text = re.sub(\"[A-Z]{0,}\\s[A-Z]+:\", \"\", text) \r\n",
        "\r\n",
        "  # Lowercase and remove extra spaces\r\n",
        "  text = text.strip().lower()\r\n",
        "\r\n",
        "  # E mail\r\n",
        "  text = re.sub(r\"e\\s?-\\s?mail\", \"email\", text)\r\n",
        "\r\n",
        "  # Substitute p value\r\n",
        "  text = re.sub('p\\s?[<=]\\s?0?[.,]0[0-5]+', 'hppv', text) # Significant\r\n",
        "  text = re.sub('p\\s?[>=]\\s?[\\d]+[.,]?\\d*', 'lppv', text) # Non-significant\r\n",
        "\r\n",
        "  # Separate punctation to replace numbers for NUM better\r\n",
        "  from string import punctuation\r\n",
        "  punctuation_marks = set(punctuation)\r\n",
        "  punctuation_marks.update(chr(177))\r\n",
        "\r\n",
        "  for i in punctuation_marks:\r\n",
        "    element = \"\\\\\"+i # scape the character\r\n",
        "    sub_element = \" \"+i+\" \" # Example \"=\" --> \" = \"\r\n",
        "    text = re.sub(element, sub_element, text)\r\n",
        "\r\n",
        "\r\n",
        "  # Substitute irrelevant (isolated) numbers by NUM\r\n",
        "  text = re.sub( '[^A-Za-z][\\-~]?[0-9][0-9]*\\s?[.,]?\\s?[0-9]+[^A-Za-z]', \" num \", text)\r\n",
        "  text = re.sub( \"\\s[0-9]+\\s\", \" num \", text)\r\n",
        "\r\n",
        "  # Tokenize the text\r\n",
        "\r\n",
        "  tokenized_text = nltk.word_tokenize(text)\r\n",
        "\r\n",
        "  # Delete Punctuation\r\n",
        "  tokenized_text = [i for i in tokenized_text if i not in punctuation_marks]\r\n",
        "\r\n",
        "    # Delete stop words\r\n",
        "  if stoptext == \"spacy\":\r\n",
        "    stop_words = sorted(spacy_stopwords)\r\n",
        "\r\n",
        "  if stoptext == \"nltk\":\r\n",
        "    nltk_stopwords = nltk.corpus.stopwords.words('english')\r\n",
        "    stop_words = sorted(nltk_stopwords)\r\n",
        "\r\n",
        "  if stoptext == \"clinical\":\r\n",
        "    stop_words = sorted(clinical_stopwords)\r\n",
        "\r\n",
        "  if stoptext == \"long\":\r\n",
        "    stop_words = sorted(long_stopwords)\r\n",
        "\r\n",
        "  tokenized_text = [i for i in tokenized_text if i not in stop_words]\r\n",
        "\r\n",
        "\r\n",
        "  # Lemmanization\r\n",
        "  if lemmatizer == \"nltk\":\r\n",
        "    lemmatizer = WordNetLemmatizer().lemmatize\r\n",
        "    lemmatized_text = [lemmatizer(word) for word in tokenized_text]\r\n",
        "\r\n",
        "  \r\n",
        "  if lemmatizer == \"spacy\":\r\n",
        "    nlp = spacy.load('en', disable=['parser', 'ner'])\r\n",
        "    doc = nlp(\" \".join(tokenized_text))\r\n",
        "    lemmatized_text = [token.lemma_ for token in doc]\r\n",
        "\r\n",
        "\r\n",
        "  # Join all the text  \r\n",
        "  full_text = \" \".join(lemmatized_text)\r\n",
        "\r\n",
        "  return full_text"
      ],
      "execution_count": null,
      "outputs": []
    },
    {
      "cell_type": "code",
      "metadata": {
        "id": "CsdPDAuV0wAc"
      },
      "source": [
        "from tqdm.auto import tqdm"
      ],
      "execution_count": null,
      "outputs": []
    },
    {
      "cell_type": "code",
      "metadata": {
        "colab": {
          "base_uri": "https://localhost:8080/",
          "height": 168,
          "referenced_widgets": [
            "23473d366f454cbc8cf687f641857b60",
            "a8b461f033f944e5a2d8064fb3c9076d",
            "1cf41123494843b7866d1d37ae464d0c",
            "2ff3b9a9111343f29d5c8b48891bd322",
            "a446696f190543d4a0ca76d5b34697b4",
            "2b5650743281429ba0c8d8a65eaa5940",
            "2d80ee41f33047c2b494ea7e6d31b2cd",
            "8cc8fe309e2d4446bcdb158bb2d0da26",
            "564d0696a5da499388159140ea50ef99",
            "87f1d453a5d34b889895fd2a0d6a8b18",
            "2d45bf7460bf41f4b4c0f938fb9769ad",
            "32480e7a8a274218917d84e89006936d",
            "8edb982ed7184753bb7d0f17151f2442",
            "3d6dee8e641548e4bdb015b54bee62e5",
            "9cca7b6890d04c189ee7188625dd3f0b",
            "8484c40be10d4a5cb7b208a728d35658",
            "343a710a762647abad47f2cae37f8ed2",
            "4a4b413350d8400c84c009725f646286",
            "44a300e557654fb3a0538f799b494f3a",
            "d7b1f0a945304bf2988e29b35afcfbb2",
            "20ea1282c9134cc4afc0a8d098f44bef",
            "42ba329c33a94594b4d7faef6d9bd59f",
            "2cc56720b64d46e0841eaa86b433faa0",
            "13bede513ab34bd6a664cdd78bfdfb61"
          ]
        },
        "id": "lmFivqopzEbQ",
        "outputId": "92d7e397-b17f-443c-e3aa-6173dc9e4ff0"
      },
      "source": [
        "clean_sst2_train = [preprocessor(text, stoptext=\"nltk\", lemmatizer=\"nltk\")  for text in tqdm(sst2_df_train.text.to_list(), desc = \"Train cleaning\")]\r\n",
        "\r\n",
        "clean_sst2_dev = [preprocessor(text, stoptext=\"nltk\", lemmatizer=\"nltk\")  for text in tqdm(sst2_df_dev.text.to_list(), desc = \"Dev cleaning\")]\r\n",
        "\r\n",
        "clean_sst2_test = [preprocessor(text, stoptext=\"nltk\", lemmatizer=\"nltk\")  for text in tqdm(sst2_df_test.text.to_list(), desc = \"Test cleaning\")]"
      ],
      "execution_count": null,
      "outputs": [
        {
          "output_type": "display_data",
          "data": {
            "application/vnd.jupyter.widget-view+json": {
              "model_id": "23473d366f454cbc8cf687f641857b60",
              "version_minor": 0,
              "version_major": 2
            },
            "text/plain": [
              "HBox(children=(FloatProgress(value=0.0, description='Train cleaning', max=67349.0, style=ProgressStyle(descrip…"
            ]
          },
          "metadata": {
            "tags": []
          }
        },
        {
          "output_type": "stream",
          "text": [
            "\n"
          ],
          "name": "stdout"
        },
        {
          "output_type": "display_data",
          "data": {
            "application/vnd.jupyter.widget-view+json": {
              "model_id": "564d0696a5da499388159140ea50ef99",
              "version_minor": 0,
              "version_major": 2
            },
            "text/plain": [
              "HBox(children=(FloatProgress(value=0.0, description='Dev cleaning', max=872.0, style=ProgressStyle(description…"
            ]
          },
          "metadata": {
            "tags": []
          }
        },
        {
          "output_type": "stream",
          "text": [
            "\n"
          ],
          "name": "stdout"
        },
        {
          "output_type": "display_data",
          "data": {
            "application/vnd.jupyter.widget-view+json": {
              "model_id": "343a710a762647abad47f2cae37f8ed2",
              "version_minor": 0,
              "version_major": 2
            },
            "text/plain": [
              "HBox(children=(FloatProgress(value=0.0, description='Test cleaning', max=1821.0, style=ProgressStyle(descripti…"
            ]
          },
          "metadata": {
            "tags": []
          }
        },
        {
          "output_type": "stream",
          "text": [
            "\n"
          ],
          "name": "stdout"
        }
      ]
    },
    {
      "cell_type": "markdown",
      "metadata": {
        "id": "fHw0Uk62xaWI"
      },
      "source": [
        "## Create Word2Vec model"
      ]
    },
    {
      "cell_type": "code",
      "metadata": {
        "id": "6bbpTOT7xdN9"
      },
      "source": [
        "import gensim # pip install gensim\r\n",
        "from gensim.models.word2vec import Word2Vec # word2vec model gensim class\r\n",
        "TaggedDocument = gensim.models.doc2vec.TaggedDocument"
      ],
      "execution_count": null,
      "outputs": []
    },
    {
      "cell_type": "code",
      "metadata": {
        "colab": {
          "base_uri": "https://localhost:8080/",
          "height": 186,
          "referenced_widgets": [
            "00bec7ab396d47a1ade861617f690058",
            "bda244fbae69439fb69501e0f7562790",
            "1a69081d4e654b12b5d857d6a9332d3f",
            "84644db2bfe44acdb408e798fcf432e6",
            "e91a9fc67dc245d38e06e81d62511adc",
            "668b3d04a7934279b43b2c91d214f456",
            "130e260c4f784ad28219f3f2740fb416",
            "efa80bd91c1a48fca49964baa296a9b8",
            "3813984d9ad24ba4a64a3a9e8a749001",
            "6f4510d14b234682b4f866677188fcd8",
            "4a793045881b430489a4c8068fbef73a",
            "458d412df3ac4e4eba35cfe8a38332ca",
            "b57242d328ba45849d44d08d043cc7fb",
            "62247ebfadcf4c01876ad176d62ab77d",
            "5731c712b50f4c2aa395681f4cf43782",
            "fb8fab79e01045ad972bde0da1af054b",
            "fb77f9132b7f4893a4642ee0d357ba62",
            "c0bc4878c8604a339d253d28021a5c2c",
            "72b09238732f44a5813adb782fcd5a07",
            "09d9f9e8a5344801bdf5ac9630ecb7c8",
            "fb0c1fbad33b4f5ba001bc53e3ff643c",
            "cc5ea8ed9f39416c8492bbc83f4332d6",
            "f33721ac1c214e058f35293960bc3917",
            "cc7824c56df54675a701daf3b70203c2"
          ]
        },
        "id": "bazLKgVryFUd",
        "outputId": "2b041abf-575e-4917-c332-6fdce5e2ca6a"
      },
      "source": [
        "from sklearn.model_selection import train_test_split\r\n",
        "\r\n",
        "tokenized_tr = [ nltk.word_tokenize(text) for text in tqdm(clean_sst2_train, desc= \"Tokenize train\")]\r\n",
        "print(tokenized_tr[0])\r\n",
        "tokenized_dev = [ nltk.word_tokenize(text) for text in tqdm(clean_sst2_dev, \"Tokenize dev\")]\r\n",
        "tokenized_te = [ nltk.word_tokenize(text) for text in tqdm(clean_sst2_test, \"Tokenize test\")]"
      ],
      "execution_count": null,
      "outputs": [
        {
          "output_type": "display_data",
          "data": {
            "application/vnd.jupyter.widget-view+json": {
              "model_id": "00bec7ab396d47a1ade861617f690058",
              "version_minor": 0,
              "version_major": 2
            },
            "text/plain": [
              "HBox(children=(FloatProgress(value=0.0, description='Tokenize train', max=67349.0, style=ProgressStyle(descrip…"
            ]
          },
          "metadata": {
            "tags": []
          }
        },
        {
          "output_type": "stream",
          "text": [
            "\n",
            "['hide', 'new', 'secretion', 'parental', 'unit']\n"
          ],
          "name": "stdout"
        },
        {
          "output_type": "display_data",
          "data": {
            "application/vnd.jupyter.widget-view+json": {
              "model_id": "3813984d9ad24ba4a64a3a9e8a749001",
              "version_minor": 0,
              "version_major": 2
            },
            "text/plain": [
              "HBox(children=(FloatProgress(value=0.0, description='Tokenize dev', max=872.0, style=ProgressStyle(description…"
            ]
          },
          "metadata": {
            "tags": []
          }
        },
        {
          "output_type": "stream",
          "text": [
            "\n"
          ],
          "name": "stdout"
        },
        {
          "output_type": "display_data",
          "data": {
            "application/vnd.jupyter.widget-view+json": {
              "model_id": "fb77f9132b7f4893a4642ee0d357ba62",
              "version_minor": 0,
              "version_major": 2
            },
            "text/plain": [
              "HBox(children=(FloatProgress(value=0.0, description='Tokenize test', max=1821.0, style=ProgressStyle(descripti…"
            ]
          },
          "metadata": {
            "tags": []
          }
        },
        {
          "output_type": "stream",
          "text": [
            "\n"
          ],
          "name": "stdout"
        }
      ]
    },
    {
      "cell_type": "markdown",
      "metadata": {
        "id": "pMfUEAuoCCsR"
      },
      "source": [
        "# TF-IDF embeddings\r\n",
        "\r\n",
        "TF-IDF has several parameters `max_features` (words that will be used as features. This is the vocabulary extracted for computing TF-IDF), `min_df` and `man_df` (words below or above these thresholds will be omitted for building the vocabulary), `ngram_range` (select if considering unigrams, bigrams, trigrams...). "
      ]
    },
    {
      "cell_type": "code",
      "metadata": {
        "colab": {
          "base_uri": "https://localhost:8080/"
        },
        "id": "eFi_15NTyN-n",
        "outputId": "81b0d60e-7bd8-4b5e-ddcc-c401bb844250"
      },
      "source": [
        "from sklearn.feature_extraction.text import TfidfVectorizer\r\n",
        "\r\n",
        "print('building tf-idf matrix ...')\r\n",
        "max_features = 5000\r\n",
        "vectorizer = TfidfVectorizer(max_features=max_features, min_df=0, max_df=0.8, \r\n",
        "                    strip_accents='unicode', ngram_range=(1, 3))\r\n",
        "                                                                            \r\n",
        "vectorizer.fit(clean_sst2_train)\r\n",
        "IDFs = dict(zip(vectorizer.get_feature_names(), vectorizer.idf_))\r\n",
        "print('size of vocabulary obtained with TfidfVectorizer:', len(IDFs))\r\n",
        "# print('size of vocabulary obtained with word2vec:', len(w2v.wv.vocab))\r\n",
        "print(\"Some idfs:\")\r\n",
        "aux = list(IDFs.items())\r\n",
        "for i in list(range(3))+list(range(1000,1005)):\r\n",
        "    print(\"  \", aux[i])"
      ],
      "execution_count": null,
      "outputs": [
        {
          "output_type": "stream",
          "text": [
            "building tf-idf matrix ...\n",
            "size of vocabulary obtained with TfidfVectorizer: 5000\n",
            "Some idfs:\n",
            "   ('19th', 9.284444837782294)\n",
            "   ('19th century', 9.284444837782294)\n",
            "   ('20th', 9.026615728480195)\n",
            "   ('debt', 9.227286423942346)\n",
            "   ('debut', 7.183184248707819)\n",
            "   ('decade', 7.760949355148918)\n",
            "   ('decent', 7.313637137105253)\n",
            "   ('decent performance', 9.227286423942346)\n"
          ],
          "name": "stdout"
        }
      ]
    },
    {
      "cell_type": "markdown",
      "metadata": {
        "id": "FmfV32JjCG5I"
      },
      "source": [
        "# Combine TF-IDF and Word2Vec"
      ]
    },
    {
      "cell_type": "code",
      "metadata": {
        "id": "QHWCVuLk5lLB"
      },
      "source": [
        "\r\n",
        "\r\n",
        "def Text2Vec(tokens, size):\r\n",
        "    vec = np.zeros(size).reshape((1, size))\r\n",
        "    count = 0.\r\n",
        "    for word in tokens:\r\n",
        "        try:\r\n",
        "            vec += glove_vectors.wv[word].reshape((1, size)) * IDFs[word] # el embedding lo multiplica por el IDF\r\n",
        "            count += 1.\r\n",
        "        except KeyError: # handling the case where the token is not\r\n",
        "                         # in the corpus. useful for testing.\r\n",
        "            continue\r\n",
        "    if count != 0:\r\n",
        "        vec /= count\r\n",
        "    return vec"
      ],
      "execution_count": null,
      "outputs": []
    },
    {
      "cell_type": "code",
      "metadata": {
        "colab": {
          "base_uri": "https://localhost:8080/"
        },
        "id": "dc39RCuq3Aqe",
        "outputId": "5c183d38-c738-43bc-b412-a9b1b2b002fe"
      },
      "source": [
        "# Download the pre-trained model from Gensim\r\n",
        "import gensim.downloader\r\n",
        "glove_vectors = gensim.downloader.load('word2vec-google-news-300')"
      ],
      "execution_count": null,
      "outputs": [
        {
          "output_type": "stream",
          "text": [
            "[==================================================] 100.0% 1662.8/1662.8MB downloaded\n"
          ],
          "name": "stdout"
        }
      ]
    },
    {
      "cell_type": "code",
      "metadata": {
        "colab": {
          "base_uri": "https://localhost:8080/",
          "height": 224,
          "referenced_widgets": [
            "c9eff15f1d6f42df855c4b685ac246f5",
            "42d9361196b244ad9836b70906d65f39",
            "1ac049fd9803499d87fa028c54bfcc9f",
            "d18996a470de4887a154e54a7d1c13bb",
            "aa1d102759cc4118ba0fb3259eb4b77a",
            "c6b1159daba84541a5175beea5ed0d6f",
            "b3b115859755486996ef7cf30a373197",
            "a5e1e6bd00fb4fe796fcb402b09c135f",
            "d11c384425c344dab8db3be271a4a9ce",
            "526918b0c21d4ba49087a777764ee709",
            "2627cfa86cfa46939429df996ba0460f",
            "0726c5935c124488b66cf76b404f6b6b",
            "9cb5be8d793a40f5a89ccc47785fe225",
            "84a3b44cace942939eb223ac87f1d60c",
            "11034a77237b46f784b5b4938977d472",
            "fc6e6110518e4b799e3d9647cfa7ae08",
            "3ca7e882f03a4b37b6b2df85b693acf2",
            "74deb91e10bd43f387a0d2c42afc0462",
            "2ac5453ce89e406183d4bdbe10c42836",
            "5dafef5f06df4dfb9088999ea3b3abb8",
            "9a7bf9762f974388998dae92c1c9e8e3",
            "9e5a395e99d743f3a27a84e5fabb324c",
            "479301d8caea419abf2da76ee1ea02e7",
            "de9b6d9bafe14f36a6522c9a2c87f6e1"
          ]
        },
        "id": "tUhbNK4H_YeX",
        "outputId": "a9dbcaa3-b6fa-429b-cbb0-4448213d655f"
      },
      "source": [
        "vec_dim = 300\r\n",
        "vecs_train = np.zeros((len(tokenized_tr), vec_dim))\r\n",
        "for i,x in tqdm(enumerate(tokenized_tr), total=len(tokenized_tr), desc=\"Train vecs\"):\r\n",
        "    vecs_train[i] = Text2Vec(x, vec_dim)\r\n",
        "\r\n",
        "vecs_dev = np.zeros((len(tokenized_dev), vec_dim))\r\n",
        "for i,x in tqdm(enumerate(tokenized_dev), total=len(tokenized_dev), desc=\"Dev vecs\"):\r\n",
        "    vecs_dev[i] = Text2Vec(x, vec_dim)\r\n",
        "\r\n",
        "vecs_test = np.zeros((len(tokenized_te), vec_dim))\r\n",
        "for i,x in tqdm(enumerate(tokenized_te), total=len(tokenized_te), desc=\"Test vecs\"):\r\n",
        "    vecs_test[i] = Text2Vec(x, vec_dim)"
      ],
      "execution_count": null,
      "outputs": [
        {
          "output_type": "display_data",
          "data": {
            "application/vnd.jupyter.widget-view+json": {
              "model_id": "c9eff15f1d6f42df855c4b685ac246f5",
              "version_minor": 0,
              "version_major": 2
            },
            "text/plain": [
              "HBox(children=(FloatProgress(value=0.0, description='Train vecs', max=67349.0, style=ProgressStyle(description…"
            ]
          },
          "metadata": {
            "tags": []
          }
        },
        {
          "output_type": "stream",
          "text": [
            "/usr/local/lib/python3.6/dist-packages/ipykernel_launcher.py:8: DeprecationWarning: Call to deprecated `wv` (Attribute will be removed in 4.0.0, use self instead).\n",
            "  \n"
          ],
          "name": "stderr"
        },
        {
          "output_type": "stream",
          "text": [
            "\n"
          ],
          "name": "stdout"
        },
        {
          "output_type": "display_data",
          "data": {
            "application/vnd.jupyter.widget-view+json": {
              "model_id": "d11c384425c344dab8db3be271a4a9ce",
              "version_minor": 0,
              "version_major": 2
            },
            "text/plain": [
              "HBox(children=(FloatProgress(value=0.0, description='Dev vecs', max=872.0, style=ProgressStyle(description_wid…"
            ]
          },
          "metadata": {
            "tags": []
          }
        },
        {
          "output_type": "stream",
          "text": [
            "\n"
          ],
          "name": "stdout"
        },
        {
          "output_type": "display_data",
          "data": {
            "application/vnd.jupyter.widget-view+json": {
              "model_id": "3ca7e882f03a4b37b6b2df85b693acf2",
              "version_minor": 0,
              "version_major": 2
            },
            "text/plain": [
              "HBox(children=(FloatProgress(value=0.0, description='Test vecs', max=1821.0, style=ProgressStyle(description_w…"
            ]
          },
          "metadata": {
            "tags": []
          }
        },
        {
          "output_type": "stream",
          "text": [
            "\n"
          ],
          "name": "stdout"
        }
      ]
    },
    {
      "cell_type": "markdown",
      "metadata": {
        "id": "BJESOy27CR_n"
      },
      "source": [
        "# ML models"
      ]
    },
    {
      "cell_type": "code",
      "metadata": {
        "id": "igi42NHr0DQH"
      },
      "source": [
        "\r\n",
        "from sklearn import model_selection, naive_bayes, svm\r\n",
        "from sklearn import metrics\r\n",
        "from sklearn.preprocessing import LabelEncoder\r\n",
        "\r\n",
        "from sklearn import model_selection, naive_bayes, svm\r\n",
        "from sklearn.metrics import accuracy_score, matthews_corrcoef\r\n",
        "\r\n",
        "from sklearn.linear_model import LogisticRegression\r\n",
        "from sklearn.model_selection import GridSearchCV"
      ],
      "execution_count": null,
      "outputs": []
    },
    {
      "cell_type": "code",
      "metadata": {
        "id": "dYJ-AK3DRsj_"
      },
      "source": [
        "!pip install wandb -qq"
      ],
      "execution_count": null,
      "outputs": []
    },
    {
      "cell_type": "markdown",
      "metadata": {
        "id": "zrKzlUKB-SfM"
      },
      "source": [
        "## Naive Bayes"
      ]
    },
    {
      "cell_type": "code",
      "metadata": {
        "id": "GKnopoPFdOP8"
      },
      "source": [
        "y_tr = sst2_df_train.labels.to_list()\r\n",
        "y_te = sst2_df_test.labels.to_list()"
      ],
      "execution_count": null,
      "outputs": []
    },
    {
      "cell_type": "code",
      "metadata": {
        "id": "9fM56hae7tGC",
        "colab": {
          "base_uri": "https://localhost:8080/",
          "height": 1000,
          "referenced_widgets": [
            "88ff451cc82e4f1a901087e36e4ab8fe",
            "cddb10880bb24fb9983823e1e3f12df3",
            "f5f62b4b606b48f888341a77b23677ee",
            "9477d31457bf44a4a0a3a47ce608af40",
            "5ce54c61f1ee45d099df9c758a1b17bb",
            "1eb6045418504abab38177d6607d78d0",
            "bcfd9acadaa24f038996680c2451a853",
            "da81efb628d4489ba84a9080b7844b53",
            "d18a7fb6a7434dfdade028c65b43df49",
            "9d5e4aec60d14a36bf31e84e167399e6",
            "81367f80e9b94d75933b9e7389ec0145",
            "f4f59f977f34402984765ad456d3154c",
            "b89dbb5e88034980b81779ce2731b7f0",
            "85e402f4f07e449cb91ee4167c275ae3",
            "86fa18e07f20497e9ca13707b8a3a484",
            "97b33bdb7dc5470886b1f498379a7a09"
          ]
        },
        "outputId": "e53f0f49-0c01-448d-95d0-38543e6868fd"
      },
      "source": [
        "from sklearn.naive_bayes import GaussianNB\n",
        "import wandb\n",
        "wandb.init(project=\"sklearn-sst2-gensim\")\n",
        "y_tr = sst2_df_train.labels.to_list()\n",
        "y_te = sst2_df_test.labels.to_list()\n",
        "\n",
        "\n",
        "Naive = naive_bayes.GaussianNB()\n",
        "Naive.fit(vecs_train, y_tr)\n",
        "\n",
        "# predict the labels on validation dataset\n",
        "predictions_NB = Naive.predict(vecs_test)\n",
        "\n",
        "# Use accuracy_score function to get the accuracy\n",
        "print(\"Naive Bayes Accuracy Score -> \",accuracy_score(y_te, predictions_NB)*100)\n",
        "# Print the precision and recall, among other metrics\n",
        "print(metrics.classification_report(y_te, predictions_NB, digits=3))\n",
        "# Print the confusion matrix\n",
        "print(metrics.confusion_matrix(y_te, predictions_NB))\n",
        "print(\"MCC\", matthews_corrcoef(y_te, predictions_NB))\n",
        "\n",
        "# Visualize all classifier plots\n",
        "wandb.sklearn.plot_classifier(Naive, vecs_train, vecs_test, y_tr, y_te, predictions_NB, y_probas=Naive.predict_proba(vecs_test),\n",
        "                              labels= [\"Negative\", \"Positive\"],\n",
        "                              model_name='Naive Bayes', \n",
        "                              feature_names= None)\n",
        "wandb.finish()"
      ],
      "execution_count": null,
      "outputs": [
        {
          "output_type": "display_data",
          "data": {
            "text/html": [
              "Finishing last run (ID:1o0ocf2q) before initializing another..."
            ],
            "text/plain": [
              "<IPython.core.display.HTML object>"
            ]
          },
          "metadata": {
            "tags": []
          }
        },
        {
          "output_type": "display_data",
          "data": {
            "text/html": [
              "<br/>Waiting for W&B process to finish, PID 304<br/>Program ended successfully."
            ],
            "text/plain": [
              "<IPython.core.display.HTML object>"
            ]
          },
          "metadata": {
            "tags": []
          }
        },
        {
          "output_type": "display_data",
          "data": {
            "application/vnd.jupyter.widget-view+json": {
              "model_id": "88ff451cc82e4f1a901087e36e4ab8fe",
              "version_minor": 0,
              "version_major": 2
            },
            "text/plain": [
              "VBox(children=(Label(value=' 0.00MB of 0.00MB uploaded (0.00MB deduped)\\r'), FloatProgress(value=1.0, max=1.0)…"
            ]
          },
          "metadata": {
            "tags": []
          }
        },
        {
          "output_type": "display_data",
          "data": {
            "text/html": [
              "Find user logs for this run at: <code>/content/wandb/run-20210107_180948-1o0ocf2q/logs/debug.log</code>"
            ],
            "text/plain": [
              "<IPython.core.display.HTML object>"
            ]
          },
          "metadata": {
            "tags": []
          }
        },
        {
          "output_type": "display_data",
          "data": {
            "text/html": [
              "Find internal logs for this run at: <code>/content/wandb/run-20210107_180948-1o0ocf2q/logs/debug-internal.log</code>"
            ],
            "text/plain": [
              "<IPython.core.display.HTML object>"
            ]
          },
          "metadata": {
            "tags": []
          }
        },
        {
          "output_type": "display_data",
          "data": {
            "text/html": [
              "Synced 5 W&B file(s), 0 media file(s), 0 artifact file(s) and 0 other file(s)"
            ],
            "text/plain": [
              "<IPython.core.display.HTML object>"
            ]
          },
          "metadata": {
            "tags": []
          }
        },
        {
          "output_type": "display_data",
          "data": {
            "text/html": [
              "\n",
              "                    <br/>Synced <strong style=\"color:#cdcd00\">tough-galaxy-7</strong>: <a href=\"https://wandb.ai/huertas_97/sklearn-sst2-gensim/runs/1o0ocf2q\" target=\"_blank\">https://wandb.ai/huertas_97/sklearn-sst2-gensim/runs/1o0ocf2q</a><br/>\n",
              "                "
            ],
            "text/plain": [
              "<IPython.core.display.HTML object>"
            ]
          },
          "metadata": {
            "tags": []
          }
        },
        {
          "output_type": "display_data",
          "data": {
            "text/html": [
              "...Successfully finished last run (ID:1o0ocf2q). Initializing new run:<br/><br/>"
            ],
            "text/plain": [
              "<IPython.core.display.HTML object>"
            ]
          },
          "metadata": {
            "tags": []
          }
        },
        {
          "output_type": "display_data",
          "data": {
            "text/html": [
              "\n",
              "                Tracking run with wandb version 0.10.12<br/>\n",
              "                Syncing run <strong style=\"color:#cdcd00\">lemon-fire-8</strong> to <a href=\"https://wandb.ai\" target=\"_blank\">Weights & Biases</a> <a href=\"https://docs.wandb.com/integrations/jupyter.html\" target=\"_blank\">(Documentation)</a>.<br/>\n",
              "                Project page: <a href=\"https://wandb.ai/huertas_97/sklearn-sst2-gensim\" target=\"_blank\">https://wandb.ai/huertas_97/sklearn-sst2-gensim</a><br/>\n",
              "                Run page: <a href=\"https://wandb.ai/huertas_97/sklearn-sst2-gensim/runs/aq93ux65\" target=\"_blank\">https://wandb.ai/huertas_97/sklearn-sst2-gensim/runs/aq93ux65</a><br/>\n",
              "                Run data is saved locally in <code>/content/wandb/run-20210107_180958-aq93ux65</code><br/><br/>\n",
              "            "
            ],
            "text/plain": [
              "<IPython.core.display.HTML object>"
            ]
          },
          "metadata": {
            "tags": []
          }
        },
        {
          "output_type": "stream",
          "text": [
            "\u001b[34m\u001b[1mwandb\u001b[0m: \n",
            "\u001b[34m\u001b[1mwandb\u001b[0m: Plotting Naive Bayes.\n",
            "\u001b[34m\u001b[1mwandb\u001b[0m: \u001b[33mWARNING\u001b[0m feature_importances_ or coef_ attribute not in classifier. Cannot plot feature importances.\n",
            "\u001b[34m\u001b[1mwandb\u001b[0m: Logged feature importances.\n"
          ],
          "name": "stderr"
        },
        {
          "output_type": "stream",
          "text": [
            "Naive Bayes Accuracy Score ->  66.61175178473367\n",
            "              precision    recall  f1-score   support\n",
            "\n",
            "           0      0.857     0.400     0.546       912\n",
            "           1      0.608     0.933     0.736       909\n",
            "\n",
            "    accuracy                          0.666      1821\n",
            "   macro avg      0.732     0.667     0.641      1821\n",
            "weighted avg      0.733     0.666     0.641      1821\n",
            "\n",
            "[[365 547]\n",
            " [ 61 848]]\n",
            "MCC 0.39343999097342797\n"
          ],
          "name": "stdout"
        },
        {
          "output_type": "stream",
          "text": [
            "\u001b[34m\u001b[1mwandb\u001b[0m: Logged learning curve.\n",
            "\u001b[34m\u001b[1mwandb\u001b[0m: Logged confusion matrix.\n",
            "\u001b[34m\u001b[1mwandb\u001b[0m: Logged summary metrics.\n",
            "\u001b[34m\u001b[1mwandb\u001b[0m: Logged class proportions.\n",
            "\u001b[34m\u001b[1mwandb\u001b[0m: Logged calibration curve.\n",
            "\u001b[34m\u001b[1mwandb\u001b[0m: Logged roc curve.\n",
            "\u001b[34m\u001b[1mwandb\u001b[0m: Logged precision recall curve.\n"
          ],
          "name": "stderr"
        },
        {
          "output_type": "display_data",
          "data": {
            "text/html": [
              "<br/>Waiting for W&B process to finish, PID 336<br/>Program ended successfully."
            ],
            "text/plain": [
              "<IPython.core.display.HTML object>"
            ]
          },
          "metadata": {
            "tags": []
          }
        },
        {
          "output_type": "display_data",
          "data": {
            "application/vnd.jupyter.widget-view+json": {
              "model_id": "d18a7fb6a7434dfdade028c65b43df49",
              "version_minor": 0,
              "version_major": 2
            },
            "text/plain": [
              "VBox(children=(Label(value=' 0.04MB of 0.04MB uploaded (0.00MB deduped)\\r'), FloatProgress(value=1.0, max=1.0)…"
            ]
          },
          "metadata": {
            "tags": []
          }
        },
        {
          "output_type": "display_data",
          "data": {
            "text/html": [
              "Find user logs for this run at: <code>/content/wandb/run-20210107_180958-aq93ux65/logs/debug.log</code>"
            ],
            "text/plain": [
              "<IPython.core.display.HTML object>"
            ]
          },
          "metadata": {
            "tags": []
          }
        },
        {
          "output_type": "display_data",
          "data": {
            "text/html": [
              "Find internal logs for this run at: <code>/content/wandb/run-20210107_180958-aq93ux65/logs/debug-internal.log</code>"
            ],
            "text/plain": [
              "<IPython.core.display.HTML object>"
            ]
          },
          "metadata": {
            "tags": []
          }
        },
        {
          "output_type": "display_data",
          "data": {
            "text/html": [
              "<h3>Run summary:</h3><br/><style>\n",
              "    table.wandb td:nth-child(1) { padding: 0 10px; text-align: right }\n",
              "    </style><table class=\"wandb\">\n",
              "<tr><td>_step</td><td>6</td></tr><tr><td>_runtime</td><td>26</td></tr><tr><td>_timestamp</td><td>1610043027</td></tr></table>"
            ],
            "text/plain": [
              "<IPython.core.display.HTML object>"
            ]
          },
          "metadata": {
            "tags": []
          }
        },
        {
          "output_type": "display_data",
          "data": {
            "text/html": [
              "<h3>Run history:</h3><br/><style>\n",
              "    table.wandb td:nth-child(1) { padding: 0 10px; text-align: right }\n",
              "    </style><table class=\"wandb\">\n",
              "<tr><td>_step</td><td>▁▂▃▅▆▇█</td></tr><tr><td>_runtime</td><td>▁▁▅▅███</td></tr><tr><td>_timestamp</td><td>▁▁▅▅███</td></tr></table><br/>"
            ],
            "text/plain": [
              "<IPython.core.display.HTML object>"
            ]
          },
          "metadata": {
            "tags": []
          }
        },
        {
          "output_type": "display_data",
          "data": {
            "text/html": [
              "Synced 5 W&B file(s), 7 media file(s), 0 artifact file(s) and 0 other file(s)"
            ],
            "text/plain": [
              "<IPython.core.display.HTML object>"
            ]
          },
          "metadata": {
            "tags": []
          }
        },
        {
          "output_type": "display_data",
          "data": {
            "text/html": [
              "\n",
              "                    <br/>Synced <strong style=\"color:#cdcd00\">lemon-fire-8</strong>: <a href=\"https://wandb.ai/huertas_97/sklearn-sst2-gensim/runs/aq93ux65\" target=\"_blank\">https://wandb.ai/huertas_97/sklearn-sst2-gensim/runs/aq93ux65</a><br/>\n",
              "                "
            ],
            "text/plain": [
              "<IPython.core.display.HTML object>"
            ]
          },
          "metadata": {
            "tags": []
          }
        }
      ]
    },
    {
      "cell_type": "markdown",
      "metadata": {
        "id": "UIXgls9V6AmI"
      },
      "source": [
        ""
      ]
    },
    {
      "cell_type": "markdown",
      "metadata": {
        "id": "8Knvvr0k9b6v"
      },
      "source": [
        "## Logistic Regression"
      ]
    },
    {
      "cell_type": "code",
      "metadata": {
        "id": "MFfkwnFP9ar_"
      },
      "source": [
        "from sklearn.linear_model import LogisticRegression\n",
        "model = LogisticRegression(fit_intercept=True, random_state=0, max_iter=1000,\n",
        "                           penalty='l1', solver = \"liblinear\")\n",
        "\n",
        "model.fit(vecs_train, y_tr)\n",
        "\n",
        "\n",
        "# predict the labels on validation dataset\n",
        "predictions_LR = model.predict(vecs_test)\n",
        "\n",
        "# Use accuracy_score function to get the accuracy\n",
        "print(\"Logistic Regression Accuracy Score -> \",accuracy_score(y_te, predictions_LR)*100)\n",
        "print(metrics.classification_report(y_te, predictions_LR))"
      ],
      "execution_count": null,
      "outputs": []
    },
    {
      "cell_type": "markdown",
      "metadata": {
        "id": "1SAGwHty9asl"
      },
      "source": [
        "# L1"
      ]
    },
    {
      "cell_type": "code",
      "metadata": {
        "colab": {
          "base_uri": "https://localhost:8080/"
        },
        "id": "vBAIIKPe897q",
        "outputId": "662096e5-4c80-490f-f62f-c3efd637ceb1"
      },
      "source": [
        "from sklearn.metrics import  make_scorer\r\n",
        "# Set the parameters by cross-validation\r\n",
        "tuned_parameters = [{'C': np.logspace(-3, 1, 6), \"max_iter\": [1000]}]\r\n",
        "\r\n",
        "scores = [\"accuracy\"]\r\n",
        "\r\n",
        "for score in scores:\r\n",
        "    print(\"# Tuning hyper-parameters for %s\" % score)\r\n",
        "    print()\r\n",
        "          \r\n",
        "    knn = GridSearchCV(\r\n",
        "        LogisticRegression(penalty='l1', solver = \"liblinear\"), \r\n",
        "        cv=5, \r\n",
        "        param_grid=tuned_parameters,\r\n",
        "        scoring=make_scorer(accuracy_score),\r\n",
        "        n_jobs = 2\r\n",
        "      )\r\n",
        "      \r\n",
        "    knn.fit(vecs_train, y_tr)\r\n",
        "\r\n",
        "    print(\"Best parameters set found on development set:\")\r\n",
        "    print()\r\n",
        "    print(knn.best_params_)\r\n",
        "    print()\r\n",
        "    print(\"Grid scores on development set:\")\r\n",
        "    print()\r\n",
        "    means = knn.cv_results_['mean_test_score']\r\n",
        "    stds = knn.cv_results_['std_test_score']\r\n",
        "    for mean, std, params in zip(means, stds, knn.cv_results_['params']):\r\n",
        "        print(\"%0.3f (+/-%0.03f) for %r\"\r\n",
        "              % (mean, std * 2, params))\r\n",
        "    print()\r\n",
        "\r\n",
        "    print(\"Detailed classification report:\")\r\n",
        "    print()\r\n",
        "    print(\"The model is trained on the full development set.\")\r\n",
        "    print(\"The scores are computed on the full evaluation set.\")\r\n",
        "    print()\r\n",
        "    y_true, y_pred = y_te, knn.predict(vecs_test)\r\n",
        "    print(\"Accuracy Score -> \",accuracy_score(y_true, y_pred)*100)\r\n",
        "    print(\"MCC\", matthews_corrcoef(y_true, y_pred))\r\n",
        "    print(metrics.classification_report(y_true, y_pred))\r\n",
        "    print()"
      ],
      "execution_count": null,
      "outputs": [
        {
          "output_type": "stream",
          "text": [
            "# Tuning hyper-parameters for accuracy\n",
            "\n",
            "Best parameters set found on development set:\n",
            "\n",
            "{'C': 0.039810717055349734, 'max_iter': 1000}\n",
            "\n",
            "Grid scores on development set:\n",
            "\n",
            "0.763 (+/-0.003) for {'C': 0.001, 'max_iter': 1000}\n",
            "0.790 (+/-0.002) for {'C': 0.00630957344480193, 'max_iter': 1000}\n",
            "0.796 (+/-0.003) for {'C': 0.039810717055349734, 'max_iter': 1000}\n",
            "0.796 (+/-0.003) for {'C': 0.25118864315095824, 'max_iter': 1000}\n",
            "0.796 (+/-0.003) for {'C': 1.584893192461114, 'max_iter': 1000}\n",
            "0.796 (+/-0.003) for {'C': 10.0, 'max_iter': 1000}\n",
            "\n",
            "Detailed classification report:\n",
            "\n",
            "The model is trained on the full development set.\n",
            "The scores are computed on the full evaluation set.\n",
            "\n",
            "Accuracy Score ->  77.64964305326744\n",
            "MCC 0.5613056067357155\n",
            "              precision    recall  f1-score   support\n",
            "\n",
            "           0       0.83      0.69      0.76       912\n",
            "           1       0.74      0.86      0.79       909\n",
            "\n",
            "    accuracy                           0.78      1821\n",
            "   macro avg       0.78      0.78      0.77      1821\n",
            "weighted avg       0.78      0.78      0.77      1821\n",
            "\n",
            "\n"
          ],
          "name": "stdout"
        }
      ]
    },
    {
      "cell_type": "code",
      "metadata": {
        "colab": {
          "base_uri": "https://localhost:8080/",
          "height": 729,
          "referenced_widgets": [
            "635e6bcca5f44b69a289bc6cf91c416f",
            "17214d5022724a9987366f2fa930e3db",
            "fddff322c7ee4c72ac94499c8f33fe2c",
            "c07a2d4f7eea45ac9eee9d2c0d9641b5",
            "636c4553fcbe4f78855d742167636ebc",
            "3afb06b6569a407d8be80219bf436a3e",
            "c971b95a9a2c41059ac33ed7930db2b2",
            "091ced056b024758833eff6ba10732a8"
          ]
        },
        "id": "ZCKEdGAd1PeZ",
        "outputId": "f5e855af-b2a5-48a1-aec5-3f92fa77895e"
      },
      "source": [
        "import wandb\r\n",
        "wandb.init(project=\"sklearn-sst2-gensim\")\r\n",
        "log_l1 = LogisticRegression(penalty='l1', solver = \"liblinear\", max_iter = 1000,\r\n",
        "                         C=0.039810717055349734)\r\n",
        "log_l1.fit(vecs_train, y_tr)\r\n",
        "y_true, y_pred = y_te, log_l1.predict(vecs_test)\r\n",
        "print(\"Accuracy Score -> \",accuracy_score(y_true, y_pred)*100)\r\n",
        "\r\n",
        "# predict the labels on validation dataset\r\n",
        "predictions_LR = log_l1.predict(vecs_test)\r\n",
        "\r\n",
        "# Visualize all classifier plots\r\n",
        "wandb.sklearn.plot_classifier(log_l1, vecs_train, vecs_test, y_tr, y_te, predictions_LR, y_probas=log_l1.predict_proba(vecs_test),\r\n",
        "                              labels= [\"Negative\", \"Positive\"],\r\n",
        "                              model_name='Log Reg L1', \r\n",
        "                              feature_names= None)\r\n",
        "wandb.finish()"
      ],
      "execution_count": null,
      "outputs": [
        {
          "output_type": "display_data",
          "data": {
            "text/html": [
              "\n",
              "                Tracking run with wandb version 0.10.12<br/>\n",
              "                Syncing run <strong style=\"color:#cdcd00\">valiant-gorge-9</strong> to <a href=\"https://wandb.ai\" target=\"_blank\">Weights & Biases</a> <a href=\"https://docs.wandb.com/integrations/jupyter.html\" target=\"_blank\">(Documentation)</a>.<br/>\n",
              "                Project page: <a href=\"https://wandb.ai/huertas_97/sklearn-sst2-gensim\" target=\"_blank\">https://wandb.ai/huertas_97/sklearn-sst2-gensim</a><br/>\n",
              "                Run page: <a href=\"https://wandb.ai/huertas_97/sklearn-sst2-gensim/runs/2fbrfttv\" target=\"_blank\">https://wandb.ai/huertas_97/sklearn-sst2-gensim/runs/2fbrfttv</a><br/>\n",
              "                Run data is saved locally in <code>/content/wandb/run-20210107_181827-2fbrfttv</code><br/><br/>\n",
              "            "
            ],
            "text/plain": [
              "<IPython.core.display.HTML object>"
            ]
          },
          "metadata": {
            "tags": []
          }
        },
        {
          "output_type": "stream",
          "text": [
            "\u001b[34m\u001b[1mwandb\u001b[0m: \n",
            "\u001b[34m\u001b[1mwandb\u001b[0m: Plotting Log Reg L1.\n",
            "\u001b[34m\u001b[1mwandb\u001b[0m: Logged feature importances.\n"
          ],
          "name": "stderr"
        },
        {
          "output_type": "stream",
          "text": [
            "Accuracy Score ->  77.64964305326744\n"
          ],
          "name": "stdout"
        },
        {
          "output_type": "stream",
          "text": [
            "\u001b[34m\u001b[1mwandb\u001b[0m: Logged learning curve.\n",
            "\u001b[34m\u001b[1mwandb\u001b[0m: Logged confusion matrix.\n",
            "\u001b[34m\u001b[1mwandb\u001b[0m: Logged summary metrics.\n",
            "\u001b[34m\u001b[1mwandb\u001b[0m: Logged class proportions.\n",
            "\u001b[34m\u001b[1mwandb\u001b[0m: Logged calibration curve.\n",
            "\u001b[34m\u001b[1mwandb\u001b[0m: Logged roc curve.\n",
            "\u001b[34m\u001b[1mwandb\u001b[0m: Logged precision recall curve.\n"
          ],
          "name": "stderr"
        },
        {
          "output_type": "display_data",
          "data": {
            "text/html": [
              "<br/>Waiting for W&B process to finish, PID 475<br/>Program ended successfully."
            ],
            "text/plain": [
              "<IPython.core.display.HTML object>"
            ]
          },
          "metadata": {
            "tags": []
          }
        },
        {
          "output_type": "display_data",
          "data": {
            "application/vnd.jupyter.widget-view+json": {
              "model_id": "635e6bcca5f44b69a289bc6cf91c416f",
              "version_minor": 0,
              "version_major": 2
            },
            "text/plain": [
              "VBox(children=(Label(value=' 0.04MB of 0.04MB uploaded (0.00MB deduped)\\r'), FloatProgress(value=1.0, max=1.0)…"
            ]
          },
          "metadata": {
            "tags": []
          }
        },
        {
          "output_type": "display_data",
          "data": {
            "text/html": [
              "Find user logs for this run at: <code>/content/wandb/run-20210107_181827-2fbrfttv/logs/debug.log</code>"
            ],
            "text/plain": [
              "<IPython.core.display.HTML object>"
            ]
          },
          "metadata": {
            "tags": []
          }
        },
        {
          "output_type": "display_data",
          "data": {
            "text/html": [
              "Find internal logs for this run at: <code>/content/wandb/run-20210107_181827-2fbrfttv/logs/debug-internal.log</code>"
            ],
            "text/plain": [
              "<IPython.core.display.HTML object>"
            ]
          },
          "metadata": {
            "tags": []
          }
        },
        {
          "output_type": "display_data",
          "data": {
            "text/html": [
              "<h3>Run summary:</h3><br/><style>\n",
              "    table.wandb td:nth-child(1) { padding: 0 10px; text-align: right }\n",
              "    </style><table class=\"wandb\">\n",
              "<tr><td>_step</td><td>7</td></tr><tr><td>_runtime</td><td>58</td></tr><tr><td>_timestamp</td><td>1610043565</td></tr></table>"
            ],
            "text/plain": [
              "<IPython.core.display.HTML object>"
            ]
          },
          "metadata": {
            "tags": []
          }
        },
        {
          "output_type": "display_data",
          "data": {
            "text/html": [
              "<h3>Run history:</h3><br/><style>\n",
              "    table.wandb td:nth-child(1) { padding: 0 10px; text-align: right }\n",
              "    </style><table class=\"wandb\">\n",
              "<tr><td>_step</td><td>▁▂▃▄▅▆▇█</td></tr><tr><td>_runtime</td><td>▁▆▆▇▇███</td></tr><tr><td>_timestamp</td><td>▁▆▆▇▇███</td></tr></table><br/>"
            ],
            "text/plain": [
              "<IPython.core.display.HTML object>"
            ]
          },
          "metadata": {
            "tags": []
          }
        },
        {
          "output_type": "display_data",
          "data": {
            "text/html": [
              "Synced 5 W&B file(s), 8 media file(s), 0 artifact file(s) and 0 other file(s)"
            ],
            "text/plain": [
              "<IPython.core.display.HTML object>"
            ]
          },
          "metadata": {
            "tags": []
          }
        },
        {
          "output_type": "display_data",
          "data": {
            "text/html": [
              "\n",
              "                    <br/>Synced <strong style=\"color:#cdcd00\">valiant-gorge-9</strong>: <a href=\"https://wandb.ai/huertas_97/sklearn-sst2-gensim/runs/2fbrfttv\" target=\"_blank\">https://wandb.ai/huertas_97/sklearn-sst2-gensim/runs/2fbrfttv</a><br/>\n",
              "                "
            ],
            "text/plain": [
              "<IPython.core.display.HTML object>"
            ]
          },
          "metadata": {
            "tags": []
          }
        }
      ]
    },
    {
      "cell_type": "markdown",
      "metadata": {
        "id": "qP_xMeafE9jd"
      },
      "source": [
        "# KNN"
      ]
    },
    {
      "cell_type": "code",
      "metadata": {
        "colab": {
          "base_uri": "https://localhost:8080/"
        },
        "id": "csRnpucP-3lo",
        "outputId": "2bccc996-08ed-49b5-a726-4efa051292f7"
      },
      "source": [
        "from sklearn.metrics import  make_scorer\r\n",
        "from sklearn.neighbors import KNeighborsClassifier\r\n",
        "\r\n",
        "# Set the parameters by cross-validation\r\n",
        "tuned_parameters = [{'n_neighbors':[1, 3, 5, 7, 11, 15, 20, 25, 30, 50, 100, 150, 200]}]\r\n",
        "\r\n",
        "scores = [\"accuracy\"]\r\n",
        "\r\n",
        "for score in scores:\r\n",
        "    print(\"# Tuning hyper-parameters for %s\" % score)\r\n",
        "    print()\r\n",
        "          \r\n",
        "    knn = GridSearchCV(\r\n",
        "        KNeighborsClassifier(), tuned_parameters, scoring=make_scorer(accuracy_score), cv = 5 \r\n",
        "      )\r\n",
        "      \r\n",
        "    knn.fit(vecs_train, y_tr)\r\n",
        "\r\n",
        "    print(\"Best parameters set found on development set:\")\r\n",
        "    print()\r\n",
        "    print(knn.best_params_)\r\n",
        "    print()\r\n",
        "    print(\"Grid scores on development set:\")\r\n",
        "    print()\r\n",
        "    means = knn.cv_results_['mean_test_score']\r\n",
        "    stds = knn.cv_results_['std_test_score']\r\n",
        "    for mean, std, params in zip(means, stds, knn.cv_results_['params']):\r\n",
        "        print(\"%0.3f (+/-%0.03f) for %r\"\r\n",
        "              % (mean, std * 2, params))\r\n",
        "    print()\r\n",
        "\r\n",
        "    print(\"Detailed classification report:\")\r\n",
        "    print()\r\n",
        "    print(\"The model is trained on the full development set.\")\r\n",
        "    print(\"The scores are computed on the full evaluation set.\")\r\n",
        "    print()\r\n",
        "    y_true, y_pred = y_te, knn.predict(vecs_test)\r\n",
        "    print(\"Accuracy Score -> \",accuracy_score(y_true, y_pred)*100)\r\n",
        "    print(\"MCC\", matthews_corrcoef(y_true, y_pred))\r\n",
        "    print(metrics.classification_report(y_true, y_pred))\r\n",
        "    print()"
      ],
      "execution_count": null,
      "outputs": [
        {
          "output_type": "stream",
          "text": [
            "# Tuning hyper-parameters for accuracy\n",
            "\n",
            "Best parameters set found on development set:\n",
            "\n",
            "{'n_neighbors': 1}\n",
            "\n",
            "Grid scores on development set:\n",
            "\n",
            "0.879 (+/-0.010) for {'n_neighbors': 1}\n",
            "0.864 (+/-0.005) for {'n_neighbors': 3}\n",
            "0.850 (+/-0.005) for {'n_neighbors': 5}\n",
            "0.839 (+/-0.007) for {'n_neighbors': 7}\n",
            "0.823 (+/-0.009) for {'n_neighbors': 11}\n",
            "0.814 (+/-0.008) for {'n_neighbors': 15}\n",
            "0.810 (+/-0.007) for {'n_neighbors': 20}\n",
            "0.800 (+/-0.005) for {'n_neighbors': 25}\n",
            "0.800 (+/-0.004) for {'n_neighbors': 30}\n",
            "0.790 (+/-0.004) for {'n_neighbors': 50}\n",
            "0.778 (+/-0.003) for {'n_neighbors': 100}\n",
            "0.773 (+/-0.004) for {'n_neighbors': 150}\n",
            "0.771 (+/-0.004) for {'n_neighbors': 200}\n",
            "\n",
            "Detailed classification report:\n",
            "\n",
            "The model is trained on the full development set.\n",
            "The scores are computed on the full evaluation set.\n",
            "\n",
            "Accuracy Score ->  65.40362438220758\n",
            "MCC 0.3166991832162829\n",
            "              precision    recall  f1-score   support\n",
            "\n",
            "           0       0.70      0.54      0.61       912\n",
            "           1       0.62      0.77      0.69       909\n",
            "\n",
            "    accuracy                           0.65      1821\n",
            "   macro avg       0.66      0.65      0.65      1821\n",
            "weighted avg       0.66      0.65      0.65      1821\n",
            "\n",
            "\n"
          ],
          "name": "stdout"
        }
      ]
    },
    {
      "cell_type": "markdown",
      "metadata": {
        "id": "Zi_aDPZdfiJT"
      },
      "source": [
        "# RF"
      ]
    },
    {
      "cell_type": "code",
      "metadata": {
        "colab": {
          "base_uri": "https://localhost:8080/"
        },
        "id": "6KCZIGIWmd6B",
        "outputId": "e03794e7-6e22-4f7d-ebf1-1324db82a183"
      },
      "source": [
        "from sklearn.metrics import  make_scorer\r\n",
        "from sklearn.ensemble import RandomForestClassifier\r\n",
        "\r\n",
        "# Set the parameters by cross-validation\r\n",
        "tuned_parameters = [{'n_estimators':[50, 100, 150, 200, 300, 400, 500],\r\n",
        "                     'max_depth': [10, 20, 30, 40]}]\r\n",
        "\r\n",
        "scores = [\"accuracy\"]\r\n",
        "\r\n",
        "for score in scores:\r\n",
        "    print(\"# Tuning hyper-parameters for %s\" % score)\r\n",
        "    print()\r\n",
        "          \r\n",
        "    knn = GridSearchCV(\r\n",
        "        RandomForestClassifier( max_depth=3, random_state=0), tuned_parameters, scoring=make_scorer(accuracy_score), cv = 2 \r\n",
        "      )\r\n",
        "      \r\n",
        "    knn.fit( vecs_train, y_tr)\r\n",
        "\r\n",
        "    print(\"Best parameters set found on development set:\")\r\n",
        "    print()\r\n",
        "    print(knn.best_params_)\r\n",
        "    print()\r\n",
        "    print(\"Grid scores on development set:\")\r\n",
        "    print()\r\n",
        "    means = knn.cv_results_['mean_test_score']\r\n",
        "    stds = knn.cv_results_['std_test_score']\r\n",
        "    for mean, std, params in zip(means, stds, knn.cv_results_['params']):\r\n",
        "        print(\"%0.3f (+/-%0.03f) for %r\"\r\n",
        "              % (mean, std * 2, params))\r\n",
        "    print()\r\n",
        "\r\n",
        "    print(\"Detailed classification report:\")\r\n",
        "    print()\r\n",
        "    print(\"The model is trained on the full development set.\")\r\n",
        "    print(\"The scores are computed on the full evaluation set.\")\r\n",
        "    print()\r\n",
        "    y_true, y_pred = y_te, knn.predict(vecs_test)\r\n",
        "    print(\"Accuracy Score -> \",accuracy_score(y_true, y_pred)*100)\r\n",
        "    print(\"MCC\", matthews_corrcoef(y_true, y_pred))\r\n",
        "    print(metrics.classification_report(y_true, y_pred))\r\n",
        "    print()"
      ],
      "execution_count": null,
      "outputs": [
        {
          "output_type": "stream",
          "text": [
            "# Tuning hyper-parameters for accuracy\n",
            "\n",
            "Best parameters set found on development set:\n",
            "\n",
            "{'max_depth': 30, 'n_estimators': 400}\n",
            "\n",
            "Grid scores on development set:\n",
            "\n",
            "0.823 (+/-0.002) for {'max_depth': 10, 'n_estimators': 50}\n",
            "0.828 (+/-0.005) for {'max_depth': 10, 'n_estimators': 100}\n",
            "0.830 (+/-0.006) for {'max_depth': 10, 'n_estimators': 150}\n",
            "0.831 (+/-0.005) for {'max_depth': 10, 'n_estimators': 200}\n",
            "0.831 (+/-0.004) for {'max_depth': 10, 'n_estimators': 300}\n",
            "0.832 (+/-0.004) for {'max_depth': 10, 'n_estimators': 400}\n",
            "0.833 (+/-0.003) for {'max_depth': 10, 'n_estimators': 500}\n",
            "0.849 (+/-0.003) for {'max_depth': 20, 'n_estimators': 50}\n",
            "0.854 (+/-0.003) for {'max_depth': 20, 'n_estimators': 100}\n",
            "0.856 (+/-0.004) for {'max_depth': 20, 'n_estimators': 150}\n",
            "0.857 (+/-0.004) for {'max_depth': 20, 'n_estimators': 200}\n",
            "0.859 (+/-0.004) for {'max_depth': 20, 'n_estimators': 300}\n",
            "0.859 (+/-0.003) for {'max_depth': 20, 'n_estimators': 400}\n",
            "0.860 (+/-0.003) for {'max_depth': 20, 'n_estimators': 500}\n",
            "0.850 (+/-0.005) for {'max_depth': 30, 'n_estimators': 50}\n",
            "0.854 (+/-0.004) for {'max_depth': 30, 'n_estimators': 100}\n",
            "0.858 (+/-0.004) for {'max_depth': 30, 'n_estimators': 150}\n",
            "0.859 (+/-0.002) for {'max_depth': 30, 'n_estimators': 200}\n",
            "0.860 (+/-0.003) for {'max_depth': 30, 'n_estimators': 300}\n",
            "0.861 (+/-0.003) for {'max_depth': 30, 'n_estimators': 400}\n",
            "0.861 (+/-0.004) for {'max_depth': 30, 'n_estimators': 500}\n",
            "0.850 (+/-0.006) for {'max_depth': 40, 'n_estimators': 50}\n",
            "0.855 (+/-0.004) for {'max_depth': 40, 'n_estimators': 100}\n",
            "0.858 (+/-0.004) for {'max_depth': 40, 'n_estimators': 150}\n",
            "0.859 (+/-0.003) for {'max_depth': 40, 'n_estimators': 200}\n",
            "0.860 (+/-0.003) for {'max_depth': 40, 'n_estimators': 300}\n",
            "0.861 (+/-0.003) for {'max_depth': 40, 'n_estimators': 400}\n",
            "0.861 (+/-0.003) for {'max_depth': 40, 'n_estimators': 500}\n",
            "\n",
            "Detailed classification report:\n",
            "\n",
            "The model is trained on the full development set.\n",
            "The scores are computed on the full evaluation set.\n",
            "\n",
            "Accuracy Score ->  75.39813289401428\n",
            "MCC 0.5281323492859495\n",
            "              precision    recall  f1-score   support\n",
            "\n",
            "           0       0.85      0.62      0.72       912\n",
            "           1       0.70      0.89      0.78       909\n",
            "\n",
            "    accuracy                           0.75      1821\n",
            "   macro avg       0.77      0.75      0.75      1821\n",
            "weighted avg       0.77      0.75      0.75      1821\n",
            "\n",
            "\n"
          ],
          "name": "stdout"
        }
      ]
    }
  ]
}